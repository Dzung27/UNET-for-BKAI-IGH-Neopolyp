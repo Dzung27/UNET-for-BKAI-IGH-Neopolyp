{
 "cells": [
  {
   "cell_type": "code",
   "execution_count": 1,
   "metadata": {},
   "outputs": [
    {
     "name": "stderr",
     "output_type": "stream",
     "text": [
      "C:\\Users\\ADMIN\\AppData\\Local\\Packages\\PythonSoftwareFoundation.Python.3.11_qbz5n2kfra8p0\\LocalCache\\local-packages\\Python311\\site-packages\\tqdm\\auto.py:21: TqdmWarning: IProgress not found. Please update jupyter and ipywidgets. See https://ipywidgets.readthedocs.io/en/stable/user_install.html\n",
      "  from .autonotebook import tqdm as notebook_tqdm\n"
     ]
    }
   ],
   "source": [
    "import os\n",
    "import pandas as pd\n",
    "import numpy as np\n",
    "import cv2\n",
    "from torchvision.io import read_image\n",
    "import matplotlib.pyplot as plt\n",
    "from torch.utils.data import Dataset, random_split, DataLoader\n",
    "import albumentations as A\n",
    "from albumentations.pytorch.transforms import ToTensorV2\n",
    "\n",
    "from torchvision.transforms import ToTensor\n",
    "from PIL import Image\n",
    "import os\n",
    "\n",
    "import torch\n",
    "import torch.nn as nn\n",
    "import torch.optim as optim\n",
    "import torchvision \n",
    "from torchvision import transforms\n",
    "from torchinfo import summary\n",
    "import timm\n",
    "import segmentation_models_pytorch as smp\n",
    "import wandb"
   ]
  },
  {
   "cell_type": "code",
   "execution_count": 2,
   "metadata": {},
   "outputs": [],
   "source": [
    "class DatasetCustom(Dataset):\n",
    "    def __init__(self, img_dir, label_dir, resize=None, transform=None):\n",
    "        self.img_dir = img_dir\n",
    "        self.label_dir = label_dir\n",
    "        self.resize = resize\n",
    "        self.transform = transform\n",
    "        self.images = os.listdir(self.img_dir)\n",
    "\n",
    "    def __len__(self):\n",
    "        return len(self.images)\n",
    "    \n",
    "    def read_mask(self, mask_path):\n",
    "        image = cv2.imread(mask_path)\n",
    "        image = cv2.resize(image, self.resize)\n",
    "        image = cv2.cvtColor(image, cv2.COLOR_BGR2HSV)\n",
    "\n",
    "        lower_red1 = np.array([0, 100, 20])\n",
    "        upper_red1 = np.array([10, 255, 255])\n",
    "        lower_red2 = np.array([160,100,20])\n",
    "        upper_red2 = np.array([179,255,255])\n",
    "        \n",
    "        lower_mask_red = cv2.inRange(image, lower_red1, upper_red1)\n",
    "        upper_mask_red = cv2.inRange(image, lower_red2, upper_red2)\n",
    "        \n",
    "        red_mask = lower_mask_red + upper_mask_red\n",
    "        red_mask[red_mask != 0] = 1\n",
    "\n",
    "        green_mask = cv2.inRange(image, (36, 25, 25), (70, 255, 255))\n",
    "        green_mask[green_mask != 0] = 2\n",
    "\n",
    "        full_mask = cv2.bitwise_or(red_mask, green_mask)\n",
    "        full_mask = np.expand_dims(full_mask, axis=-1) \n",
    "        full_mask = full_mask.astype(np.uint8)\n",
    "        \n",
    "        return full_mask\n",
    "\n",
    "    def __getitem__(self, idx):\n",
    "        img_path = os.path.join(self.img_dir, self.images[idx])\n",
    "        label_path = os.path.join(self.label_dir, self.images[idx])\n",
    "        image = cv2.imread(img_path)  #  BGR\n",
    "        image = cv2.cvtColor(image, cv2.COLOR_BGR2RGB) # Convert to RGB\n",
    "        label = self.read_mask(label_path)  \n",
    "        image = cv2.resize(image, self.resize)\n",
    "        if self.transform:\n",
    "            image = self.transform(image)\n",
    "            \n",
    "        return image, label"
   ]
  },
  {
   "cell_type": "code",
   "execution_count": 3,
   "metadata": {},
   "outputs": [
    {
     "name": "stdout",
     "output_type": "stream",
     "text": [
      "1000\n"
     ]
    }
   ],
   "source": [
    "images_path = r'C:\\Users\\ADMIN\\Desktop\\Unet Dataset\\train'  # Use raw string to avoid escape issues\n",
    "image_path = []\n",
    "TRAIN_DIR = r'C:\\Users\\ADMIN\\Desktop\\Unet Dataset\\train'\n",
    "\n",
    "for root, dirs, files in os.walk(TRAIN_DIR):\n",
    "    for file in files:\n",
    "        path = os.path.join(root, file)\n",
    "        image_path.append(path)\n",
    "\n",
    "print(len(image_path))"
   ]
  },
  {
   "cell_type": "code",
   "execution_count": 4,
   "metadata": {},
   "outputs": [
    {
     "data": {
      "text/plain": [
       "1000"
      ]
     },
     "execution_count": 4,
     "metadata": {},
     "output_type": "execute_result"
    }
   ],
   "source": [
    "mask_path = []\n",
    "TRAIN_MASK_DIR = r'C:\\Users\\ADMIN\\Desktop\\Unet Dataset\\train_gt'\n",
    "for root, dirs, files in os.walk(TRAIN_MASK_DIR):\n",
    "    for file in files:\n",
    "        path = os.path.join(root,file)\n",
    "        mask_path.append(path)\n",
    "        \n",
    "len(mask_path)"
   ]
  },
  {
   "cell_type": "code",
   "execution_count": 5,
   "metadata": {},
   "outputs": [],
   "source": [
    "dataset = DatasetCustom(img_dir= TRAIN_DIR,\n",
    "                             label_dir= TRAIN_MASK_DIR,\n",
    "                             resize= (256,256),\n",
    "                             transform = None)"
   ]
  },
  {
   "cell_type": "code",
   "execution_count": 6,
   "metadata": {},
   "outputs": [],
   "source": [
    "batch_size = 8\n",
    "images_data = []\n",
    "labels_data = []\n",
    "for x,y in dataset:\n",
    "    images_data.append(x)\n",
    "    labels_data.append(y)"
   ]
  },
  {
   "cell_type": "code",
   "execution_count": 7,
   "metadata": {},
   "outputs": [],
   "source": [
    "import segmentation_models_pytorch as smp\n",
    "\n",
    "model = smp.UnetPlusPlus(\n",
    "    encoder_name=\"resnet34\",        \n",
    "    encoder_weights=\"imagenet\",     \n",
    "    in_channels=3,                  \n",
    "    classes=3     \n",
    ")"
   ]
  },
  {
   "cell_type": "code",
   "execution_count": 8,
   "metadata": {},
   "outputs": [],
   "source": [
    "class CustomDataset(Dataset):\n",
    "    def __init__(self, data, targets, transform=None):\n",
    "        self.data = data\n",
    "        self.targets = targets\n",
    "        self.transform = transform\n",
    "\n",
    "    def __getitem__(self, index):\n",
    "        image = self.data[index]\n",
    "        label = self.targets[index]\n",
    "        assert image.shape[:2] == label.shape[:2]\n",
    "        if self.transform:\n",
    "            transformed = self.transform(image=image, mask=label)\n",
    "            image = transformed['image'].float()\n",
    "            label = transformed['mask'].float()\n",
    "            label = label.permute(2, 0, 1)\n",
    "        return image, label\n",
    "    \n",
    "    def __len__(self):\n",
    "        return len(self.data)"
   ]
  },
  {
   "cell_type": "code",
   "execution_count": 9,
   "metadata": {},
   "outputs": [
    {
     "name": "stderr",
     "output_type": "stream",
     "text": [
      "C:\\Users\\ADMIN\\AppData\\Local\\Temp\\ipykernel_21736\\2967140623.py:4: UserWarning: Argument 'eps' is not valid and will be ignored.\n",
      "  A.RandomGamma (gamma_limit=(70, 130), eps=None, always_apply=False, p=0.2),\n"
     ]
    }
   ],
   "source": [
    "train_transformation = A.Compose([\n",
    "    A.HorizontalFlip(p=0.4),\n",
    "    A.VerticalFlip(p=0.4),\n",
    "    A.RandomGamma (gamma_limit=(70, 130), eps=None, always_apply=False, p=0.2),\n",
    "    A.RGBShift(p=0.3, r_shift_limit=10, g_shift_limit=10, b_shift_limit=10),\n",
    "    A.Normalize(mean=(0.485, 0.456, 0.406), std=(0.229, 0.224, 0.225)),\n",
    "    ToTensorV2(),\n",
    "])\n",
    "\n",
    "val_transformation = A.Compose([\n",
    "    A.Normalize(mean=(0.485, 0.456, 0.406),std=(0.229, 0.224, 0.225)),\n",
    "    ToTensorV2(),\n",
    "])"
   ]
  },
  {
   "cell_type": "code",
   "execution_count": 10,
   "metadata": {},
   "outputs": [],
   "source": [
    "train_size = int(0.8 * len(images_data))\n",
    "val_size = len(images_data) - train_size\n",
    "train_dataset = CustomDataset(images_data[:train_size], labels_data[:train_size], transform=train_transformation)\n",
    "val_dataset = CustomDataset(images_data[train_size:], labels_data[train_size:], transform=val_transformation)\n",
    "\n",
    "train_loader = DataLoader(train_dataset, batch_size=batch_size, shuffle=True)\n",
    "val_loader = DataLoader(val_dataset, batch_size=batch_size, shuffle=True)"
   ]
  },
  {
   "cell_type": "code",
   "execution_count": 11,
   "metadata": {},
   "outputs": [],
   "source": [
    "learning_rate = 0.0001\n",
    "optimizer = optim.Adam(model.parameters(), lr=learning_rate)"
   ]
  },
  {
   "cell_type": "code",
   "execution_count": 12,
   "metadata": {},
   "outputs": [],
   "source": [
    "color_dict= {0: (0, 0, 0),\n",
    "             1: (255, 0, 0),\n",
    "             2: (0, 255, 0)}\n",
    "def mask_to_rgb(mask, color_dict):\n",
    "    output = np.zeros((mask.shape[0], mask.shape[1], 3))\n",
    "\n",
    "    for k in color_dict.keys():\n",
    "        output[mask==k] = color_dict[k]\n",
    "\n",
    "    return np.uint8(output)    "
   ]
  },
  {
   "cell_type": "code",
   "execution_count": 14,
   "metadata": {},
   "outputs": [
    {
     "name": "stderr",
     "output_type": "stream",
     "text": [
      "\u001b[34m\u001b[1mwandb\u001b[0m: Using wandb-core as the SDK backend. Please refer to https://wandb.me/wandb-core for more information.\n",
      "\u001b[34m\u001b[1mwandb\u001b[0m: W&B API key is configured. Use \u001b[1m`wandb login --relogin`\u001b[0m to force relogin\n",
      "\u001b[34m\u001b[1mwandb\u001b[0m: \u001b[33mWARNING\u001b[0m If you're specifying your api key in code, ensure this code is not shared publicly.\n",
      "\u001b[34m\u001b[1mwandb\u001b[0m: \u001b[33mWARNING\u001b[0m Consider setting the WANDB_API_KEY environment variable, or running `wandb login` from the command line.\n",
      "\u001b[34m\u001b[1mwandb\u001b[0m: Appending key for api.wandb.ai to your netrc file: C:\\Users\\ADMIN\\_netrc\n",
      "\u001b[34m\u001b[1mwandb\u001b[0m: Currently logged in as: \u001b[33mdungngotrung27\u001b[0m (\u001b[33mdungngotrung27-hanoi-university-of-science-and-technology\u001b[0m). Use \u001b[1m`wandb login --relogin`\u001b[0m to force relogin\n"
     ]
    },
    {
     "data": {
      "text/html": [
       "Tracking run with wandb version 0.18.5"
      ],
      "text/plain": [
       "<IPython.core.display.HTML object>"
      ]
     },
     "metadata": {},
     "output_type": "display_data"
    },
    {
     "data": {
      "text/html": [
       "Run data is saved locally in <code>c:\\Users\\ADMIN\\AppData\\Local\\Programs\\Microsoft VS Code\\wandb\\run-20241125_183323-kfqdmhh8</code>"
      ],
      "text/plain": [
       "<IPython.core.display.HTML object>"
      ]
     },
     "metadata": {},
     "output_type": "display_data"
    },
    {
     "data": {
      "text/html": [
       "Syncing run <strong><a href='https://wandb.ai/dungngotrung27-hanoi-university-of-science-and-technology/PolypSegment/runs/kfqdmhh8' target=\"_blank\">colorful-brook-1</a></strong> to <a href='https://wandb.ai/dungngotrung27-hanoi-university-of-science-and-technology/PolypSegment' target=\"_blank\">Weights & Biases</a> (<a href='https://wandb.me/run' target=\"_blank\">docs</a>)<br/>"
      ],
      "text/plain": [
       "<IPython.core.display.HTML object>"
      ]
     },
     "metadata": {},
     "output_type": "display_data"
    },
    {
     "data": {
      "text/html": [
       " View project at <a href='https://wandb.ai/dungngotrung27-hanoi-university-of-science-and-technology/PolypSegment' target=\"_blank\">https://wandb.ai/dungngotrung27-hanoi-university-of-science-and-technology/PolypSegment</a>"
      ],
      "text/plain": [
       "<IPython.core.display.HTML object>"
      ]
     },
     "metadata": {},
     "output_type": "display_data"
    },
    {
     "data": {
      "text/html": [
       " View run at <a href='https://wandb.ai/dungngotrung27-hanoi-university-of-science-and-technology/PolypSegment/runs/kfqdmhh8' target=\"_blank\">https://wandb.ai/dungngotrung27-hanoi-university-of-science-and-technology/PolypSegment/runs/kfqdmhh8</a>"
      ],
      "text/plain": [
       "<IPython.core.display.HTML object>"
      ]
     },
     "metadata": {},
     "output_type": "display_data"
    },
    {
     "data": {
      "text/html": [
       "<button onClick=\"this.nextSibling.style.display='block';this.style.display='none';\">Display W&B run</button><iframe src='https://wandb.ai/dungngotrung27-hanoi-university-of-science-and-technology/PolypSegment/runs/kfqdmhh8?jupyter=true' style='border:none;width:100%;height:420px;display:none;'></iframe>"
      ],
      "text/plain": [
       "<wandb.sdk.wandb_run.Run at 0x1ce60279d50>"
      ]
     },
     "execution_count": 14,
     "metadata": {},
     "output_type": "execute_result"
    }
   ],
   "source": [
    "import wandb\n",
    "# Log in to Weights and Biases\n",
    "wandb.login(key=\"d339853acf2dba7c5e2400b0ba87c21dfeef9081\")\n",
    "# Initialize a new run\n",
    "wandb.init(\n",
    "    project=\"PolypSegment\"\n",
    ")\n"
   ]
  },
  {
   "cell_type": "code",
   "execution_count": 15,
   "metadata": {},
   "outputs": [
    {
     "name": "stderr",
     "output_type": "stream",
     "text": [
      "Total Progress:   0%|          | 0/250 [00:00<?, ?it/s]"
     ]
    },
    {
     "name": "stdout",
     "output_type": "stream",
     "text": [
      "Epoch [1/250], Loss: 0.3442642903\n"
     ]
    },
    {
     "name": "stderr",
     "output_type": "stream",
     "text": [
      "Total Progress:   0%|          | 1/250 [00:20<1:26:32, 20.85s/it]"
     ]
    },
    {
     "name": "stdout",
     "output_type": "stream",
     "text": [
      "Epoch [2/250], Loss: 0.2024547732\n"
     ]
    },
    {
     "name": "stderr",
     "output_type": "stream",
     "text": [
      "Total Progress:   1%|          | 2/250 [00:50<1:48:40, 26.29s/it]"
     ]
    },
    {
     "name": "stdout",
     "output_type": "stream",
     "text": [
      "Epoch [3/250], Loss: 0.1400948972\n"
     ]
    },
    {
     "name": "stderr",
     "output_type": "stream",
     "text": [
      "Total Progress:   1%|          | 3/250 [01:11<1:37:25, 23.67s/it]"
     ]
    },
    {
     "name": "stdout",
     "output_type": "stream",
     "text": [
      "Epoch [4/250], Loss: 0.1102207294\n"
     ]
    },
    {
     "name": "stderr",
     "output_type": "stream",
     "text": [
      "Total Progress:   2%|▏         | 4/250 [01:33<1:33:52, 22.89s/it]"
     ]
    },
    {
     "name": "stdout",
     "output_type": "stream",
     "text": [
      "Epoch [5/250], Loss: 0.0916613486\n"
     ]
    },
    {
     "name": "stderr",
     "output_type": "stream",
     "text": [
      "Total Progress:   2%|▏         | 5/250 [01:55<1:32:43, 22.71s/it]"
     ]
    },
    {
     "name": "stdout",
     "output_type": "stream",
     "text": [
      "Epoch [6/250], Loss: 0.0782496171\n"
     ]
    },
    {
     "name": "stderr",
     "output_type": "stream",
     "text": [
      "Total Progress:   2%|▏         | 6/250 [02:18<1:32:28, 22.74s/it]"
     ]
    },
    {
     "name": "stdout",
     "output_type": "stream",
     "text": [
      "Epoch [7/250], Loss: 0.0665314622\n"
     ]
    },
    {
     "name": "stderr",
     "output_type": "stream",
     "text": [
      "Total Progress:   3%|▎         | 7/250 [02:41<1:33:01, 22.97s/it]"
     ]
    },
    {
     "name": "stdout",
     "output_type": "stream",
     "text": [
      "Epoch [8/250], Loss: 0.0630079520\n"
     ]
    },
    {
     "name": "stderr",
     "output_type": "stream",
     "text": [
      "Total Progress:   3%|▎         | 8/250 [03:05<1:33:13, 23.11s/it]"
     ]
    },
    {
     "name": "stdout",
     "output_type": "stream",
     "text": [
      "Epoch [9/250], Loss: 0.0566123482\n"
     ]
    },
    {
     "name": "stderr",
     "output_type": "stream",
     "text": [
      "Total Progress:   4%|▍         | 10/250 [03:52<1:32:58, 23.25s/it]"
     ]
    },
    {
     "name": "stdout",
     "output_type": "stream",
     "text": [
      "Epoch [10/250], Loss: 0.0625760812\n",
      "Epoch [11/250], Loss: 0.0537840825\n"
     ]
    },
    {
     "name": "stderr",
     "output_type": "stream",
     "text": [
      "Total Progress:   4%|▍         | 11/250 [04:15<1:33:09, 23.39s/it]"
     ]
    },
    {
     "name": "stdout",
     "output_type": "stream",
     "text": [
      "Epoch [12/250], Loss: 0.0479868312\n"
     ]
    },
    {
     "name": "stderr",
     "output_type": "stream",
     "text": [
      "Total Progress:   5%|▌         | 13/250 [05:02<1:32:33, 23.43s/it]"
     ]
    },
    {
     "name": "stdout",
     "output_type": "stream",
     "text": [
      "Epoch [13/250], Loss: 0.0518787359\n"
     ]
    },
    {
     "name": "stderr",
     "output_type": "stream",
     "text": [
      "Total Progress:   6%|▌         | 14/250 [05:26<1:32:03, 23.41s/it]"
     ]
    },
    {
     "name": "stdout",
     "output_type": "stream",
     "text": [
      "Epoch [14/250], Loss: 0.0508180507\n"
     ]
    },
    {
     "name": "stderr",
     "output_type": "stream",
     "text": [
      "Total Progress:   6%|▌         | 15/250 [05:49<1:31:35, 23.39s/it]"
     ]
    },
    {
     "name": "stdout",
     "output_type": "stream",
     "text": [
      "Epoch [15/250], Loss: 0.0534189597\n",
      "Epoch [16/250], Loss: 0.0478809381\n"
     ]
    },
    {
     "name": "stderr",
     "output_type": "stream",
     "text": [
      "Total Progress:   7%|▋         | 17/250 [06:36<1:31:24, 23.54s/it]"
     ]
    },
    {
     "name": "stdout",
     "output_type": "stream",
     "text": [
      "Epoch [17/250], Loss: 0.0656827388\n",
      "Epoch [18/250], Loss: 0.0460725296\n"
     ]
    },
    {
     "name": "stderr",
     "output_type": "stream",
     "text": [
      "Total Progress:   8%|▊         | 19/250 [07:24<1:30:48, 23.59s/it]"
     ]
    },
    {
     "name": "stdout",
     "output_type": "stream",
     "text": [
      "Epoch [19/250], Loss: 0.0503060634\n"
     ]
    },
    {
     "name": "stderr",
     "output_type": "stream",
     "text": [
      "Total Progress:   8%|▊         | 20/250 [07:49<1:32:12, 24.06s/it]"
     ]
    },
    {
     "name": "stdout",
     "output_type": "stream",
     "text": [
      "Epoch [20/250], Loss: 0.0481987645\n",
      "Epoch [21/250], Loss: 0.0458109416\n"
     ]
    },
    {
     "name": "stderr",
     "output_type": "stream",
     "text": [
      "Total Progress:   8%|▊         | 21/250 [08:14<1:32:52, 24.33s/it]"
     ]
    },
    {
     "name": "stdout",
     "output_type": "stream",
     "text": [
      "Epoch [22/250], Loss: 0.0454637467\n"
     ]
    },
    {
     "name": "stderr",
     "output_type": "stream",
     "text": [
      "Total Progress:   9%|▉         | 22/250 [08:38<1:32:02, 24.22s/it]"
     ]
    },
    {
     "name": "stdout",
     "output_type": "stream",
     "text": [
      "Epoch [23/250], Loss: 0.0443865215\n"
     ]
    },
    {
     "name": "stderr",
     "output_type": "stream",
     "text": [
      "Total Progress:   9%|▉         | 23/250 [09:02<1:31:11, 24.10s/it]"
     ]
    },
    {
     "name": "stdout",
     "output_type": "stream",
     "text": [
      "Epoch [24/250], Loss: 0.0421025200\n"
     ]
    },
    {
     "name": "stderr",
     "output_type": "stream",
     "text": [
      "Total Progress:  10%|▉         | 24/250 [09:26<1:30:33, 24.04s/it]"
     ]
    },
    {
     "name": "stdout",
     "output_type": "stream",
     "text": [
      "Epoch [25/250], Loss: 0.0408211216\n"
     ]
    },
    {
     "name": "stderr",
     "output_type": "stream",
     "text": [
      "Total Progress:  10%|█         | 26/250 [10:16<1:31:06, 24.40s/it]"
     ]
    },
    {
     "name": "stdout",
     "output_type": "stream",
     "text": [
      "Epoch [26/250], Loss: 0.0419605146\n"
     ]
    },
    {
     "name": "stderr",
     "output_type": "stream",
     "text": [
      "Total Progress:  11%|█         | 27/250 [10:39<1:29:42, 24.14s/it]"
     ]
    },
    {
     "name": "stdout",
     "output_type": "stream",
     "text": [
      "Epoch [27/250], Loss: 0.0412168872\n"
     ]
    },
    {
     "name": "stderr",
     "output_type": "stream",
     "text": [
      "Total Progress:  11%|█         | 28/250 [11:03<1:28:34, 23.94s/it]"
     ]
    },
    {
     "name": "stdout",
     "output_type": "stream",
     "text": [
      "Epoch [28/250], Loss: 0.0434779948\n"
     ]
    },
    {
     "name": "stderr",
     "output_type": "stream",
     "text": [
      "Total Progress:  12%|█▏        | 29/250 [11:26<1:27:44, 23.82s/it]"
     ]
    },
    {
     "name": "stdout",
     "output_type": "stream",
     "text": [
      "Epoch [29/250], Loss: 0.0413705374\n"
     ]
    },
    {
     "name": "stderr",
     "output_type": "stream",
     "text": [
      "Total Progress:  12%|█▏        | 30/250 [11:50<1:26:59, 23.72s/it]"
     ]
    },
    {
     "name": "stdout",
     "output_type": "stream",
     "text": [
      "Epoch [30/250], Loss: 0.0455298787\n"
     ]
    },
    {
     "name": "stderr",
     "output_type": "stream",
     "text": [
      "Total Progress:  12%|█▏        | 31/250 [12:13<1:26:21, 23.66s/it]"
     ]
    },
    {
     "name": "stdout",
     "output_type": "stream",
     "text": [
      "Epoch [31/250], Loss: 0.0410769919\n"
     ]
    },
    {
     "name": "stderr",
     "output_type": "stream",
     "text": [
      "Total Progress:  13%|█▎        | 32/250 [12:37<1:25:45, 23.60s/it]"
     ]
    },
    {
     "name": "stdout",
     "output_type": "stream",
     "text": [
      "Epoch [32/250], Loss: 0.0423990686\n"
     ]
    },
    {
     "name": "stderr",
     "output_type": "stream",
     "text": [
      "Total Progress:  13%|█▎        | 33/250 [13:00<1:25:12, 23.56s/it]"
     ]
    },
    {
     "name": "stdout",
     "output_type": "stream",
     "text": [
      "Epoch [33/250], Loss: 0.0419164361\n"
     ]
    },
    {
     "name": "stderr",
     "output_type": "stream",
     "text": [
      "Total Progress:  14%|█▎        | 34/250 [13:24<1:24:47, 23.55s/it]"
     ]
    },
    {
     "name": "stdout",
     "output_type": "stream",
     "text": [
      "Epoch [34/250], Loss: 0.0433890699\n"
     ]
    },
    {
     "name": "stderr",
     "output_type": "stream",
     "text": [
      "Total Progress:  14%|█▍        | 35/250 [13:47<1:24:19, 23.53s/it]"
     ]
    },
    {
     "name": "stdout",
     "output_type": "stream",
     "text": [
      "Epoch [35/250], Loss: 0.0491302033\n"
     ]
    },
    {
     "name": "stderr",
     "output_type": "stream",
     "text": [
      "Total Progress:  14%|█▍        | 36/250 [14:11<1:24:01, 23.56s/it]"
     ]
    },
    {
     "name": "stdout",
     "output_type": "stream",
     "text": [
      "Epoch [36/250], Loss: 0.0506836602\n"
     ]
    },
    {
     "name": "stderr",
     "output_type": "stream",
     "text": [
      "Total Progress:  15%|█▍        | 37/250 [14:34<1:23:41, 23.57s/it]"
     ]
    },
    {
     "name": "stdout",
     "output_type": "stream",
     "text": [
      "Epoch [37/250], Loss: 0.0498890444\n"
     ]
    },
    {
     "name": "stderr",
     "output_type": "stream",
     "text": [
      "Total Progress:  15%|█▌        | 38/250 [14:58<1:23:36, 23.66s/it]"
     ]
    },
    {
     "name": "stdout",
     "output_type": "stream",
     "text": [
      "Epoch [38/250], Loss: 0.0608598799\n"
     ]
    },
    {
     "name": "stderr",
     "output_type": "stream",
     "text": [
      "Total Progress:  16%|█▌        | 39/250 [15:22<1:23:09, 23.65s/it]"
     ]
    },
    {
     "name": "stdout",
     "output_type": "stream",
     "text": [
      "Epoch [39/250], Loss: 0.0494903225\n"
     ]
    },
    {
     "name": "stderr",
     "output_type": "stream",
     "text": [
      "Total Progress:  16%|█▌        | 40/250 [15:46<1:22:48, 23.66s/it]"
     ]
    },
    {
     "name": "stdout",
     "output_type": "stream",
     "text": [
      "Epoch [40/250], Loss: 0.0505968909\n"
     ]
    },
    {
     "name": "stderr",
     "output_type": "stream",
     "text": [
      "Total Progress:  16%|█▋        | 41/250 [16:09<1:22:35, 23.71s/it]"
     ]
    },
    {
     "name": "stdout",
     "output_type": "stream",
     "text": [
      "Epoch [41/250], Loss: 0.0495285617\n"
     ]
    },
    {
     "name": "stderr",
     "output_type": "stream",
     "text": [
      "Total Progress:  17%|█▋        | 42/250 [16:33<1:22:29, 23.80s/it]"
     ]
    },
    {
     "name": "stdout",
     "output_type": "stream",
     "text": [
      "Epoch [42/250], Loss: 0.0470975040\n"
     ]
    },
    {
     "name": "stderr",
     "output_type": "stream",
     "text": [
      "Total Progress:  17%|█▋        | 43/250 [16:58<1:22:45, 23.99s/it]"
     ]
    },
    {
     "name": "stdout",
     "output_type": "stream",
     "text": [
      "Epoch [43/250], Loss: 0.0461264960\n"
     ]
    },
    {
     "name": "stderr",
     "output_type": "stream",
     "text": [
      "Total Progress:  18%|█▊        | 44/250 [17:22<1:22:55, 24.15s/it]"
     ]
    },
    {
     "name": "stdout",
     "output_type": "stream",
     "text": [
      "Epoch [44/250], Loss: 0.0474383109\n"
     ]
    },
    {
     "name": "stderr",
     "output_type": "stream",
     "text": [
      "Total Progress:  18%|█▊        | 45/250 [17:47<1:22:35, 24.17s/it]"
     ]
    },
    {
     "name": "stdout",
     "output_type": "stream",
     "text": [
      "Epoch [45/250], Loss: 0.0521569348\n"
     ]
    },
    {
     "name": "stderr",
     "output_type": "stream",
     "text": [
      "Total Progress:  18%|█▊        | 46/250 [18:11<1:22:17, 24.20s/it]"
     ]
    },
    {
     "name": "stdout",
     "output_type": "stream",
     "text": [
      "Epoch [46/250], Loss: 0.0483939311\n"
     ]
    },
    {
     "name": "stderr",
     "output_type": "stream",
     "text": [
      "Total Progress:  19%|█▉        | 47/250 [18:35<1:21:58, 24.23s/it]"
     ]
    },
    {
     "name": "stdout",
     "output_type": "stream",
     "text": [
      "Epoch [47/250], Loss: 0.0531959229\n"
     ]
    },
    {
     "name": "stderr",
     "output_type": "stream",
     "text": [
      "Total Progress:  19%|█▉        | 48/250 [18:59<1:21:39, 24.25s/it]"
     ]
    },
    {
     "name": "stdout",
     "output_type": "stream",
     "text": [
      "Epoch [48/250], Loss: 0.0500304889\n"
     ]
    },
    {
     "name": "stderr",
     "output_type": "stream",
     "text": [
      "Total Progress:  20%|█▉        | 49/250 [19:24<1:21:14, 24.25s/it]"
     ]
    },
    {
     "name": "stdout",
     "output_type": "stream",
     "text": [
      "Epoch [49/250], Loss: 0.0479898801\n"
     ]
    },
    {
     "name": "stderr",
     "output_type": "stream",
     "text": [
      "Total Progress:  20%|██        | 50/250 [19:48<1:21:00, 24.30s/it]"
     ]
    },
    {
     "name": "stdout",
     "output_type": "stream",
     "text": [
      "Epoch [50/250], Loss: 0.0510245834\n"
     ]
    },
    {
     "name": "stderr",
     "output_type": "stream",
     "text": [
      "Total Progress:  20%|██        | 51/250 [20:13<1:21:04, 24.45s/it]"
     ]
    },
    {
     "name": "stdout",
     "output_type": "stream",
     "text": [
      "Epoch [51/250], Loss: 0.0524604944\n"
     ]
    },
    {
     "name": "stderr",
     "output_type": "stream",
     "text": [
      "Total Progress:  21%|██        | 52/250 [20:38<1:20:54, 24.52s/it]"
     ]
    },
    {
     "name": "stdout",
     "output_type": "stream",
     "text": [
      "Epoch [52/250], Loss: 0.0553571423\n"
     ]
    },
    {
     "name": "stderr",
     "output_type": "stream",
     "text": [
      "Total Progress:  21%|██        | 53/250 [21:02<1:20:27, 24.50s/it]"
     ]
    },
    {
     "name": "stdout",
     "output_type": "stream",
     "text": [
      "Epoch [53/250], Loss: 0.0547408796\n"
     ]
    },
    {
     "name": "stderr",
     "output_type": "stream",
     "text": [
      "Total Progress:  22%|██▏       | 54/250 [21:26<1:19:50, 24.44s/it]"
     ]
    },
    {
     "name": "stdout",
     "output_type": "stream",
     "text": [
      "Epoch [54/250], Loss: 0.0586196698\n"
     ]
    },
    {
     "name": "stderr",
     "output_type": "stream",
     "text": [
      "Total Progress:  22%|██▏       | 55/250 [21:51<1:19:37, 24.50s/it]"
     ]
    },
    {
     "name": "stdout",
     "output_type": "stream",
     "text": [
      "Epoch [55/250], Loss: 0.0532554684\n"
     ]
    },
    {
     "name": "stderr",
     "output_type": "stream",
     "text": [
      "Total Progress:  22%|██▏       | 56/250 [22:15<1:18:54, 24.40s/it]"
     ]
    },
    {
     "name": "stdout",
     "output_type": "stream",
     "text": [
      "Epoch [56/250], Loss: 0.0540195173\n"
     ]
    },
    {
     "name": "stderr",
     "output_type": "stream",
     "text": [
      "Total Progress:  23%|██▎       | 57/250 [22:39<1:18:12, 24.31s/it]"
     ]
    },
    {
     "name": "stdout",
     "output_type": "stream",
     "text": [
      "Epoch [57/250], Loss: 0.0550033803\n"
     ]
    },
    {
     "name": "stderr",
     "output_type": "stream",
     "text": [
      "Total Progress:  23%|██▎       | 58/250 [23:03<1:17:33, 24.24s/it]"
     ]
    },
    {
     "name": "stdout",
     "output_type": "stream",
     "text": [
      "Epoch [58/250], Loss: 0.0503820637\n"
     ]
    },
    {
     "name": "stderr",
     "output_type": "stream",
     "text": [
      "Total Progress:  24%|██▎       | 59/250 [23:27<1:17:02, 24.20s/it]"
     ]
    },
    {
     "name": "stdout",
     "output_type": "stream",
     "text": [
      "Epoch [59/250], Loss: 0.0533967636\n"
     ]
    },
    {
     "name": "stderr",
     "output_type": "stream",
     "text": [
      "Total Progress:  24%|██▍       | 60/250 [23:52<1:16:37, 24.20s/it]"
     ]
    },
    {
     "name": "stdout",
     "output_type": "stream",
     "text": [
      "Epoch [60/250], Loss: 0.0582170409\n"
     ]
    },
    {
     "name": "stderr",
     "output_type": "stream",
     "text": [
      "Total Progress:  24%|██▍       | 61/250 [24:16<1:16:17, 24.22s/it]"
     ]
    },
    {
     "name": "stdout",
     "output_type": "stream",
     "text": [
      "Epoch [61/250], Loss: 0.0564258234\n"
     ]
    },
    {
     "name": "stderr",
     "output_type": "stream",
     "text": [
      "Total Progress:  25%|██▍       | 62/250 [24:40<1:15:55, 24.23s/it]"
     ]
    },
    {
     "name": "stdout",
     "output_type": "stream",
     "text": [
      "Epoch [62/250], Loss: 0.0611992358\n"
     ]
    },
    {
     "name": "stderr",
     "output_type": "stream",
     "text": [
      "Total Progress:  25%|██▌       | 63/250 [25:04<1:15:30, 24.23s/it]"
     ]
    },
    {
     "name": "stdout",
     "output_type": "stream",
     "text": [
      "Epoch [63/250], Loss: 0.0572383463\n"
     ]
    },
    {
     "name": "stderr",
     "output_type": "stream",
     "text": [
      "Total Progress:  26%|██▌       | 64/250 [25:29<1:15:05, 24.22s/it]"
     ]
    },
    {
     "name": "stdout",
     "output_type": "stream",
     "text": [
      "Epoch [64/250], Loss: 0.0533954425\n"
     ]
    },
    {
     "name": "stderr",
     "output_type": "stream",
     "text": [
      "Total Progress:  26%|██▌       | 65/250 [25:53<1:14:42, 24.23s/it]"
     ]
    },
    {
     "name": "stdout",
     "output_type": "stream",
     "text": [
      "Epoch [65/250], Loss: 0.0566443722\n"
     ]
    },
    {
     "name": "stderr",
     "output_type": "stream",
     "text": [
      "Total Progress:  26%|██▋       | 66/250 [26:17<1:14:32, 24.31s/it]"
     ]
    },
    {
     "name": "stdout",
     "output_type": "stream",
     "text": [
      "Epoch [66/250], Loss: 0.0545180738\n"
     ]
    },
    {
     "name": "stderr",
     "output_type": "stream",
     "text": [
      "Total Progress:  27%|██▋       | 67/250 [26:42<1:14:16, 24.35s/it]"
     ]
    },
    {
     "name": "stdout",
     "output_type": "stream",
     "text": [
      "Epoch [67/250], Loss: 0.0543198749\n"
     ]
    },
    {
     "name": "stderr",
     "output_type": "stream",
     "text": [
      "Total Progress:  27%|██▋       | 68/250 [27:07<1:14:29, 24.56s/it]"
     ]
    },
    {
     "name": "stdout",
     "output_type": "stream",
     "text": [
      "Epoch [68/250], Loss: 0.0550773236\n"
     ]
    },
    {
     "name": "stderr",
     "output_type": "stream",
     "text": [
      "Total Progress:  28%|██▊       | 69/250 [27:33<1:15:33, 25.05s/it]"
     ]
    },
    {
     "name": "stdout",
     "output_type": "stream",
     "text": [
      "Epoch [69/250], Loss: 0.0557719063\n"
     ]
    },
    {
     "name": "stderr",
     "output_type": "stream",
     "text": [
      "Total Progress:  28%|██▊       | 70/250 [28:00<1:17:09, 25.72s/it]"
     ]
    },
    {
     "name": "stdout",
     "output_type": "stream",
     "text": [
      "Epoch [70/250], Loss: 0.0531747762\n"
     ]
    },
    {
     "name": "stderr",
     "output_type": "stream",
     "text": [
      "Total Progress:  28%|██▊       | 71/250 [28:27<1:17:56, 26.13s/it]"
     ]
    },
    {
     "name": "stdout",
     "output_type": "stream",
     "text": [
      "Epoch [71/250], Loss: 0.0580687939\n"
     ]
    },
    {
     "name": "stderr",
     "output_type": "stream",
     "text": [
      "Total Progress:  29%|██▉       | 72/250 [28:54<1:17:59, 26.29s/it]"
     ]
    },
    {
     "name": "stdout",
     "output_type": "stream",
     "text": [
      "Epoch [72/250], Loss: 0.0566073466\n"
     ]
    },
    {
     "name": "stderr",
     "output_type": "stream",
     "text": [
      "Total Progress:  29%|██▉       | 73/250 [29:21<1:18:18, 26.54s/it]"
     ]
    },
    {
     "name": "stdout",
     "output_type": "stream",
     "text": [
      "Epoch [73/250], Loss: 0.0556514792\n"
     ]
    },
    {
     "name": "stderr",
     "output_type": "stream",
     "text": [
      "Total Progress:  30%|██▉       | 74/250 [29:48<1:17:42, 26.49s/it]"
     ]
    },
    {
     "name": "stdout",
     "output_type": "stream",
     "text": [
      "Epoch [74/250], Loss: 0.0594367970\n"
     ]
    },
    {
     "name": "stderr",
     "output_type": "stream",
     "text": [
      "Total Progress:  30%|███       | 75/250 [30:15<1:18:00, 26.75s/it]"
     ]
    },
    {
     "name": "stdout",
     "output_type": "stream",
     "text": [
      "Epoch [75/250], Loss: 0.0543681753\n"
     ]
    },
    {
     "name": "stderr",
     "output_type": "stream",
     "text": [
      "Total Progress:  30%|███       | 76/250 [30:42<1:17:33, 26.74s/it]"
     ]
    },
    {
     "name": "stdout",
     "output_type": "stream",
     "text": [
      "Epoch [76/250], Loss: 0.0560291497\n"
     ]
    },
    {
     "name": "stderr",
     "output_type": "stream",
     "text": [
      "Total Progress:  31%|███       | 77/250 [31:09<1:17:45, 26.97s/it]"
     ]
    },
    {
     "name": "stdout",
     "output_type": "stream",
     "text": [
      "Epoch [77/250], Loss: 0.0556047586\n"
     ]
    },
    {
     "name": "stderr",
     "output_type": "stream",
     "text": [
      "Total Progress:  31%|███       | 78/250 [31:37<1:17:46, 27.13s/it]"
     ]
    },
    {
     "name": "stdout",
     "output_type": "stream",
     "text": [
      "Epoch [78/250], Loss: 0.0578284014\n"
     ]
    },
    {
     "name": "stderr",
     "output_type": "stream",
     "text": [
      "Total Progress:  32%|███▏      | 79/250 [32:04<1:17:44, 27.28s/it]"
     ]
    },
    {
     "name": "stdout",
     "output_type": "stream",
     "text": [
      "Epoch [79/250], Loss: 0.0547219458\n"
     ]
    },
    {
     "name": "stderr",
     "output_type": "stream",
     "text": [
      "Total Progress:  32%|███▏      | 80/250 [32:32<1:17:46, 27.45s/it]"
     ]
    },
    {
     "name": "stdout",
     "output_type": "stream",
     "text": [
      "Epoch [80/250], Loss: 0.0574473320\n"
     ]
    },
    {
     "name": "stderr",
     "output_type": "stream",
     "text": [
      "Total Progress:  32%|███▏      | 81/250 [33:00<1:17:43, 27.59s/it]"
     ]
    },
    {
     "name": "stdout",
     "output_type": "stream",
     "text": [
      "Epoch [81/250], Loss: 0.0496038110\n"
     ]
    },
    {
     "name": "stderr",
     "output_type": "stream",
     "text": [
      "Total Progress:  33%|███▎      | 82/250 [33:28<1:17:41, 27.75s/it]"
     ]
    },
    {
     "name": "stdout",
     "output_type": "stream",
     "text": [
      "Epoch [82/250], Loss: 0.0603763799\n"
     ]
    },
    {
     "name": "stderr",
     "output_type": "stream",
     "text": [
      "Total Progress:  33%|███▎      | 83/250 [33:57<1:17:58, 28.02s/it]"
     ]
    },
    {
     "name": "stdout",
     "output_type": "stream",
     "text": [
      "Epoch [83/250], Loss: 0.0610052760\n"
     ]
    },
    {
     "name": "stderr",
     "output_type": "stream",
     "text": [
      "Total Progress:  34%|███▎      | 84/250 [34:25<1:17:54, 28.16s/it]"
     ]
    },
    {
     "name": "stdout",
     "output_type": "stream",
     "text": [
      "Epoch [84/250], Loss: 0.0593703675\n"
     ]
    },
    {
     "name": "stderr",
     "output_type": "stream",
     "text": [
      "Total Progress:  34%|███▍      | 85/250 [34:53<1:17:13, 28.08s/it]"
     ]
    },
    {
     "name": "stdout",
     "output_type": "stream",
     "text": [
      "Epoch [85/250], Loss: 0.0536043562\n"
     ]
    },
    {
     "name": "stderr",
     "output_type": "stream",
     "text": [
      "Total Progress:  34%|███▍      | 86/250 [35:21<1:16:53, 28.13s/it]"
     ]
    },
    {
     "name": "stdout",
     "output_type": "stream",
     "text": [
      "Epoch [86/250], Loss: 0.0709050817\n"
     ]
    },
    {
     "name": "stderr",
     "output_type": "stream",
     "text": [
      "Total Progress:  35%|███▍      | 87/250 [35:49<1:16:19, 28.09s/it]"
     ]
    },
    {
     "name": "stdout",
     "output_type": "stream",
     "text": [
      "Epoch [87/250], Loss: 0.0658225521\n"
     ]
    },
    {
     "name": "stderr",
     "output_type": "stream",
     "text": [
      "Total Progress:  35%|███▌      | 88/250 [36:18<1:15:53, 28.11s/it]"
     ]
    },
    {
     "name": "stdout",
     "output_type": "stream",
     "text": [
      "Epoch [88/250], Loss: 0.0522736875\n"
     ]
    },
    {
     "name": "stderr",
     "output_type": "stream",
     "text": [
      "Total Progress:  36%|███▌      | 89/250 [36:45<1:14:47, 27.87s/it]"
     ]
    },
    {
     "name": "stdout",
     "output_type": "stream",
     "text": [
      "Epoch [89/250], Loss: 0.0588257609\n"
     ]
    },
    {
     "name": "stderr",
     "output_type": "stream",
     "text": [
      "Total Progress:  36%|███▌      | 90/250 [37:13<1:14:20, 27.88s/it]"
     ]
    },
    {
     "name": "stdout",
     "output_type": "stream",
     "text": [
      "Epoch [90/250], Loss: 0.0628060804\n"
     ]
    },
    {
     "name": "stderr",
     "output_type": "stream",
     "text": [
      "Total Progress:  36%|███▋      | 91/250 [37:41<1:13:54, 27.89s/it]"
     ]
    },
    {
     "name": "stdout",
     "output_type": "stream",
     "text": [
      "Epoch [91/250], Loss: 0.0577653307\n"
     ]
    },
    {
     "name": "stderr",
     "output_type": "stream",
     "text": [
      "Total Progress:  37%|███▋      | 92/250 [38:07<1:12:34, 27.56s/it]"
     ]
    },
    {
     "name": "stdout",
     "output_type": "stream",
     "text": [
      "Epoch [92/250], Loss: 0.0566109889\n"
     ]
    },
    {
     "name": "stderr",
     "output_type": "stream",
     "text": [
      "Total Progress:  37%|███▋      | 93/250 [38:34<1:11:34, 27.35s/it]"
     ]
    },
    {
     "name": "stdout",
     "output_type": "stream",
     "text": [
      "Epoch [93/250], Loss: 0.0620090097\n"
     ]
    },
    {
     "name": "stderr",
     "output_type": "stream",
     "text": [
      "Total Progress:  38%|███▊      | 94/250 [39:02<1:11:31, 27.51s/it]"
     ]
    },
    {
     "name": "stdout",
     "output_type": "stream",
     "text": [
      "Epoch [94/250], Loss: 0.0602064253\n"
     ]
    },
    {
     "name": "stderr",
     "output_type": "stream",
     "text": [
      "Total Progress:  38%|███▊      | 95/250 [39:30<1:11:08, 27.54s/it]"
     ]
    },
    {
     "name": "stdout",
     "output_type": "stream",
     "text": [
      "Epoch [95/250], Loss: 0.0615960639\n"
     ]
    },
    {
     "name": "stderr",
     "output_type": "stream",
     "text": [
      "Total Progress:  38%|███▊      | 96/250 [39:58<1:10:48, 27.59s/it]"
     ]
    },
    {
     "name": "stdout",
     "output_type": "stream",
     "text": [
      "Epoch [96/250], Loss: 0.0580885240\n"
     ]
    },
    {
     "name": "stderr",
     "output_type": "stream",
     "text": [
      "Total Progress:  39%|███▉      | 97/250 [40:24<1:09:29, 27.25s/it]"
     ]
    },
    {
     "name": "stdout",
     "output_type": "stream",
     "text": [
      "Epoch [97/250], Loss: 0.0624791924\n"
     ]
    },
    {
     "name": "stderr",
     "output_type": "stream",
     "text": [
      "Total Progress:  39%|███▉      | 98/250 [40:52<1:09:34, 27.46s/it]"
     ]
    },
    {
     "name": "stdout",
     "output_type": "stream",
     "text": [
      "Epoch [98/250], Loss: 0.0625417973\n"
     ]
    },
    {
     "name": "stderr",
     "output_type": "stream",
     "text": [
      "Total Progress:  40%|███▉      | 99/250 [41:20<1:09:27, 27.60s/it]"
     ]
    },
    {
     "name": "stdout",
     "output_type": "stream",
     "text": [
      "Epoch [99/250], Loss: 0.0648934596\n"
     ]
    },
    {
     "name": "stderr",
     "output_type": "stream",
     "text": [
      "Total Progress:  40%|████      | 100/250 [41:48<1:09:04, 27.63s/it]"
     ]
    },
    {
     "name": "stdout",
     "output_type": "stream",
     "text": [
      "Epoch [100/250], Loss: 0.0675863812\n"
     ]
    },
    {
     "name": "stderr",
     "output_type": "stream",
     "text": [
      "Total Progress:  40%|████      | 101/250 [42:16<1:08:52, 27.74s/it]"
     ]
    },
    {
     "name": "stdout",
     "output_type": "stream",
     "text": [
      "Epoch [101/250], Loss: 0.0646106454\n"
     ]
    },
    {
     "name": "stderr",
     "output_type": "stream",
     "text": [
      "Total Progress:  41%|████      | 102/250 [42:43<1:08:06, 27.61s/it]"
     ]
    },
    {
     "name": "stdout",
     "output_type": "stream",
     "text": [
      "Epoch [102/250], Loss: 0.0628550805\n"
     ]
    },
    {
     "name": "stderr",
     "output_type": "stream",
     "text": [
      "Total Progress:  41%|████      | 103/250 [43:11<1:08:05, 27.79s/it]"
     ]
    },
    {
     "name": "stdout",
     "output_type": "stream",
     "text": [
      "Epoch [103/250], Loss: 0.0688802393\n"
     ]
    },
    {
     "name": "stderr",
     "output_type": "stream",
     "text": [
      "Total Progress:  42%|████▏     | 104/250 [43:39<1:07:41, 27.82s/it]"
     ]
    },
    {
     "name": "stdout",
     "output_type": "stream",
     "text": [
      "Epoch [104/250], Loss: 0.0641616167\n"
     ]
    },
    {
     "name": "stderr",
     "output_type": "stream",
     "text": [
      "Total Progress:  42%|████▏     | 105/250 [44:07<1:07:02, 27.74s/it]"
     ]
    },
    {
     "name": "stdout",
     "output_type": "stream",
     "text": [
      "Epoch [105/250], Loss: 0.0649546405\n"
     ]
    },
    {
     "name": "stderr",
     "output_type": "stream",
     "text": [
      "Total Progress:  42%|████▏     | 106/250 [44:34<1:06:36, 27.75s/it]"
     ]
    },
    {
     "name": "stdout",
     "output_type": "stream",
     "text": [
      "Epoch [106/250], Loss: 0.0643185110\n"
     ]
    },
    {
     "name": "stderr",
     "output_type": "stream",
     "text": [
      "Total Progress:  43%|████▎     | 107/250 [45:02<1:06:05, 27.73s/it]"
     ]
    },
    {
     "name": "stdout",
     "output_type": "stream",
     "text": [
      "Epoch [107/250], Loss: 0.0711626425\n"
     ]
    },
    {
     "name": "stderr",
     "output_type": "stream",
     "text": [
      "Total Progress:  43%|████▎     | 108/250 [45:30<1:05:36, 27.72s/it]"
     ]
    },
    {
     "name": "stdout",
     "output_type": "stream",
     "text": [
      "Epoch [108/250], Loss: 0.0714410380\n"
     ]
    },
    {
     "name": "stderr",
     "output_type": "stream",
     "text": [
      "Total Progress:  44%|████▎     | 109/250 [45:57<1:05:07, 27.71s/it]"
     ]
    },
    {
     "name": "stdout",
     "output_type": "stream",
     "text": [
      "Epoch [109/250], Loss: 0.0673981534\n"
     ]
    },
    {
     "name": "stderr",
     "output_type": "stream",
     "text": [
      "Total Progress:  44%|████▍     | 110/250 [46:25<1:04:34, 27.68s/it]"
     ]
    },
    {
     "name": "stdout",
     "output_type": "stream",
     "text": [
      "Epoch [110/250], Loss: 0.0703629296\n"
     ]
    },
    {
     "name": "stderr",
     "output_type": "stream",
     "text": [
      "Total Progress:  44%|████▍     | 111/250 [46:52<1:04:01, 27.64s/it]"
     ]
    },
    {
     "name": "stdout",
     "output_type": "stream",
     "text": [
      "Epoch [111/250], Loss: 0.0533639533\n"
     ]
    },
    {
     "name": "stderr",
     "output_type": "stream",
     "text": [
      "Total Progress:  45%|████▍     | 112/250 [47:20<1:03:26, 27.58s/it]"
     ]
    },
    {
     "name": "stdout",
     "output_type": "stream",
     "text": [
      "Epoch [112/250], Loss: 0.0548666838\n"
     ]
    },
    {
     "name": "stderr",
     "output_type": "stream",
     "text": [
      "Total Progress:  45%|████▌     | 113/250 [47:48<1:03:03, 27.61s/it]"
     ]
    },
    {
     "name": "stdout",
     "output_type": "stream",
     "text": [
      "Epoch [113/250], Loss: 0.0615089697\n"
     ]
    },
    {
     "name": "stderr",
     "output_type": "stream",
     "text": [
      "Total Progress:  46%|████▌     | 114/250 [48:16<1:02:49, 27.71s/it]"
     ]
    },
    {
     "name": "stdout",
     "output_type": "stream",
     "text": [
      "Epoch [114/250], Loss: 0.0621497179\n"
     ]
    },
    {
     "name": "stderr",
     "output_type": "stream",
     "text": [
      "Total Progress:  46%|████▌     | 115/250 [48:43<1:02:01, 27.57s/it]"
     ]
    },
    {
     "name": "stdout",
     "output_type": "stream",
     "text": [
      "Epoch [115/250], Loss: 0.0653771413\n"
     ]
    },
    {
     "name": "stderr",
     "output_type": "stream",
     "text": [
      "Total Progress:  46%|████▋     | 116/250 [49:10<1:01:23, 27.49s/it]"
     ]
    },
    {
     "name": "stdout",
     "output_type": "stream",
     "text": [
      "Epoch [116/250], Loss: 0.0682511405\n"
     ]
    },
    {
     "name": "stderr",
     "output_type": "stream",
     "text": [
      "Total Progress:  47%|████▋     | 117/250 [49:37<1:00:50, 27.45s/it]"
     ]
    },
    {
     "name": "stdout",
     "output_type": "stream",
     "text": [
      "Epoch [117/250], Loss: 0.0670918456\n"
     ]
    },
    {
     "name": "stderr",
     "output_type": "stream",
     "text": [
      "Total Progress:  47%|████▋     | 118/250 [50:05<1:00:44, 27.61s/it]"
     ]
    },
    {
     "name": "stdout",
     "output_type": "stream",
     "text": [
      "Epoch [118/250], Loss: 0.0613373262\n"
     ]
    },
    {
     "name": "stderr",
     "output_type": "stream",
     "text": [
      "Total Progress:  48%|████▊     | 119/250 [50:33<1:00:07, 27.54s/it]"
     ]
    },
    {
     "name": "stdout",
     "output_type": "stream",
     "text": [
      "Epoch [119/250], Loss: 0.0711519419\n"
     ]
    },
    {
     "name": "stderr",
     "output_type": "stream",
     "text": [
      "Total Progress:  48%|████▊     | 120/250 [51:00<59:22, 27.40s/it]  "
     ]
    },
    {
     "name": "stdout",
     "output_type": "stream",
     "text": [
      "Epoch [120/250], Loss: 0.0674519211\n"
     ]
    },
    {
     "name": "stderr",
     "output_type": "stream",
     "text": [
      "Total Progress:  48%|████▊     | 121/250 [51:28<59:25, 27.64s/it]"
     ]
    },
    {
     "name": "stdout",
     "output_type": "stream",
     "text": [
      "Epoch [121/250], Loss: 0.0661345224\n"
     ]
    },
    {
     "name": "stderr",
     "output_type": "stream",
     "text": [
      "Total Progress:  49%|████▉     | 122/250 [51:56<59:15, 27.77s/it]"
     ]
    },
    {
     "name": "stdout",
     "output_type": "stream",
     "text": [
      "Epoch [122/250], Loss: 0.0703770497\n"
     ]
    },
    {
     "name": "stderr",
     "output_type": "stream",
     "text": [
      "Total Progress:  49%|████▉     | 123/250 [52:25<59:44, 28.23s/it]"
     ]
    },
    {
     "name": "stdout",
     "output_type": "stream",
     "text": [
      "Epoch [123/250], Loss: 0.0712119347\n"
     ]
    },
    {
     "name": "stderr",
     "output_type": "stream",
     "text": [
      "Total Progress:  50%|████▉     | 124/250 [52:54<59:10, 28.18s/it]"
     ]
    },
    {
     "name": "stdout",
     "output_type": "stream",
     "text": [
      "Epoch [124/250], Loss: 0.0720142216\n"
     ]
    },
    {
     "name": "stderr",
     "output_type": "stream",
     "text": [
      "Total Progress:  50%|█████     | 125/250 [53:21<58:12, 27.94s/it]"
     ]
    },
    {
     "name": "stdout",
     "output_type": "stream",
     "text": [
      "Epoch [125/250], Loss: 0.0792370793\n"
     ]
    },
    {
     "name": "stderr",
     "output_type": "stream",
     "text": [
      "Total Progress:  50%|█████     | 126/250 [53:49<57:44, 27.94s/it]"
     ]
    },
    {
     "name": "stdout",
     "output_type": "stream",
     "text": [
      "Epoch [126/250], Loss: 0.0742067103\n"
     ]
    },
    {
     "name": "stderr",
     "output_type": "stream",
     "text": [
      "Total Progress:  51%|█████     | 127/250 [54:17<57:07, 27.87s/it]"
     ]
    },
    {
     "name": "stdout",
     "output_type": "stream",
     "text": [
      "Epoch [127/250], Loss: 0.0721083480\n"
     ]
    },
    {
     "name": "stderr",
     "output_type": "stream",
     "text": [
      "Total Progress:  51%|█████     | 128/250 [54:45<57:04, 28.07s/it]"
     ]
    },
    {
     "name": "stdout",
     "output_type": "stream",
     "text": [
      "Epoch [128/250], Loss: 0.0701754248\n"
     ]
    },
    {
     "name": "stderr",
     "output_type": "stream",
     "text": [
      "Total Progress:  52%|█████▏    | 129/250 [55:13<56:39, 28.10s/it]"
     ]
    },
    {
     "name": "stdout",
     "output_type": "stream",
     "text": [
      "Epoch [129/250], Loss: 0.0727404202\n"
     ]
    },
    {
     "name": "stderr",
     "output_type": "stream",
     "text": [
      "Total Progress:  52%|█████▏    | 130/250 [55:42<56:18, 28.15s/it]"
     ]
    },
    {
     "name": "stdout",
     "output_type": "stream",
     "text": [
      "Epoch [130/250], Loss: 0.0701837943\n"
     ]
    },
    {
     "name": "stderr",
     "output_type": "stream",
     "text": [
      "Total Progress:  52%|█████▏    | 131/250 [56:10<55:54, 28.19s/it]"
     ]
    },
    {
     "name": "stdout",
     "output_type": "stream",
     "text": [
      "Epoch [131/250], Loss: 0.0671834544\n"
     ]
    },
    {
     "name": "stderr",
     "output_type": "stream",
     "text": [
      "Total Progress:  53%|█████▎    | 132/250 [56:38<55:28, 28.21s/it]"
     ]
    },
    {
     "name": "stdout",
     "output_type": "stream",
     "text": [
      "Epoch [132/250], Loss: 0.0690724620\n"
     ]
    },
    {
     "name": "stderr",
     "output_type": "stream",
     "text": [
      "Total Progress:  53%|█████▎    | 133/250 [57:07<55:19, 28.37s/it]"
     ]
    },
    {
     "name": "stdout",
     "output_type": "stream",
     "text": [
      "Epoch [133/250], Loss: 0.0730481379\n"
     ]
    },
    {
     "name": "stderr",
     "output_type": "stream",
     "text": [
      "Total Progress:  54%|█████▎    | 134/250 [57:36<55:14, 28.57s/it]"
     ]
    },
    {
     "name": "stdout",
     "output_type": "stream",
     "text": [
      "Epoch [134/250], Loss: 0.0680179543\n"
     ]
    },
    {
     "name": "stderr",
     "output_type": "stream",
     "text": [
      "Total Progress:  54%|█████▍    | 135/250 [58:04<54:14, 28.30s/it]"
     ]
    },
    {
     "name": "stdout",
     "output_type": "stream",
     "text": [
      "Epoch [135/250], Loss: 0.0698647133\n"
     ]
    },
    {
     "name": "stderr",
     "output_type": "stream",
     "text": [
      "Total Progress:  54%|█████▍    | 136/250 [58:28<51:33, 27.13s/it]"
     ]
    },
    {
     "name": "stdout",
     "output_type": "stream",
     "text": [
      "Epoch [136/250], Loss: 0.0737692661\n"
     ]
    },
    {
     "name": "stderr",
     "output_type": "stream",
     "text": [
      "Total Progress:  55%|█████▍    | 137/250 [58:52<49:31, 26.30s/it]"
     ]
    },
    {
     "name": "stdout",
     "output_type": "stream",
     "text": [
      "Epoch [137/250], Loss: 0.0755959390\n"
     ]
    },
    {
     "name": "stderr",
     "output_type": "stream",
     "text": [
      "Total Progress:  55%|█████▌    | 138/250 [59:16<47:48, 25.61s/it]"
     ]
    },
    {
     "name": "stdout",
     "output_type": "stream",
     "text": [
      "Epoch [138/250], Loss: 0.0791332086\n"
     ]
    },
    {
     "name": "stderr",
     "output_type": "stream",
     "text": [
      "Total Progress:  56%|█████▌    | 139/250 [59:40<46:19, 25.04s/it]"
     ]
    },
    {
     "name": "stdout",
     "output_type": "stream",
     "text": [
      "Epoch [139/250], Loss: 0.0747536824\n"
     ]
    },
    {
     "name": "stderr",
     "output_type": "stream",
     "text": [
      "Total Progress:  56%|█████▌    | 140/250 [1:00:04<45:14, 24.68s/it]"
     ]
    },
    {
     "name": "stdout",
     "output_type": "stream",
     "text": [
      "Epoch [140/250], Loss: 0.0688612488\n"
     ]
    },
    {
     "name": "stderr",
     "output_type": "stream",
     "text": [
      "Total Progress:  56%|█████▋    | 141/250 [1:00:28<44:20, 24.41s/it]"
     ]
    },
    {
     "name": "stdout",
     "output_type": "stream",
     "text": [
      "Epoch [141/250], Loss: 0.0608421167\n"
     ]
    },
    {
     "name": "stderr",
     "output_type": "stream",
     "text": [
      "Total Progress:  57%|█████▋    | 142/250 [1:00:51<43:29, 24.16s/it]"
     ]
    },
    {
     "name": "stdout",
     "output_type": "stream",
     "text": [
      "Epoch [142/250], Loss: 0.0592107384\n"
     ]
    },
    {
     "name": "stderr",
     "output_type": "stream",
     "text": [
      "Total Progress:  57%|█████▋    | 143/250 [1:01:15<42:50, 24.02s/it]"
     ]
    },
    {
     "name": "stdout",
     "output_type": "stream",
     "text": [
      "Epoch [143/250], Loss: 0.0607776984\n"
     ]
    },
    {
     "name": "stderr",
     "output_type": "stream",
     "text": [
      "Total Progress:  58%|█████▊    | 144/250 [1:01:38<42:10, 23.87s/it]"
     ]
    },
    {
     "name": "stdout",
     "output_type": "stream",
     "text": [
      "Epoch [144/250], Loss: 0.0661678573\n"
     ]
    },
    {
     "name": "stderr",
     "output_type": "stream",
     "text": [
      "Total Progress:  58%|█████▊    | 145/250 [1:02:02<41:46, 23.87s/it]"
     ]
    },
    {
     "name": "stdout",
     "output_type": "stream",
     "text": [
      "Epoch [145/250], Loss: 0.0658725591\n"
     ]
    },
    {
     "name": "stderr",
     "output_type": "stream",
     "text": [
      "Total Progress:  58%|█████▊    | 146/250 [1:02:26<41:21, 23.86s/it]"
     ]
    },
    {
     "name": "stdout",
     "output_type": "stream",
     "text": [
      "Epoch [146/250], Loss: 0.0665004367\n"
     ]
    },
    {
     "name": "stderr",
     "output_type": "stream",
     "text": [
      "Total Progress:  59%|█████▉    | 147/250 [1:02:50<40:46, 23.75s/it]"
     ]
    },
    {
     "name": "stdout",
     "output_type": "stream",
     "text": [
      "Epoch [147/250], Loss: 0.0690296681\n"
     ]
    },
    {
     "name": "stderr",
     "output_type": "stream",
     "text": [
      "Total Progress:  59%|█████▉    | 148/250 [1:03:13<40:22, 23.75s/it]"
     ]
    },
    {
     "name": "stdout",
     "output_type": "stream",
     "text": [
      "Epoch [148/250], Loss: 0.0714060911\n"
     ]
    },
    {
     "name": "stderr",
     "output_type": "stream",
     "text": [
      "Total Progress:  60%|█████▉    | 149/250 [1:03:37<39:57, 23.74s/it]"
     ]
    },
    {
     "name": "stdout",
     "output_type": "stream",
     "text": [
      "Epoch [149/250], Loss: 0.0627586403\n"
     ]
    },
    {
     "name": "stderr",
     "output_type": "stream",
     "text": [
      "Total Progress:  60%|██████    | 150/250 [1:04:01<39:24, 23.65s/it]"
     ]
    },
    {
     "name": "stdout",
     "output_type": "stream",
     "text": [
      "Epoch [150/250], Loss: 0.0699282680\n"
     ]
    },
    {
     "name": "stderr",
     "output_type": "stream",
     "text": [
      "Total Progress:  60%|██████    | 151/250 [1:04:24<39:02, 23.66s/it]"
     ]
    },
    {
     "name": "stdout",
     "output_type": "stream",
     "text": [
      "Epoch [151/250], Loss: 0.0719951525\n"
     ]
    },
    {
     "name": "stderr",
     "output_type": "stream",
     "text": [
      "Total Progress:  61%|██████    | 152/250 [1:04:48<38:38, 23.65s/it]"
     ]
    },
    {
     "name": "stdout",
     "output_type": "stream",
     "text": [
      "Epoch [152/250], Loss: 0.0646405651\n"
     ]
    },
    {
     "name": "stderr",
     "output_type": "stream",
     "text": [
      "Total Progress:  61%|██████    | 153/250 [1:05:11<38:11, 23.62s/it]"
     ]
    },
    {
     "name": "stdout",
     "output_type": "stream",
     "text": [
      "Epoch [153/250], Loss: 0.0591943417\n"
     ]
    },
    {
     "name": "stderr",
     "output_type": "stream",
     "text": [
      "Total Progress:  62%|██████▏   | 154/250 [1:05:35<37:51, 23.67s/it]"
     ]
    },
    {
     "name": "stdout",
     "output_type": "stream",
     "text": [
      "Epoch [154/250], Loss: 0.0679077752\n"
     ]
    },
    {
     "name": "stderr",
     "output_type": "stream",
     "text": [
      "Total Progress:  62%|██████▏   | 155/250 [1:05:59<37:23, 23.62s/it]"
     ]
    },
    {
     "name": "stdout",
     "output_type": "stream",
     "text": [
      "Epoch [155/250], Loss: 0.0684885721\n"
     ]
    },
    {
     "name": "stderr",
     "output_type": "stream",
     "text": [
      "Total Progress:  62%|██████▏   | 156/250 [1:06:22<36:57, 23.59s/it]"
     ]
    },
    {
     "name": "stdout",
     "output_type": "stream",
     "text": [
      "Epoch [156/250], Loss: 0.0632753852\n"
     ]
    },
    {
     "name": "stderr",
     "output_type": "stream",
     "text": [
      "Total Progress:  63%|██████▎   | 157/250 [1:06:46<36:31, 23.57s/it]"
     ]
    },
    {
     "name": "stdout",
     "output_type": "stream",
     "text": [
      "Epoch [157/250], Loss: 0.0736706543\n"
     ]
    },
    {
     "name": "stderr",
     "output_type": "stream",
     "text": [
      "Total Progress:  63%|██████▎   | 158/250 [1:07:09<36:04, 23.53s/it]"
     ]
    },
    {
     "name": "stdout",
     "output_type": "stream",
     "text": [
      "Epoch [158/250], Loss: 0.0730004425\n"
     ]
    },
    {
     "name": "stderr",
     "output_type": "stream",
     "text": [
      "Total Progress:  64%|██████▎   | 159/250 [1:07:33<35:50, 23.64s/it]"
     ]
    },
    {
     "name": "stdout",
     "output_type": "stream",
     "text": [
      "Epoch [159/250], Loss: 0.0714029352\n"
     ]
    },
    {
     "name": "stderr",
     "output_type": "stream",
     "text": [
      "Total Progress:  64%|██████▍   | 160/250 [1:07:56<35:22, 23.58s/it]"
     ]
    },
    {
     "name": "stdout",
     "output_type": "stream",
     "text": [
      "Epoch [160/250], Loss: 0.0765034367\n"
     ]
    },
    {
     "name": "stderr",
     "output_type": "stream",
     "text": [
      "Total Progress:  64%|██████▍   | 161/250 [1:08:20<34:54, 23.53s/it]"
     ]
    },
    {
     "name": "stdout",
     "output_type": "stream",
     "text": [
      "Epoch [161/250], Loss: 0.0771885531\n"
     ]
    },
    {
     "name": "stderr",
     "output_type": "stream",
     "text": [
      "Total Progress:  65%|██████▍   | 162/250 [1:27:28<8:49:16, 360.87s/it]"
     ]
    },
    {
     "name": "stdout",
     "output_type": "stream",
     "text": [
      "Epoch [162/250], Loss: 0.0850011025\n"
     ]
    },
    {
     "name": "stderr",
     "output_type": "stream",
     "text": [
      "Total Progress:  65%|██████▌   | 163/250 [1:27:47<6:14:47, 258.47s/it]"
     ]
    },
    {
     "name": "stdout",
     "output_type": "stream",
     "text": [
      "Epoch [163/250], Loss: 0.0664577233\n"
     ]
    },
    {
     "name": "stderr",
     "output_type": "stream",
     "text": [
      "Total Progress:  66%|██████▌   | 164/250 [1:28:08<4:28:03, 187.01s/it]"
     ]
    },
    {
     "name": "stdout",
     "output_type": "stream",
     "text": [
      "Epoch [164/250], Loss: 0.0714149962\n"
     ]
    },
    {
     "name": "stderr",
     "output_type": "stream",
     "text": [
      "Total Progress:  66%|██████▌   | 165/250 [1:28:29<3:14:27, 137.27s/it]"
     ]
    },
    {
     "name": "stdout",
     "output_type": "stream",
     "text": [
      "Epoch [165/250], Loss: 0.0734074430\n"
     ]
    },
    {
     "name": "stderr",
     "output_type": "stream",
     "text": [
      "Total Progress:  66%|██████▋   | 166/250 [1:28:50<2:23:29, 102.50s/it]"
     ]
    },
    {
     "name": "stdout",
     "output_type": "stream",
     "text": [
      "Epoch [166/250], Loss: 0.0739890793\n"
     ]
    },
    {
     "name": "stderr",
     "output_type": "stream",
     "text": [
      "Total Progress:  67%|██████▋   | 167/250 [1:29:12<1:48:18, 78.30s/it] "
     ]
    },
    {
     "name": "stdout",
     "output_type": "stream",
     "text": [
      "Epoch [167/250], Loss: 0.0680233681\n"
     ]
    },
    {
     "name": "stderr",
     "output_type": "stream",
     "text": [
      "Total Progress:  67%|██████▋   | 168/250 [1:29:34<1:23:58, 61.45s/it]"
     ]
    },
    {
     "name": "stdout",
     "output_type": "stream",
     "text": [
      "Epoch [168/250], Loss: 0.0715937564\n"
     ]
    },
    {
     "name": "stderr",
     "output_type": "stream",
     "text": [
      "Total Progress:  68%|██████▊   | 169/250 [1:29:57<1:07:04, 49.69s/it]"
     ]
    },
    {
     "name": "stdout",
     "output_type": "stream",
     "text": [
      "Epoch [169/250], Loss: 0.0704936942\n"
     ]
    },
    {
     "name": "stderr",
     "output_type": "stream",
     "text": [
      "Total Progress:  68%|██████▊   | 170/250 [1:30:19<55:25, 41.57s/it]  "
     ]
    },
    {
     "name": "stdout",
     "output_type": "stream",
     "text": [
      "Epoch [170/250], Loss: 0.0665531095\n"
     ]
    },
    {
     "name": "stderr",
     "output_type": "stream",
     "text": [
      "Total Progress:  68%|██████▊   | 171/250 [1:30:42<47:23, 35.99s/it]"
     ]
    },
    {
     "name": "stdout",
     "output_type": "stream",
     "text": [
      "Epoch [171/250], Loss: 0.0710999441\n"
     ]
    },
    {
     "name": "stderr",
     "output_type": "stream",
     "text": [
      "Total Progress:  69%|██████▉   | 172/250 [1:31:05<41:43, 32.09s/it]"
     ]
    },
    {
     "name": "stdout",
     "output_type": "stream",
     "text": [
      "Epoch [172/250], Loss: 0.0777390414\n"
     ]
    },
    {
     "name": "stderr",
     "output_type": "stream",
     "text": [
      "Total Progress:  69%|██████▉   | 173/250 [1:31:28<37:44, 29.41s/it]"
     ]
    },
    {
     "name": "stdout",
     "output_type": "stream",
     "text": [
      "Epoch [173/250], Loss: 0.0779559745\n"
     ]
    },
    {
     "name": "stderr",
     "output_type": "stream",
     "text": [
      "Total Progress:  70%|██████▉   | 174/250 [1:31:52<34:54, 27.56s/it]"
     ]
    },
    {
     "name": "stdout",
     "output_type": "stream",
     "text": [
      "Epoch [174/250], Loss: 0.0792387323\n"
     ]
    },
    {
     "name": "stderr",
     "output_type": "stream",
     "text": [
      "Total Progress:  70%|███████   | 175/250 [1:32:15<32:49, 26.27s/it]"
     ]
    },
    {
     "name": "stdout",
     "output_type": "stream",
     "text": [
      "Epoch [175/250], Loss: 0.0791015776\n"
     ]
    },
    {
     "name": "stderr",
     "output_type": "stream",
     "text": [
      "Total Progress:  70%|███████   | 176/250 [1:32:38<31:18, 25.39s/it]"
     ]
    },
    {
     "name": "stdout",
     "output_type": "stream",
     "text": [
      "Epoch [176/250], Loss: 0.0808457069\n"
     ]
    },
    {
     "name": "stderr",
     "output_type": "stream",
     "text": [
      "Total Progress:  71%|███████   | 177/250 [1:33:01<30:07, 24.76s/it]"
     ]
    },
    {
     "name": "stdout",
     "output_type": "stream",
     "text": [
      "Epoch [177/250], Loss: 0.0789250575\n"
     ]
    },
    {
     "name": "stderr",
     "output_type": "stream",
     "text": [
      "Total Progress:  71%|███████   | 178/250 [1:33:25<29:11, 24.33s/it]"
     ]
    },
    {
     "name": "stdout",
     "output_type": "stream",
     "text": [
      "Epoch [178/250], Loss: 0.0810776612\n"
     ]
    },
    {
     "name": "stderr",
     "output_type": "stream",
     "text": [
      "Total Progress:  72%|███████▏  | 179/250 [1:33:48<28:25, 24.02s/it]"
     ]
    },
    {
     "name": "stdout",
     "output_type": "stream",
     "text": [
      "Epoch [179/250], Loss: 0.0788298456\n"
     ]
    },
    {
     "name": "stderr",
     "output_type": "stream",
     "text": [
      "Total Progress:  72%|███████▏  | 180/250 [1:34:11<27:47, 23.82s/it]"
     ]
    },
    {
     "name": "stdout",
     "output_type": "stream",
     "text": [
      "Epoch [180/250], Loss: 0.0667302503\n"
     ]
    },
    {
     "name": "stderr",
     "output_type": "stream",
     "text": [
      "Total Progress:  72%|███████▏  | 181/250 [1:34:35<27:13, 23.67s/it]"
     ]
    },
    {
     "name": "stdout",
     "output_type": "stream",
     "text": [
      "Epoch [181/250], Loss: 0.0606932659\n"
     ]
    },
    {
     "name": "stderr",
     "output_type": "stream",
     "text": [
      "Total Progress:  73%|███████▎  | 182/250 [1:34:58<26:42, 23.57s/it]"
     ]
    },
    {
     "name": "stdout",
     "output_type": "stream",
     "text": [
      "Epoch [182/250], Loss: 0.0621887294\n"
     ]
    },
    {
     "name": "stderr",
     "output_type": "stream",
     "text": [
      "Total Progress:  73%|███████▎  | 183/250 [1:35:21<26:14, 23.50s/it]"
     ]
    },
    {
     "name": "stdout",
     "output_type": "stream",
     "text": [
      "Epoch [183/250], Loss: 0.0602639282\n"
     ]
    },
    {
     "name": "stderr",
     "output_type": "stream",
     "text": [
      "Total Progress:  74%|███████▎  | 184/250 [1:35:45<25:47, 23.45s/it]"
     ]
    },
    {
     "name": "stdout",
     "output_type": "stream",
     "text": [
      "Epoch [184/250], Loss: 0.0652023907\n"
     ]
    },
    {
     "name": "stderr",
     "output_type": "stream",
     "text": [
      "Total Progress:  74%|███████▍  | 185/250 [1:36:08<25:22, 23.42s/it]"
     ]
    },
    {
     "name": "stdout",
     "output_type": "stream",
     "text": [
      "Epoch [185/250], Loss: 0.0616818670\n"
     ]
    },
    {
     "name": "stderr",
     "output_type": "stream",
     "text": [
      "Total Progress:  74%|███████▍  | 186/250 [1:36:31<24:57, 23.40s/it]"
     ]
    },
    {
     "name": "stdout",
     "output_type": "stream",
     "text": [
      "Epoch [186/250], Loss: 0.0664272284\n"
     ]
    },
    {
     "name": "stderr",
     "output_type": "stream",
     "text": [
      "Total Progress:  75%|███████▍  | 187/250 [1:36:55<24:33, 23.39s/it]"
     ]
    },
    {
     "name": "stdout",
     "output_type": "stream",
     "text": [
      "Epoch [187/250], Loss: 0.0697556948\n"
     ]
    },
    {
     "name": "stderr",
     "output_type": "stream",
     "text": [
      "Total Progress:  75%|███████▌  | 188/250 [1:37:18<24:10, 23.39s/it]"
     ]
    },
    {
     "name": "stdout",
     "output_type": "stream",
     "text": [
      "Epoch [188/250], Loss: 0.0697233208\n"
     ]
    },
    {
     "name": "stderr",
     "output_type": "stream",
     "text": [
      "Total Progress:  76%|███████▌  | 189/250 [1:37:42<23:46, 23.39s/it]"
     ]
    },
    {
     "name": "stdout",
     "output_type": "stream",
     "text": [
      "Epoch [189/250], Loss: 0.0689513670\n"
     ]
    },
    {
     "name": "stderr",
     "output_type": "stream",
     "text": [
      "Total Progress:  76%|███████▌  | 190/250 [1:38:05<23:23, 23.39s/it]"
     ]
    },
    {
     "name": "stdout",
     "output_type": "stream",
     "text": [
      "Epoch [190/250], Loss: 0.0725891563\n"
     ]
    },
    {
     "name": "stderr",
     "output_type": "stream",
     "text": [
      "Total Progress:  76%|███████▋  | 191/250 [1:38:28<23:00, 23.40s/it]"
     ]
    },
    {
     "name": "stdout",
     "output_type": "stream",
     "text": [
      "Epoch [191/250], Loss: 0.0701237838\n"
     ]
    },
    {
     "name": "stderr",
     "output_type": "stream",
     "text": [
      "Total Progress:  77%|███████▋  | 192/250 [1:38:52<22:37, 23.40s/it]"
     ]
    },
    {
     "name": "stdout",
     "output_type": "stream",
     "text": [
      "Epoch [192/250], Loss: 0.0744994165\n"
     ]
    },
    {
     "name": "stderr",
     "output_type": "stream",
     "text": [
      "Total Progress:  77%|███████▋  | 193/250 [1:39:15<22:14, 23.40s/it]"
     ]
    },
    {
     "name": "stdout",
     "output_type": "stream",
     "text": [
      "Epoch [193/250], Loss: 0.0748866732\n"
     ]
    },
    {
     "name": "stderr",
     "output_type": "stream",
     "text": [
      "Total Progress:  78%|███████▊  | 194/250 [1:39:39<21:50, 23.41s/it]"
     ]
    },
    {
     "name": "stdout",
     "output_type": "stream",
     "text": [
      "Epoch [194/250], Loss: 0.0744512895\n"
     ]
    },
    {
     "name": "stderr",
     "output_type": "stream",
     "text": [
      "Total Progress:  78%|███████▊  | 195/250 [1:40:02<21:27, 23.41s/it]"
     ]
    },
    {
     "name": "stdout",
     "output_type": "stream",
     "text": [
      "Epoch [195/250], Loss: 0.0733447330\n"
     ]
    },
    {
     "name": "stderr",
     "output_type": "stream",
     "text": [
      "Total Progress:  78%|███████▊  | 196/250 [1:40:25<21:05, 23.43s/it]"
     ]
    },
    {
     "name": "stdout",
     "output_type": "stream",
     "text": [
      "Epoch [196/250], Loss: 0.0744868614\n"
     ]
    },
    {
     "name": "stderr",
     "output_type": "stream",
     "text": [
      "Total Progress:  79%|███████▉  | 197/250 [1:40:49<20:43, 23.46s/it]"
     ]
    },
    {
     "name": "stdout",
     "output_type": "stream",
     "text": [
      "Epoch [197/250], Loss: 0.0759412206\n"
     ]
    },
    {
     "name": "stderr",
     "output_type": "stream",
     "text": [
      "Total Progress:  79%|███████▉  | 198/250 [1:41:13<20:28, 23.63s/it]"
     ]
    },
    {
     "name": "stdout",
     "output_type": "stream",
     "text": [
      "Epoch [198/250], Loss: 0.0761696285\n"
     ]
    },
    {
     "name": "stderr",
     "output_type": "stream",
     "text": [
      "Total Progress:  80%|███████▉  | 199/250 [1:41:37<20:15, 23.83s/it]"
     ]
    },
    {
     "name": "stdout",
     "output_type": "stream",
     "text": [
      "Epoch [199/250], Loss: 0.0773264451\n"
     ]
    },
    {
     "name": "stderr",
     "output_type": "stream",
     "text": [
      "Total Progress:  80%|████████  | 200/250 [1:42:02<20:02, 24.05s/it]"
     ]
    },
    {
     "name": "stdout",
     "output_type": "stream",
     "text": [
      "Epoch [200/250], Loss: 0.0758602849\n"
     ]
    },
    {
     "name": "stderr",
     "output_type": "stream",
     "text": [
      "Total Progress:  80%|████████  | 201/250 [1:42:26<19:45, 24.20s/it]"
     ]
    },
    {
     "name": "stdout",
     "output_type": "stream",
     "text": [
      "Epoch [201/250], Loss: 0.0763881099\n"
     ]
    },
    {
     "name": "stderr",
     "output_type": "stream",
     "text": [
      "Total Progress:  81%|████████  | 202/250 [1:42:51<19:25, 24.28s/it]"
     ]
    },
    {
     "name": "stdout",
     "output_type": "stream",
     "text": [
      "Epoch [202/250], Loss: 0.0760504507\n"
     ]
    },
    {
     "name": "stderr",
     "output_type": "stream",
     "text": [
      "Total Progress:  81%|████████  | 203/250 [1:43:16<19:16, 24.61s/it]"
     ]
    },
    {
     "name": "stdout",
     "output_type": "stream",
     "text": [
      "Epoch [203/250], Loss: 0.0782090524\n"
     ]
    },
    {
     "name": "stderr",
     "output_type": "stream",
     "text": [
      "Total Progress:  82%|████████▏ | 204/250 [1:43:41<18:57, 24.73s/it]"
     ]
    },
    {
     "name": "stdout",
     "output_type": "stream",
     "text": [
      "Epoch [204/250], Loss: 0.0791955581\n"
     ]
    },
    {
     "name": "stderr",
     "output_type": "stream",
     "text": [
      "Total Progress:  82%|████████▏ | 205/250 [1:44:08<18:53, 25.20s/it]"
     ]
    },
    {
     "name": "stdout",
     "output_type": "stream",
     "text": [
      "Epoch [205/250], Loss: 0.0860512999\n"
     ]
    },
    {
     "name": "stderr",
     "output_type": "stream",
     "text": [
      "Total Progress:  82%|████████▏ | 206/250 [1:44:33<18:33, 25.31s/it]"
     ]
    },
    {
     "name": "stdout",
     "output_type": "stream",
     "text": [
      "Epoch [206/250], Loss: 0.0708977024\n"
     ]
    },
    {
     "name": "stderr",
     "output_type": "stream",
     "text": [
      "Total Progress:  83%|████████▎ | 207/250 [1:45:00<18:21, 25.62s/it]"
     ]
    },
    {
     "name": "stdout",
     "output_type": "stream",
     "text": [
      "Epoch [207/250], Loss: 0.0675285523\n"
     ]
    },
    {
     "name": "stderr",
     "output_type": "stream",
     "text": [
      "Total Progress:  83%|████████▎ | 208/250 [1:45:26<18:11, 25.99s/it]"
     ]
    },
    {
     "name": "stdout",
     "output_type": "stream",
     "text": [
      "Epoch [208/250], Loss: 0.0679364175\n"
     ]
    },
    {
     "name": "stderr",
     "output_type": "stream",
     "text": [
      "Total Progress:  84%|████████▎ | 209/250 [1:45:53<17:54, 26.20s/it]"
     ]
    },
    {
     "name": "stdout",
     "output_type": "stream",
     "text": [
      "Epoch [209/250], Loss: 0.0725297310\n"
     ]
    },
    {
     "name": "stderr",
     "output_type": "stream",
     "text": [
      "Total Progress:  84%|████████▍ | 210/250 [1:46:19<17:30, 26.27s/it]"
     ]
    },
    {
     "name": "stdout",
     "output_type": "stream",
     "text": [
      "Epoch [210/250], Loss: 0.0627627296\n"
     ]
    },
    {
     "name": "stderr",
     "output_type": "stream",
     "text": [
      "Total Progress:  84%|████████▍ | 211/250 [1:46:47<17:15, 26.55s/it]"
     ]
    },
    {
     "name": "stdout",
     "output_type": "stream",
     "text": [
      "Epoch [211/250], Loss: 0.0659182615\n"
     ]
    },
    {
     "name": "stderr",
     "output_type": "stream",
     "text": [
      "Total Progress:  85%|████████▍ | 212/250 [1:47:13<16:49, 26.56s/it]"
     ]
    },
    {
     "name": "stdout",
     "output_type": "stream",
     "text": [
      "Epoch [212/250], Loss: 0.0687627002\n"
     ]
    },
    {
     "name": "stderr",
     "output_type": "stream",
     "text": [
      "Total Progress:  85%|████████▌ | 213/250 [1:47:40<16:20, 26.49s/it]"
     ]
    },
    {
     "name": "stdout",
     "output_type": "stream",
     "text": [
      "Epoch [213/250], Loss: 0.0760391606\n"
     ]
    },
    {
     "name": "stderr",
     "output_type": "stream",
     "text": [
      "Total Progress:  86%|████████▌ | 214/250 [1:48:07<16:00, 26.68s/it]"
     ]
    },
    {
     "name": "stdout",
     "output_type": "stream",
     "text": [
      "Epoch [214/250], Loss: 0.0884298073\n"
     ]
    },
    {
     "name": "stderr",
     "output_type": "stream",
     "text": [
      "Total Progress:  86%|████████▌ | 215/250 [1:48:34<15:41, 26.89s/it]"
     ]
    },
    {
     "name": "stdout",
     "output_type": "stream",
     "text": [
      "Epoch [215/250], Loss: 0.0660999079\n"
     ]
    },
    {
     "name": "stderr",
     "output_type": "stream",
     "text": [
      "Total Progress:  86%|████████▋ | 216/250 [1:49:01<15:11, 26.80s/it]"
     ]
    },
    {
     "name": "stdout",
     "output_type": "stream",
     "text": [
      "Epoch [216/250], Loss: 0.0650486426\n"
     ]
    },
    {
     "name": "stderr",
     "output_type": "stream",
     "text": [
      "Total Progress:  87%|████████▋ | 217/250 [1:49:28<14:45, 26.85s/it]"
     ]
    },
    {
     "name": "stdout",
     "output_type": "stream",
     "text": [
      "Epoch [217/250], Loss: 0.0676270154\n"
     ]
    },
    {
     "name": "stderr",
     "output_type": "stream",
     "text": [
      "Total Progress:  87%|████████▋ | 218/250 [1:49:55<14:21, 26.91s/it]"
     ]
    },
    {
     "name": "stdout",
     "output_type": "stream",
     "text": [
      "Epoch [218/250], Loss: 0.0688867053\n"
     ]
    },
    {
     "name": "stderr",
     "output_type": "stream",
     "text": [
      "Total Progress:  88%|████████▊ | 219/250 [1:50:22<13:54, 26.93s/it]"
     ]
    },
    {
     "name": "stdout",
     "output_type": "stream",
     "text": [
      "Epoch [219/250], Loss: 0.0745240162\n"
     ]
    },
    {
     "name": "stderr",
     "output_type": "stream",
     "text": [
      "Total Progress:  88%|████████▊ | 220/250 [1:50:49<13:29, 27.00s/it]"
     ]
    },
    {
     "name": "stdout",
     "output_type": "stream",
     "text": [
      "Epoch [220/250], Loss: 0.0728428054\n"
     ]
    },
    {
     "name": "stderr",
     "output_type": "stream",
     "text": [
      "Total Progress:  88%|████████▊ | 221/250 [1:51:15<12:57, 26.80s/it]"
     ]
    },
    {
     "name": "stdout",
     "output_type": "stream",
     "text": [
      "Epoch [221/250], Loss: 0.0718512937\n"
     ]
    },
    {
     "name": "stderr",
     "output_type": "stream",
     "text": [
      "Total Progress:  89%|████████▉ | 222/250 [1:51:41<12:25, 26.62s/it]"
     ]
    },
    {
     "name": "stdout",
     "output_type": "stream",
     "text": [
      "Epoch [222/250], Loss: 0.0716497466\n"
     ]
    },
    {
     "name": "stderr",
     "output_type": "stream",
     "text": [
      "Total Progress:  89%|████████▉ | 223/250 [1:52:07<11:50, 26.30s/it]"
     ]
    },
    {
     "name": "stdout",
     "output_type": "stream",
     "text": [
      "Epoch [223/250], Loss: 0.0746173757\n"
     ]
    },
    {
     "name": "stderr",
     "output_type": "stream",
     "text": [
      "Total Progress:  90%|████████▉ | 224/250 [1:52:33<11:22, 26.26s/it]"
     ]
    },
    {
     "name": "stdout",
     "output_type": "stream",
     "text": [
      "Epoch [224/250], Loss: 0.0775416368\n"
     ]
    },
    {
     "name": "stderr",
     "output_type": "stream",
     "text": [
      "Total Progress:  90%|█████████ | 225/250 [1:53:00<10:58, 26.33s/it]"
     ]
    },
    {
     "name": "stdout",
     "output_type": "stream",
     "text": [
      "Epoch [225/250], Loss: 0.0767900897\n"
     ]
    },
    {
     "name": "stderr",
     "output_type": "stream",
     "text": [
      "Total Progress:  90%|█████████ | 226/250 [1:53:26<10:29, 26.25s/it]"
     ]
    },
    {
     "name": "stdout",
     "output_type": "stream",
     "text": [
      "Epoch [226/250], Loss: 0.0785699526\n"
     ]
    },
    {
     "name": "stderr",
     "output_type": "stream",
     "text": [
      "Total Progress:  91%|█████████ | 227/250 [1:53:52<10:03, 26.22s/it]"
     ]
    },
    {
     "name": "stdout",
     "output_type": "stream",
     "text": [
      "Epoch [227/250], Loss: 0.0797387179\n"
     ]
    },
    {
     "name": "stderr",
     "output_type": "stream",
     "text": [
      "Total Progress:  91%|█████████ | 228/250 [1:54:18<09:33, 26.07s/it]"
     ]
    },
    {
     "name": "stdout",
     "output_type": "stream",
     "text": [
      "Epoch [228/250], Loss: 0.0789233208\n"
     ]
    },
    {
     "name": "stderr",
     "output_type": "stream",
     "text": [
      "Total Progress:  92%|█████████▏| 229/250 [1:54:44<09:07, 26.07s/it]"
     ]
    },
    {
     "name": "stdout",
     "output_type": "stream",
     "text": [
      "Epoch [229/250], Loss: 0.0807124959\n"
     ]
    },
    {
     "name": "stderr",
     "output_type": "stream",
     "text": [
      "Total Progress:  92%|█████████▏| 230/250 [1:55:10<08:42, 26.14s/it]"
     ]
    },
    {
     "name": "stdout",
     "output_type": "stream",
     "text": [
      "Epoch [230/250], Loss: 0.0800587988\n"
     ]
    },
    {
     "name": "stderr",
     "output_type": "stream",
     "text": [
      "Total Progress:  92%|█████████▏| 231/250 [1:55:35<08:13, 25.95s/it]"
     ]
    },
    {
     "name": "stdout",
     "output_type": "stream",
     "text": [
      "Epoch [231/250], Loss: 0.0796491665\n"
     ]
    },
    {
     "name": "stderr",
     "output_type": "stream",
     "text": [
      "Total Progress:  93%|█████████▎| 232/250 [1:56:02<07:49, 26.08s/it]"
     ]
    },
    {
     "name": "stdout",
     "output_type": "stream",
     "text": [
      "Epoch [232/250], Loss: 0.0796457932\n"
     ]
    },
    {
     "name": "stderr",
     "output_type": "stream",
     "text": [
      "Total Progress:  93%|█████████▎| 233/250 [1:56:28<07:26, 26.25s/it]"
     ]
    },
    {
     "name": "stdout",
     "output_type": "stream",
     "text": [
      "Epoch [233/250], Loss: 0.0788434742\n"
     ]
    },
    {
     "name": "stderr",
     "output_type": "stream",
     "text": [
      "Total Progress:  94%|█████████▎| 234/250 [1:56:54<06:58, 26.16s/it]"
     ]
    },
    {
     "name": "stdout",
     "output_type": "stream",
     "text": [
      "Epoch [234/250], Loss: 0.0790504099\n"
     ]
    },
    {
     "name": "stderr",
     "output_type": "stream",
     "text": [
      "Total Progress:  94%|█████████▍| 235/250 [1:57:20<06:30, 26.03s/it]"
     ]
    },
    {
     "name": "stdout",
     "output_type": "stream",
     "text": [
      "Epoch [235/250], Loss: 0.0780809210\n"
     ]
    },
    {
     "name": "stderr",
     "output_type": "stream",
     "text": [
      "Total Progress:  94%|█████████▍| 236/250 [1:57:47<06:07, 26.26s/it]"
     ]
    },
    {
     "name": "stdout",
     "output_type": "stream",
     "text": [
      "Epoch [236/250], Loss: 0.0790144099\n"
     ]
    },
    {
     "name": "stderr",
     "output_type": "stream",
     "text": [
      "Total Progress:  95%|█████████▍| 237/250 [1:58:13<05:42, 26.32s/it]"
     ]
    },
    {
     "name": "stdout",
     "output_type": "stream",
     "text": [
      "Epoch [237/250], Loss: 0.0820395079\n"
     ]
    },
    {
     "name": "stderr",
     "output_type": "stream",
     "text": [
      "Total Progress:  95%|█████████▌| 238/250 [1:58:40<05:15, 26.29s/it]"
     ]
    },
    {
     "name": "stdout",
     "output_type": "stream",
     "text": [
      "Epoch [238/250], Loss: 0.0798545460\n"
     ]
    },
    {
     "name": "stderr",
     "output_type": "stream",
     "text": [
      "Total Progress:  96%|█████████▌| 239/250 [1:59:06<04:49, 26.36s/it]"
     ]
    },
    {
     "name": "stdout",
     "output_type": "stream",
     "text": [
      "Epoch [239/250], Loss: 0.0803444193\n"
     ]
    },
    {
     "name": "stderr",
     "output_type": "stream",
     "text": [
      "Total Progress:  96%|█████████▌| 240/250 [1:59:31<04:20, 26.03s/it]"
     ]
    },
    {
     "name": "stdout",
     "output_type": "stream",
     "text": [
      "Epoch [240/250], Loss: 0.0810825751\n"
     ]
    },
    {
     "name": "stderr",
     "output_type": "stream",
     "text": [
      "Total Progress:  96%|█████████▋| 241/250 [1:59:56<03:51, 25.69s/it]"
     ]
    },
    {
     "name": "stdout",
     "output_type": "stream",
     "text": [
      "Epoch [241/250], Loss: 0.0812855553\n"
     ]
    },
    {
     "name": "stderr",
     "output_type": "stream",
     "text": [
      "Total Progress:  97%|█████████▋| 242/250 [2:00:21<03:22, 25.37s/it]"
     ]
    },
    {
     "name": "stdout",
     "output_type": "stream",
     "text": [
      "Epoch [242/250], Loss: 0.0787958071\n"
     ]
    },
    {
     "name": "stderr",
     "output_type": "stream",
     "text": [
      "Total Progress:  97%|█████████▋| 243/250 [2:00:48<03:01, 25.90s/it]"
     ]
    },
    {
     "name": "stdout",
     "output_type": "stream",
     "text": [
      "Epoch [243/250], Loss: 0.0810538550\n"
     ]
    },
    {
     "name": "stderr",
     "output_type": "stream",
     "text": [
      "Total Progress:  98%|█████████▊| 244/250 [2:01:15<02:37, 26.31s/it]"
     ]
    },
    {
     "name": "stdout",
     "output_type": "stream",
     "text": [
      "Epoch [244/250], Loss: 0.0817022633\n"
     ]
    },
    {
     "name": "stderr",
     "output_type": "stream",
     "text": [
      "Total Progress:  98%|█████████▊| 245/250 [2:01:43<02:13, 26.62s/it]"
     ]
    },
    {
     "name": "stdout",
     "output_type": "stream",
     "text": [
      "Epoch [245/250], Loss: 0.0833327048\n"
     ]
    },
    {
     "name": "stderr",
     "output_type": "stream",
     "text": [
      "Total Progress:  98%|█████████▊| 246/250 [2:02:10<01:47, 26.87s/it]"
     ]
    },
    {
     "name": "stdout",
     "output_type": "stream",
     "text": [
      "Epoch [246/250], Loss: 0.0834820190\n"
     ]
    },
    {
     "name": "stderr",
     "output_type": "stream",
     "text": [
      "Total Progress:  99%|█████████▉| 247/250 [2:02:38<01:21, 27.11s/it]"
     ]
    },
    {
     "name": "stdout",
     "output_type": "stream",
     "text": [
      "Epoch [247/250], Loss: 0.0853591694\n"
     ]
    },
    {
     "name": "stderr",
     "output_type": "stream",
     "text": [
      "Total Progress:  99%|█████████▉| 248/250 [2:03:06<00:54, 27.43s/it]"
     ]
    },
    {
     "name": "stdout",
     "output_type": "stream",
     "text": [
      "Epoch [248/250], Loss: 0.0839041047\n"
     ]
    },
    {
     "name": "stderr",
     "output_type": "stream",
     "text": [
      "Total Progress: 100%|█████████▉| 249/250 [2:03:34<00:27, 27.55s/it]"
     ]
    },
    {
     "name": "stdout",
     "output_type": "stream",
     "text": [
      "Epoch [249/250], Loss: 0.0822550022\n"
     ]
    },
    {
     "name": "stderr",
     "output_type": "stream",
     "text": [
      "Total Progress: 100%|██████████| 250/250 [2:04:00<00:00, 29.76s/it]"
     ]
    },
    {
     "name": "stdout",
     "output_type": "stream",
     "text": [
      "Epoch [250/250], Loss: 0.0819373532\n"
     ]
    },
    {
     "name": "stderr",
     "output_type": "stream",
     "text": [
      "\n"
     ]
    }
   ],
   "source": [
    "from tqdm import tqdm\n",
    "import time\n",
    "\n",
    "num_epochs = 250\n",
    "\n",
    "device = torch.device('cuda' if torch.cuda.is_available() else \"cpu\")\n",
    "model.to(device)\n",
    "criterion = nn.CrossEntropyLoss()\n",
    "best_val_loss = 999\n",
    "\n",
    "epoch_bar = tqdm(total=num_epochs, desc='Total Progress')\n",
    "\n",
    "for epoch in range(num_epochs):\n",
    "    model.train()\n",
    "    train_loss = 0\n",
    "    for images, labels in train_loader:\n",
    "        images = images.to(device)\n",
    "        labels = labels.to(device)\n",
    "\n",
    "        labels = labels.squeeze(dim=1).long()\n",
    "        outputs = model(images)\n",
    "    \n",
    "        loss = criterion(outputs, labels)\n",
    "        loss.backward()\n",
    "        optimizer.step()\n",
    "        optimizer.zero_grad()\n",
    "        train_loss += loss.item()\n",
    "    model.eval()\n",
    "    with torch.no_grad():\n",
    "        val_loss = 0\n",
    "        for images, labels in val_loader:\n",
    "            images = images.to(device)\n",
    "            labels = labels.to(device)\n",
    "            labels = labels.squeeze(dim=1).long()\n",
    "            \n",
    "            outputs = model(images)\n",
    "\n",
    "            val_loss += criterion(outputs.float(),labels.long()).item()\n",
    "\n",
    "    print(f\"Epoch [{epoch+1}/{num_epochs}], Loss: {val_loss/len(val_loader):.10f}\")\n",
    "    if val_loss < best_val_loss:\n",
    "        best_val_loss = val_loss\n",
    "        checkpoint = { \n",
    "            'epoch': epoch,\n",
    "            'model': model.state_dict(),\n",
    "            'optimizer': optimizer.state_dict(),\n",
    "            'loss': val_loss,\n",
    "        }\n",
    "        save_path = f'model.pth'\n",
    "        torch.save(checkpoint, save_path)\n",
    "        \n",
    "    epoch_bar.update(1)\n",
    "    wandb.log({'Val_loss': val_loss/len(val_loader),'Train_loss': train_loss/len(train_loader)})\n",
    "epoch_bar.close()"
   ]
  },
  {
   "cell_type": "code",
   "execution_count": 18,
   "metadata": {},
   "outputs": [
    {
     "name": "stderr",
     "output_type": "stream",
     "text": [
      "C:\\Users\\ADMIN\\AppData\\Local\\Temp\\ipykernel_21736\\1362335102.py:1: FutureWarning: You are using `torch.load` with `weights_only=False` (the current default value), which uses the default pickle module implicitly. It is possible to construct malicious pickle data which will execute arbitrary code during unpickling (See https://github.com/pytorch/pytorch/blob/main/SECURITY.md#untrusted-models for more details). In a future release, the default value for `weights_only` will be flipped to `True`. This limits the functions that could be executed during unpickling. Arbitrary objects will no longer be allowed to be loaded via this mode unless they are explicitly allowlisted by the user via `torch.serialization.add_safe_globals`. We recommend you start setting `weights_only=True` for any use case where you don't have full control of the loaded file. Please open an issue on GitHub for any issues related to this experimental feature.\n",
      "  checkpoint = torch.load(r'C:\\Users\\ADMIN\\Desktop\\Unet Dataset\\model.pth')\n"
     ]
    },
    {
     "data": {
      "text/plain": [
       "UnetPlusPlus(\n",
       "  (encoder): ResNetEncoder(\n",
       "    (conv1): Conv2d(3, 64, kernel_size=(7, 7), stride=(2, 2), padding=(3, 3), bias=False)\n",
       "    (bn1): BatchNorm2d(64, eps=1e-05, momentum=0.1, affine=True, track_running_stats=True)\n",
       "    (relu): ReLU(inplace=True)\n",
       "    (maxpool): MaxPool2d(kernel_size=3, stride=2, padding=1, dilation=1, ceil_mode=False)\n",
       "    (layer1): Sequential(\n",
       "      (0): BasicBlock(\n",
       "        (conv1): Conv2d(64, 64, kernel_size=(3, 3), stride=(1, 1), padding=(1, 1), bias=False)\n",
       "        (bn1): BatchNorm2d(64, eps=1e-05, momentum=0.1, affine=True, track_running_stats=True)\n",
       "        (relu): ReLU(inplace=True)\n",
       "        (conv2): Conv2d(64, 64, kernel_size=(3, 3), stride=(1, 1), padding=(1, 1), bias=False)\n",
       "        (bn2): BatchNorm2d(64, eps=1e-05, momentum=0.1, affine=True, track_running_stats=True)\n",
       "      )\n",
       "      (1): BasicBlock(\n",
       "        (conv1): Conv2d(64, 64, kernel_size=(3, 3), stride=(1, 1), padding=(1, 1), bias=False)\n",
       "        (bn1): BatchNorm2d(64, eps=1e-05, momentum=0.1, affine=True, track_running_stats=True)\n",
       "        (relu): ReLU(inplace=True)\n",
       "        (conv2): Conv2d(64, 64, kernel_size=(3, 3), stride=(1, 1), padding=(1, 1), bias=False)\n",
       "        (bn2): BatchNorm2d(64, eps=1e-05, momentum=0.1, affine=True, track_running_stats=True)\n",
       "      )\n",
       "      (2): BasicBlock(\n",
       "        (conv1): Conv2d(64, 64, kernel_size=(3, 3), stride=(1, 1), padding=(1, 1), bias=False)\n",
       "        (bn1): BatchNorm2d(64, eps=1e-05, momentum=0.1, affine=True, track_running_stats=True)\n",
       "        (relu): ReLU(inplace=True)\n",
       "        (conv2): Conv2d(64, 64, kernel_size=(3, 3), stride=(1, 1), padding=(1, 1), bias=False)\n",
       "        (bn2): BatchNorm2d(64, eps=1e-05, momentum=0.1, affine=True, track_running_stats=True)\n",
       "      )\n",
       "    )\n",
       "    (layer2): Sequential(\n",
       "      (0): BasicBlock(\n",
       "        (conv1): Conv2d(64, 128, kernel_size=(3, 3), stride=(2, 2), padding=(1, 1), bias=False)\n",
       "        (bn1): BatchNorm2d(128, eps=1e-05, momentum=0.1, affine=True, track_running_stats=True)\n",
       "        (relu): ReLU(inplace=True)\n",
       "        (conv2): Conv2d(128, 128, kernel_size=(3, 3), stride=(1, 1), padding=(1, 1), bias=False)\n",
       "        (bn2): BatchNorm2d(128, eps=1e-05, momentum=0.1, affine=True, track_running_stats=True)\n",
       "        (downsample): Sequential(\n",
       "          (0): Conv2d(64, 128, kernel_size=(1, 1), stride=(2, 2), bias=False)\n",
       "          (1): BatchNorm2d(128, eps=1e-05, momentum=0.1, affine=True, track_running_stats=True)\n",
       "        )\n",
       "      )\n",
       "      (1): BasicBlock(\n",
       "        (conv1): Conv2d(128, 128, kernel_size=(3, 3), stride=(1, 1), padding=(1, 1), bias=False)\n",
       "        (bn1): BatchNorm2d(128, eps=1e-05, momentum=0.1, affine=True, track_running_stats=True)\n",
       "        (relu): ReLU(inplace=True)\n",
       "        (conv2): Conv2d(128, 128, kernel_size=(3, 3), stride=(1, 1), padding=(1, 1), bias=False)\n",
       "        (bn2): BatchNorm2d(128, eps=1e-05, momentum=0.1, affine=True, track_running_stats=True)\n",
       "      )\n",
       "      (2): BasicBlock(\n",
       "        (conv1): Conv2d(128, 128, kernel_size=(3, 3), stride=(1, 1), padding=(1, 1), bias=False)\n",
       "        (bn1): BatchNorm2d(128, eps=1e-05, momentum=0.1, affine=True, track_running_stats=True)\n",
       "        (relu): ReLU(inplace=True)\n",
       "        (conv2): Conv2d(128, 128, kernel_size=(3, 3), stride=(1, 1), padding=(1, 1), bias=False)\n",
       "        (bn2): BatchNorm2d(128, eps=1e-05, momentum=0.1, affine=True, track_running_stats=True)\n",
       "      )\n",
       "      (3): BasicBlock(\n",
       "        (conv1): Conv2d(128, 128, kernel_size=(3, 3), stride=(1, 1), padding=(1, 1), bias=False)\n",
       "        (bn1): BatchNorm2d(128, eps=1e-05, momentum=0.1, affine=True, track_running_stats=True)\n",
       "        (relu): ReLU(inplace=True)\n",
       "        (conv2): Conv2d(128, 128, kernel_size=(3, 3), stride=(1, 1), padding=(1, 1), bias=False)\n",
       "        (bn2): BatchNorm2d(128, eps=1e-05, momentum=0.1, affine=True, track_running_stats=True)\n",
       "      )\n",
       "    )\n",
       "    (layer3): Sequential(\n",
       "      (0): BasicBlock(\n",
       "        (conv1): Conv2d(128, 256, kernel_size=(3, 3), stride=(2, 2), padding=(1, 1), bias=False)\n",
       "        (bn1): BatchNorm2d(256, eps=1e-05, momentum=0.1, affine=True, track_running_stats=True)\n",
       "        (relu): ReLU(inplace=True)\n",
       "        (conv2): Conv2d(256, 256, kernel_size=(3, 3), stride=(1, 1), padding=(1, 1), bias=False)\n",
       "        (bn2): BatchNorm2d(256, eps=1e-05, momentum=0.1, affine=True, track_running_stats=True)\n",
       "        (downsample): Sequential(\n",
       "          (0): Conv2d(128, 256, kernel_size=(1, 1), stride=(2, 2), bias=False)\n",
       "          (1): BatchNorm2d(256, eps=1e-05, momentum=0.1, affine=True, track_running_stats=True)\n",
       "        )\n",
       "      )\n",
       "      (1): BasicBlock(\n",
       "        (conv1): Conv2d(256, 256, kernel_size=(3, 3), stride=(1, 1), padding=(1, 1), bias=False)\n",
       "        (bn1): BatchNorm2d(256, eps=1e-05, momentum=0.1, affine=True, track_running_stats=True)\n",
       "        (relu): ReLU(inplace=True)\n",
       "        (conv2): Conv2d(256, 256, kernel_size=(3, 3), stride=(1, 1), padding=(1, 1), bias=False)\n",
       "        (bn2): BatchNorm2d(256, eps=1e-05, momentum=0.1, affine=True, track_running_stats=True)\n",
       "      )\n",
       "      (2): BasicBlock(\n",
       "        (conv1): Conv2d(256, 256, kernel_size=(3, 3), stride=(1, 1), padding=(1, 1), bias=False)\n",
       "        (bn1): BatchNorm2d(256, eps=1e-05, momentum=0.1, affine=True, track_running_stats=True)\n",
       "        (relu): ReLU(inplace=True)\n",
       "        (conv2): Conv2d(256, 256, kernel_size=(3, 3), stride=(1, 1), padding=(1, 1), bias=False)\n",
       "        (bn2): BatchNorm2d(256, eps=1e-05, momentum=0.1, affine=True, track_running_stats=True)\n",
       "      )\n",
       "      (3): BasicBlock(\n",
       "        (conv1): Conv2d(256, 256, kernel_size=(3, 3), stride=(1, 1), padding=(1, 1), bias=False)\n",
       "        (bn1): BatchNorm2d(256, eps=1e-05, momentum=0.1, affine=True, track_running_stats=True)\n",
       "        (relu): ReLU(inplace=True)\n",
       "        (conv2): Conv2d(256, 256, kernel_size=(3, 3), stride=(1, 1), padding=(1, 1), bias=False)\n",
       "        (bn2): BatchNorm2d(256, eps=1e-05, momentum=0.1, affine=True, track_running_stats=True)\n",
       "      )\n",
       "      (4): BasicBlock(\n",
       "        (conv1): Conv2d(256, 256, kernel_size=(3, 3), stride=(1, 1), padding=(1, 1), bias=False)\n",
       "        (bn1): BatchNorm2d(256, eps=1e-05, momentum=0.1, affine=True, track_running_stats=True)\n",
       "        (relu): ReLU(inplace=True)\n",
       "        (conv2): Conv2d(256, 256, kernel_size=(3, 3), stride=(1, 1), padding=(1, 1), bias=False)\n",
       "        (bn2): BatchNorm2d(256, eps=1e-05, momentum=0.1, affine=True, track_running_stats=True)\n",
       "      )\n",
       "      (5): BasicBlock(\n",
       "        (conv1): Conv2d(256, 256, kernel_size=(3, 3), stride=(1, 1), padding=(1, 1), bias=False)\n",
       "        (bn1): BatchNorm2d(256, eps=1e-05, momentum=0.1, affine=True, track_running_stats=True)\n",
       "        (relu): ReLU(inplace=True)\n",
       "        (conv2): Conv2d(256, 256, kernel_size=(3, 3), stride=(1, 1), padding=(1, 1), bias=False)\n",
       "        (bn2): BatchNorm2d(256, eps=1e-05, momentum=0.1, affine=True, track_running_stats=True)\n",
       "      )\n",
       "    )\n",
       "    (layer4): Sequential(\n",
       "      (0): BasicBlock(\n",
       "        (conv1): Conv2d(256, 512, kernel_size=(3, 3), stride=(2, 2), padding=(1, 1), bias=False)\n",
       "        (bn1): BatchNorm2d(512, eps=1e-05, momentum=0.1, affine=True, track_running_stats=True)\n",
       "        (relu): ReLU(inplace=True)\n",
       "        (conv2): Conv2d(512, 512, kernel_size=(3, 3), stride=(1, 1), padding=(1, 1), bias=False)\n",
       "        (bn2): BatchNorm2d(512, eps=1e-05, momentum=0.1, affine=True, track_running_stats=True)\n",
       "        (downsample): Sequential(\n",
       "          (0): Conv2d(256, 512, kernel_size=(1, 1), stride=(2, 2), bias=False)\n",
       "          (1): BatchNorm2d(512, eps=1e-05, momentum=0.1, affine=True, track_running_stats=True)\n",
       "        )\n",
       "      )\n",
       "      (1): BasicBlock(\n",
       "        (conv1): Conv2d(512, 512, kernel_size=(3, 3), stride=(1, 1), padding=(1, 1), bias=False)\n",
       "        (bn1): BatchNorm2d(512, eps=1e-05, momentum=0.1, affine=True, track_running_stats=True)\n",
       "        (relu): ReLU(inplace=True)\n",
       "        (conv2): Conv2d(512, 512, kernel_size=(3, 3), stride=(1, 1), padding=(1, 1), bias=False)\n",
       "        (bn2): BatchNorm2d(512, eps=1e-05, momentum=0.1, affine=True, track_running_stats=True)\n",
       "      )\n",
       "      (2): BasicBlock(\n",
       "        (conv1): Conv2d(512, 512, kernel_size=(3, 3), stride=(1, 1), padding=(1, 1), bias=False)\n",
       "        (bn1): BatchNorm2d(512, eps=1e-05, momentum=0.1, affine=True, track_running_stats=True)\n",
       "        (relu): ReLU(inplace=True)\n",
       "        (conv2): Conv2d(512, 512, kernel_size=(3, 3), stride=(1, 1), padding=(1, 1), bias=False)\n",
       "        (bn2): BatchNorm2d(512, eps=1e-05, momentum=0.1, affine=True, track_running_stats=True)\n",
       "      )\n",
       "    )\n",
       "  )\n",
       "  (decoder): UnetPlusPlusDecoder(\n",
       "    (center): Identity()\n",
       "    (blocks): ModuleDict(\n",
       "      (x_0_0): DecoderBlock(\n",
       "        (conv1): Conv2dReLU(\n",
       "          (0): Conv2d(768, 256, kernel_size=(3, 3), stride=(1, 1), padding=(1, 1), bias=False)\n",
       "          (1): BatchNorm2d(256, eps=1e-05, momentum=0.1, affine=True, track_running_stats=True)\n",
       "          (2): ReLU(inplace=True)\n",
       "        )\n",
       "        (attention1): Attention(\n",
       "          (attention): Identity()\n",
       "        )\n",
       "        (conv2): Conv2dReLU(\n",
       "          (0): Conv2d(256, 256, kernel_size=(3, 3), stride=(1, 1), padding=(1, 1), bias=False)\n",
       "          (1): BatchNorm2d(256, eps=1e-05, momentum=0.1, affine=True, track_running_stats=True)\n",
       "          (2): ReLU(inplace=True)\n",
       "        )\n",
       "        (attention2): Attention(\n",
       "          (attention): Identity()\n",
       "        )\n",
       "      )\n",
       "      (x_0_1): DecoderBlock(\n",
       "        (conv1): Conv2dReLU(\n",
       "          (0): Conv2d(512, 128, kernel_size=(3, 3), stride=(1, 1), padding=(1, 1), bias=False)\n",
       "          (1): BatchNorm2d(128, eps=1e-05, momentum=0.1, affine=True, track_running_stats=True)\n",
       "          (2): ReLU(inplace=True)\n",
       "        )\n",
       "        (attention1): Attention(\n",
       "          (attention): Identity()\n",
       "        )\n",
       "        (conv2): Conv2dReLU(\n",
       "          (0): Conv2d(128, 128, kernel_size=(3, 3), stride=(1, 1), padding=(1, 1), bias=False)\n",
       "          (1): BatchNorm2d(128, eps=1e-05, momentum=0.1, affine=True, track_running_stats=True)\n",
       "          (2): ReLU(inplace=True)\n",
       "        )\n",
       "        (attention2): Attention(\n",
       "          (attention): Identity()\n",
       "        )\n",
       "      )\n",
       "      (x_1_1): DecoderBlock(\n",
       "        (conv1): Conv2dReLU(\n",
       "          (0): Conv2d(384, 128, kernel_size=(3, 3), stride=(1, 1), padding=(1, 1), bias=False)\n",
       "          (1): BatchNorm2d(128, eps=1e-05, momentum=0.1, affine=True, track_running_stats=True)\n",
       "          (2): ReLU(inplace=True)\n",
       "        )\n",
       "        (attention1): Attention(\n",
       "          (attention): Identity()\n",
       "        )\n",
       "        (conv2): Conv2dReLU(\n",
       "          (0): Conv2d(128, 128, kernel_size=(3, 3), stride=(1, 1), padding=(1, 1), bias=False)\n",
       "          (1): BatchNorm2d(128, eps=1e-05, momentum=0.1, affine=True, track_running_stats=True)\n",
       "          (2): ReLU(inplace=True)\n",
       "        )\n",
       "        (attention2): Attention(\n",
       "          (attention): Identity()\n",
       "        )\n",
       "      )\n",
       "      (x_0_2): DecoderBlock(\n",
       "        (conv1): Conv2dReLU(\n",
       "          (0): Conv2d(320, 64, kernel_size=(3, 3), stride=(1, 1), padding=(1, 1), bias=False)\n",
       "          (1): BatchNorm2d(64, eps=1e-05, momentum=0.1, affine=True, track_running_stats=True)\n",
       "          (2): ReLU(inplace=True)\n",
       "        )\n",
       "        (attention1): Attention(\n",
       "          (attention): Identity()\n",
       "        )\n",
       "        (conv2): Conv2dReLU(\n",
       "          (0): Conv2d(64, 64, kernel_size=(3, 3), stride=(1, 1), padding=(1, 1), bias=False)\n",
       "          (1): BatchNorm2d(64, eps=1e-05, momentum=0.1, affine=True, track_running_stats=True)\n",
       "          (2): ReLU(inplace=True)\n",
       "        )\n",
       "        (attention2): Attention(\n",
       "          (attention): Identity()\n",
       "        )\n",
       "      )\n",
       "      (x_1_2): DecoderBlock(\n",
       "        (conv1): Conv2dReLU(\n",
       "          (0): Conv2d(256, 64, kernel_size=(3, 3), stride=(1, 1), padding=(1, 1), bias=False)\n",
       "          (1): BatchNorm2d(64, eps=1e-05, momentum=0.1, affine=True, track_running_stats=True)\n",
       "          (2): ReLU(inplace=True)\n",
       "        )\n",
       "        (attention1): Attention(\n",
       "          (attention): Identity()\n",
       "        )\n",
       "        (conv2): Conv2dReLU(\n",
       "          (0): Conv2d(64, 64, kernel_size=(3, 3), stride=(1, 1), padding=(1, 1), bias=False)\n",
       "          (1): BatchNorm2d(64, eps=1e-05, momentum=0.1, affine=True, track_running_stats=True)\n",
       "          (2): ReLU(inplace=True)\n",
       "        )\n",
       "        (attention2): Attention(\n",
       "          (attention): Identity()\n",
       "        )\n",
       "      )\n",
       "      (x_2_2): DecoderBlock(\n",
       "        (conv1): Conv2dReLU(\n",
       "          (0): Conv2d(192, 64, kernel_size=(3, 3), stride=(1, 1), padding=(1, 1), bias=False)\n",
       "          (1): BatchNorm2d(64, eps=1e-05, momentum=0.1, affine=True, track_running_stats=True)\n",
       "          (2): ReLU(inplace=True)\n",
       "        )\n",
       "        (attention1): Attention(\n",
       "          (attention): Identity()\n",
       "        )\n",
       "        (conv2): Conv2dReLU(\n",
       "          (0): Conv2d(64, 64, kernel_size=(3, 3), stride=(1, 1), padding=(1, 1), bias=False)\n",
       "          (1): BatchNorm2d(64, eps=1e-05, momentum=0.1, affine=True, track_running_stats=True)\n",
       "          (2): ReLU(inplace=True)\n",
       "        )\n",
       "        (attention2): Attention(\n",
       "          (attention): Identity()\n",
       "        )\n",
       "      )\n",
       "      (x_0_3): DecoderBlock(\n",
       "        (conv1): Conv2dReLU(\n",
       "          (0): Conv2d(320, 32, kernel_size=(3, 3), stride=(1, 1), padding=(1, 1), bias=False)\n",
       "          (1): BatchNorm2d(32, eps=1e-05, momentum=0.1, affine=True, track_running_stats=True)\n",
       "          (2): ReLU(inplace=True)\n",
       "        )\n",
       "        (attention1): Attention(\n",
       "          (attention): Identity()\n",
       "        )\n",
       "        (conv2): Conv2dReLU(\n",
       "          (0): Conv2d(32, 32, kernel_size=(3, 3), stride=(1, 1), padding=(1, 1), bias=False)\n",
       "          (1): BatchNorm2d(32, eps=1e-05, momentum=0.1, affine=True, track_running_stats=True)\n",
       "          (2): ReLU(inplace=True)\n",
       "        )\n",
       "        (attention2): Attention(\n",
       "          (attention): Identity()\n",
       "        )\n",
       "      )\n",
       "      (x_1_3): DecoderBlock(\n",
       "        (conv1): Conv2dReLU(\n",
       "          (0): Conv2d(256, 64, kernel_size=(3, 3), stride=(1, 1), padding=(1, 1), bias=False)\n",
       "          (1): BatchNorm2d(64, eps=1e-05, momentum=0.1, affine=True, track_running_stats=True)\n",
       "          (2): ReLU(inplace=True)\n",
       "        )\n",
       "        (attention1): Attention(\n",
       "          (attention): Identity()\n",
       "        )\n",
       "        (conv2): Conv2dReLU(\n",
       "          (0): Conv2d(64, 64, kernel_size=(3, 3), stride=(1, 1), padding=(1, 1), bias=False)\n",
       "          (1): BatchNorm2d(64, eps=1e-05, momentum=0.1, affine=True, track_running_stats=True)\n",
       "          (2): ReLU(inplace=True)\n",
       "        )\n",
       "        (attention2): Attention(\n",
       "          (attention): Identity()\n",
       "        )\n",
       "      )\n",
       "      (x_2_3): DecoderBlock(\n",
       "        (conv1): Conv2dReLU(\n",
       "          (0): Conv2d(192, 64, kernel_size=(3, 3), stride=(1, 1), padding=(1, 1), bias=False)\n",
       "          (1): BatchNorm2d(64, eps=1e-05, momentum=0.1, affine=True, track_running_stats=True)\n",
       "          (2): ReLU(inplace=True)\n",
       "        )\n",
       "        (attention1): Attention(\n",
       "          (attention): Identity()\n",
       "        )\n",
       "        (conv2): Conv2dReLU(\n",
       "          (0): Conv2d(64, 64, kernel_size=(3, 3), stride=(1, 1), padding=(1, 1), bias=False)\n",
       "          (1): BatchNorm2d(64, eps=1e-05, momentum=0.1, affine=True, track_running_stats=True)\n",
       "          (2): ReLU(inplace=True)\n",
       "        )\n",
       "        (attention2): Attention(\n",
       "          (attention): Identity()\n",
       "        )\n",
       "      )\n",
       "      (x_3_3): DecoderBlock(\n",
       "        (conv1): Conv2dReLU(\n",
       "          (0): Conv2d(128, 64, kernel_size=(3, 3), stride=(1, 1), padding=(1, 1), bias=False)\n",
       "          (1): BatchNorm2d(64, eps=1e-05, momentum=0.1, affine=True, track_running_stats=True)\n",
       "          (2): ReLU(inplace=True)\n",
       "        )\n",
       "        (attention1): Attention(\n",
       "          (attention): Identity()\n",
       "        )\n",
       "        (conv2): Conv2dReLU(\n",
       "          (0): Conv2d(64, 64, kernel_size=(3, 3), stride=(1, 1), padding=(1, 1), bias=False)\n",
       "          (1): BatchNorm2d(64, eps=1e-05, momentum=0.1, affine=True, track_running_stats=True)\n",
       "          (2): ReLU(inplace=True)\n",
       "        )\n",
       "        (attention2): Attention(\n",
       "          (attention): Identity()\n",
       "        )\n",
       "      )\n",
       "      (x_0_4): DecoderBlock(\n",
       "        (conv1): Conv2dReLU(\n",
       "          (0): Conv2d(32, 16, kernel_size=(3, 3), stride=(1, 1), padding=(1, 1), bias=False)\n",
       "          (1): BatchNorm2d(16, eps=1e-05, momentum=0.1, affine=True, track_running_stats=True)\n",
       "          (2): ReLU(inplace=True)\n",
       "        )\n",
       "        (attention1): Attention(\n",
       "          (attention): Identity()\n",
       "        )\n",
       "        (conv2): Conv2dReLU(\n",
       "          (0): Conv2d(16, 16, kernel_size=(3, 3), stride=(1, 1), padding=(1, 1), bias=False)\n",
       "          (1): BatchNorm2d(16, eps=1e-05, momentum=0.1, affine=True, track_running_stats=True)\n",
       "          (2): ReLU(inplace=True)\n",
       "        )\n",
       "        (attention2): Attention(\n",
       "          (attention): Identity()\n",
       "        )\n",
       "      )\n",
       "    )\n",
       "  )\n",
       "  (segmentation_head): SegmentationHead(\n",
       "    (0): Conv2d(16, 3, kernel_size=(3, 3), stride=(1, 1), padding=(1, 1))\n",
       "    (1): Identity()\n",
       "    (2): Activation(\n",
       "      (activation): Identity()\n",
       "    )\n",
       "  )\n",
       ")"
      ]
     },
     "execution_count": 18,
     "metadata": {},
     "output_type": "execute_result"
    }
   ],
   "source": [
    "checkpoint = torch.load(r'C:\\Users\\ADMIN\\Desktop\\Unet Dataset\\model.pth')\n",
    "model.load_state_dict(checkpoint['model'])\n",
    "device = torch.device('cuda' if torch.cuda.is_available() else \"cpu\")\n",
    "model.to(device)"
   ]
  },
  {
   "cell_type": "code",
   "execution_count": 19,
   "metadata": {},
   "outputs": [],
   "source": [
    "model.eval()\n",
    "for i in os.listdir(r'C:\\Users\\ADMIN\\Desktop\\Unet Dataset\\test'):\n",
    "    img_path = os.path.join(r'C:\\Users\\ADMIN\\Desktop\\Unet Dataset\\test', i)\n",
    "    ori_img = cv2.imread(img_path)\n",
    "    ori_img = cv2.cvtColor(ori_img, cv2.COLOR_BGR2RGB)\n",
    "    ori_w = ori_img.shape[0]\n",
    "    ori_h = ori_img.shape[1]\n",
    "    img = cv2.resize(ori_img, (256, 256))\n",
    "    transformed = val_transformation(image=img)\n",
    "    input_img = transformed[\"image\"]\n",
    "    input_img = input_img.unsqueeze(0).to(device)\n",
    "    with torch.no_grad():\n",
    "        output_mask = model.forward(input_img).squeeze(0).cpu().numpy().transpose(1,2,0)\n",
    "    mask = cv2.resize(output_mask, (ori_h, ori_w))\n",
    "    mask = np.argmax(mask, axis=2)\n",
    "    mask_rgb = mask_to_rgb(mask, color_dict)\n",
    "    mask_rgb = cv2.cvtColor(mask_rgb, cv2.COLOR_RGB2BGR)\n",
    "    cv2.imwrite(\"prediction/{}\".format(i), mask_rgb) "
   ]
  },
  {
   "cell_type": "code",
   "execution_count": 22,
   "metadata": {},
   "outputs": [
    {
     "name": "stdout",
     "output_type": "stream",
     "text": [
      "C:\\Users\\ADMIN\\Desktop\\Unet Dataset\\train_gt\\0081835cf877e004e8bfb905b78a9139.jpeg\n",
      "C:\\Users\\ADMIN\\Desktop\\Unet Dataset\\train_gt\\00d827b8bcf15050fb9af0ef92846b60.jpeg\n",
      "C:\\Users\\ADMIN\\Desktop\\Unet Dataset\\train_gt\\00f9b6c911c4aa179344271fa54aa1b2.jpeg\n",
      "C:\\Users\\ADMIN\\Desktop\\Unet Dataset\\train_gt\\00fd197cd955fa095f978455cef3593c.jpeg\n",
      "C:\\Users\\ADMIN\\Desktop\\Unet Dataset\\train_gt\\01c13a3d810b000db55759486b8aa1b8.jpeg\n",
      "C:\\Users\\ADMIN\\Desktop\\Unet Dataset\\train_gt\\01e80947f9c02314fc58bdb26679bff5.jpeg\n",
      "C:\\Users\\ADMIN\\Desktop\\Unet Dataset\\train_gt\\01ff069910ea2abe3c84417fda801941.jpeg\n",
      "C:\\Users\\ADMIN\\Desktop\\Unet Dataset\\train_gt\\02000f9b6c911c4aa179344271fa54aa.jpeg\n",
      "C:\\Users\\ADMIN\\Desktop\\Unet Dataset\\train_gt\\021bab9fc7330398846f67b5df7cdf3f.jpeg\n",
      "C:\\Users\\ADMIN\\Desktop\\Unet Dataset\\train_gt\\02345d341253851bc866ebe4d18d5401.jpeg\n",
      "C:\\Users\\ADMIN\\Desktop\\Unet Dataset\\train_gt\\025ba0e3b6d0bf0b5633059989805234.jpeg\n",
      "C:\\Users\\ADMIN\\Desktop\\Unet Dataset\\train_gt\\02b296cc5cfd263f1f90be2879923502.jpeg\n",
      "C:\\Users\\ADMIN\\Desktop\\Unet Dataset\\train_gt\\0317371a966bf4b3466463a3c64db170.jpeg\n",
      "C:\\Users\\ADMIN\\Desktop\\Unet Dataset\\train_gt\\033c03b0af70cc0f6d32b726342865f6.jpeg\n",
      "C:\\Users\\ADMIN\\Desktop\\Unet Dataset\\train_gt\\0351267e98bd886544a2a98ee309ce76.jpeg\n",
      "C:\\Users\\ADMIN\\Desktop\\Unet Dataset\\train_gt\\03983064a3eb4d49033c03b0af70cc0f.jpeg\n",
      "C:\\Users\\ADMIN\\Desktop\\Unet Dataset\\train_gt\\03d2cbbcfa4baf3866269959350e7998.jpeg\n",
      "C:\\Users\\ADMIN\\Desktop\\Unet Dataset\\train_gt\\03f909df7cd066b37f538abe9de67869.jpeg\n",
      "C:\\Users\\ADMIN\\Desktop\\Unet Dataset\\train_gt\\040781d54ffd6a8ee924dbd70f618d52.jpeg\n",
      "C:\\Users\\ADMIN\\Desktop\\Unet Dataset\\train_gt\\04414eaa922bca73d5379c7c851a5082.jpeg\n",
      "C:\\Users\\ADMIN\\Desktop\\Unet Dataset\\train_gt\\0449922d6157edc3d82df22c41b503dc.jpeg\n",
      "C:\\Users\\ADMIN\\Desktop\\Unet Dataset\\train_gt\\0449ad43fe2cd066b9fdbc3bbc04a3af.jpeg\n",
      "C:\\Users\\ADMIN\\Desktop\\Unet Dataset\\train_gt\\047dc0cbb58aa032554b5eb4fcf0130a.jpeg\n",
      "C:\\Users\\ADMIN\\Desktop\\Unet Dataset\\train_gt\\04801b37705c1e555525d4f09ce7270b.jpeg\n",
      "C:\\Users\\ADMIN\\Desktop\\Unet Dataset\\train_gt\\0496b83ef461c2a337948a41964c1d4f.jpeg\n",
      "C:\\Users\\ADMIN\\Desktop\\Unet Dataset\\train_gt\\04c34a359bbb402345d341253851bc86.jpeg\n",
      "C:\\Users\\ADMIN\\Desktop\\Unet Dataset\\train_gt\\04ccdc265a0b0a1230b118fa8625605d.jpeg\n",
      "C:\\Users\\ADMIN\\Desktop\\Unet Dataset\\train_gt\\04f234b701fc691ffa02f6068b683019.jpeg\n",
      "C:\\Users\\ADMIN\\Desktop\\Unet Dataset\\train_gt\\051fc90e85d064f787d4be168d951058.jpeg\n",
      "C:\\Users\\ADMIN\\Desktop\\Unet Dataset\\train_gt\\052600f1f93e952886d1697f8af9b550.jpeg\n",
      "C:\\Users\\ADMIN\\Desktop\\Unet Dataset\\train_gt\\0528810e9d05be942fd5dd0902e0db22.jpeg\n",
      "C:\\Users\\ADMIN\\Desktop\\Unet Dataset\\train_gt\\054d694539ef2424a9218697283baa36.jpeg\n",
      "C:\\Users\\ADMIN\\Desktop\\Unet Dataset\\train_gt\\0676289b3e732adb4c5d1580670d78b9.jpeg\n",
      "C:\\Users\\ADMIN\\Desktop\\Unet Dataset\\train_gt\\069910ea2abe3c84417fda8019410b1f.jpeg\n",
      "C:\\Users\\ADMIN\\Desktop\\Unet Dataset\\train_gt\\06cb09d1fc6869d7b4193425b976973f.jpeg\n",
      "C:\\Users\\ADMIN\\Desktop\\Unet Dataset\\train_gt\\076135d76d0bbd4ce2a1405f7d507592.jpeg\n",
      "C:\\Users\\ADMIN\\Desktop\\Unet Dataset\\train_gt\\077bad31c8c5f54ffaa27a623511c389.jpeg\n",
      "C:\\Users\\ADMIN\\Desktop\\Unet Dataset\\train_gt\\07907941a8490fd7df8e26031fbb5e52.jpeg\n",
      "C:\\Users\\ADMIN\\Desktop\\Unet Dataset\\train_gt\\081835cf877e004e8bfb905b78a91391.jpeg\n",
      "C:\\Users\\ADMIN\\Desktop\\Unet Dataset\\train_gt\\085835c525af63a987f428c953248704.jpeg\n",
      "C:\\Users\\ADMIN\\Desktop\\Unet Dataset\\train_gt\\08cc3736e216b08d237285e26c90e179.jpeg\n",
      "C:\\Users\\ADMIN\\Desktop\\Unet Dataset\\train_gt\\08d237285e26c90e1797c77826f9a702.jpeg\n",
      "C:\\Users\\ADMIN\\Desktop\\Unet Dataset\\train_gt\\09384b57bb6a052600f1f93e952886d1.jpeg\n",
      "C:\\Users\\ADMIN\\Desktop\\Unet Dataset\\train_gt\\09817287a8aef566999467c2a48847ae.jpeg\n",
      "C:\\Users\\ADMIN\\Desktop\\Unet Dataset\\train_gt\\099130d98309817287a8aef566999467.jpeg\n",
      "C:\\Users\\ADMIN\\Desktop\\Unet Dataset\\train_gt\\09d1dff09b8405734fbeedd0f9da760d.jpeg\n",
      "C:\\Users\\ADMIN\\Desktop\\Unet Dataset\\train_gt\\09df7cd066b37f538abe9de67869ac66.jpeg\n",
      "C:\\Users\\ADMIN\\Desktop\\Unet Dataset\\train_gt\\0a1230b118fa8625605da2023387fd56.jpeg\n",
      "C:\\Users\\ADMIN\\Desktop\\Unet Dataset\\train_gt\\0a22abd004c33abf3ae2136cd9dd77ae.jpeg\n",
      "C:\\Users\\ADMIN\\Desktop\\Unet Dataset\\train_gt\\0a6085835c525af63a987f428c953248.jpeg\n",
      "C:\\Users\\ADMIN\\Desktop\\Unet Dataset\\train_gt\\0aa5f7804c34a359bbb402345d341253.jpeg\n",
      "C:\\Users\\ADMIN\\Desktop\\Unet Dataset\\train_gt\\0adabead1ae730831caf386f6e366943.jpeg\n",
      "C:\\Users\\ADMIN\\Desktop\\Unet Dataset\\train_gt\\0b1300cb1b387133b51209db6dcdda5c.jpeg\n",
      "C:\\Users\\ADMIN\\Desktop\\Unet Dataset\\train_gt\\0b47aa6b7b1fecb5579bf4a5ced589c4.jpeg\n",
      "C:\\Users\\ADMIN\\Desktop\\Unet Dataset\\train_gt\\0b9afea6923881bf04350ffd6984cbcc.jpeg\n",
      "C:\\Users\\ADMIN\\Desktop\\Unet Dataset\\train_gt\\0bbd4ce2a1405f7d507592b964b7955a.jpeg\n",
      "C:\\Users\\ADMIN\\Desktop\\Unet Dataset\\train_gt\\0bd55b1393e2ef89424de1556a26c8eb.jpeg\n",
      "C:\\Users\\ADMIN\\Desktop\\Unet Dataset\\train_gt\\0bf0b5633059989805234e222e19769f.jpeg\n",
      "C:\\Users\\ADMIN\\Desktop\\Unet Dataset\\train_gt\\0bfd2a52829ab4e7568cb49a3c530b99.jpeg\n",
      "C:\\Users\\ADMIN\\Desktop\\Unet Dataset\\train_gt\\0c90be319e1d6d19a707a4fdcc58c9c9.jpeg\n",
      "C:\\Users\\ADMIN\\Desktop\\Unet Dataset\\train_gt\\0e1797c77826f9a7021bab9fc7330398.jpeg\n",
      "C:\\Users\\ADMIN\\Desktop\\Unet Dataset\\train_gt\\0e3b6d0bf0b5633059989805234e222e.jpeg\n",
      "C:\\Users\\ADMIN\\Desktop\\Unet Dataset\\train_gt\\0e85d064f787d4be168d9510588bec07.jpeg\n",
      "C:\\Users\\ADMIN\\Desktop\\Unet Dataset\\train_gt\\0eaf044301ff069910ea2abe3c84417f.jpeg\n",
      "C:\\Users\\ADMIN\\Desktop\\Unet Dataset\\train_gt\\0ebce6347c491b37c8c2e5a64a8bd16f.jpeg\n",
      "C:\\Users\\ADMIN\\Desktop\\Unet Dataset\\train_gt\\0f1536ad3f6a5664c1711b62f15ec83b.jpeg\n",
      "C:\\Users\\ADMIN\\Desktop\\Unet Dataset\\train_gt\\0f1f93e952886d1697f8af9b550c1bce.jpeg\n",
      "C:\\Users\\ADMIN\\Desktop\\Unet Dataset\\train_gt\\0f618d52893a23c466c16952b6692e6b.jpeg\n",
      "C:\\Users\\ADMIN\\Desktop\\Unet Dataset\\train_gt\\0fb9af0ef92846b60b1a38a1eecd70eb.jpeg\n",
      "C:\\Users\\ADMIN\\Desktop\\Unet Dataset\\train_gt\\10a38713b2aa6ce8d1cf6644589e532a.jpeg\n",
      "C:\\Users\\ADMIN\\Desktop\\Unet Dataset\\train_gt\\10b1fcf0625f608b4ce97629ab559b28.jpeg\n",
      "C:\\Users\\ADMIN\\Desktop\\Unet Dataset\\train_gt\\117c6599c6dc55c83a46ce2be9800e6c.jpeg\n",
      "C:\\Users\\ADMIN\\Desktop\\Unet Dataset\\train_gt\\11c4aa179344271fa54aa1b27918630b.jpeg\n",
      "C:\\Users\\ADMIN\\Desktop\\Unet Dataset\\train_gt\\11f025ba0e3b6d0bf0b5633059989805.jpeg\n",
      "C:\\Users\\ADMIN\\Desktop\\Unet Dataset\\train_gt\\12295dd542315b4c10e2b0e33fa12bfc.jpeg\n",
      "C:\\Users\\ADMIN\\Desktop\\Unet Dataset\\train_gt\\124dbc13ca0eaf044301ff069910ea2a.jpeg\n",
      "C:\\Users\\ADMIN\\Desktop\\Unet Dataset\\train_gt\\1276e3f404b79b6669075945dc8ec8f0.jpeg\n",
      "C:\\Users\\ADMIN\\Desktop\\Unet Dataset\\train_gt\\130a76ba2ea3ad774c0444718528404f.jpeg\n",
      "C:\\Users\\ADMIN\\Desktop\\Unet Dataset\\train_gt\\13ccf1f4b331a412fc44655fb51f809d.jpeg\n",
      "C:\\Users\\ADMIN\\Desktop\\Unet Dataset\\train_gt\\145a7d8d3b6c0ed754f28ca745212295.jpeg\n",
      "C:\\Users\\ADMIN\\Desktop\\Unet Dataset\\train_gt\\149398b798da48d679d7c7c8d3d96fb2.jpeg\n",
      "C:\\Users\\ADMIN\\Desktop\\Unet Dataset\\train_gt\\14fc58bdb26679bff55177a34fc01019.jpeg\n",
      "C:\\Users\\ADMIN\\Desktop\\Unet Dataset\\train_gt\\152b672ab3492fc6239c86a73f97dd52.jpeg\n",
      "C:\\Users\\ADMIN\\Desktop\\Unet Dataset\\train_gt\\15334875343f27ebc5d92b9076135d76.jpeg\n",
      "C:\\Users\\ADMIN\\Desktop\\Unet Dataset\\train_gt\\1573af7f31f04dc06992d92472facb34.jpeg\n",
      "C:\\Users\\ADMIN\\Desktop\\Unet Dataset\\train_gt\\15a51625559c7e610b1531871f2fd85a.jpeg\n",
      "C:\\Users\\ADMIN\\Desktop\\Unet Dataset\\train_gt\\15c88d81a4106de1bdb8f4c31cfc1c9d.jpeg\n",
      "C:\\Users\\ADMIN\\Desktop\\Unet Dataset\\train_gt\\163a745959c03983064a3eb4d49033c0.jpeg\n",
      "C:\\Users\\ADMIN\\Desktop\\Unet Dataset\\train_gt\\16d06046f5d8dd18841d318d1f625619.jpeg\n",
      "C:\\Users\\ADMIN\\Desktop\\Unet Dataset\\train_gt\\16d4ca6160127cd1d5ff99c267599fc4.jpeg\n",
      "C:\\Users\\ADMIN\\Desktop\\Unet Dataset\\train_gt\\17287a8aef566999467c2a48847ae839.jpeg\n",
      "C:\\Users\\ADMIN\\Desktop\\Unet Dataset\\train_gt\\1743c6c08a1d1ad8f2c5f72724e00d82.jpeg\n",
      "C:\\Users\\ADMIN\\Desktop\\Unet Dataset\\train_gt\\177a34fc01019eec999fd84e679b05f9.jpeg\n",
      "C:\\Users\\ADMIN\\Desktop\\Unet Dataset\\train_gt\\17ba487d4878a9bf8a6f4d4987ea3b4b.jpeg\n",
      "C:\\Users\\ADMIN\\Desktop\\Unet Dataset\\train_gt\\17f87cf12b41e5e9e5040781d54ffd6a.jpeg\n",
      "C:\\Users\\ADMIN\\Desktop\\Unet Dataset\\train_gt\\18d52893a23c466c16952b6692e6be5e.jpeg\n",
      "C:\\Users\\ADMIN\\Desktop\\Unet Dataset\\train_gt\\18d5401f659532897255ce2dd4ae1b0f.jpeg\n",
      "C:\\Users\\ADMIN\\Desktop\\Unet Dataset\\train_gt\\18fa8625605da2023387fd56c04414ea.jpeg\n",
      "C:\\Users\\ADMIN\\Desktop\\Unet Dataset\\train_gt\\193ac8d551c149b60f2965341caf528c.jpeg\n",
      "C:\\Users\\ADMIN\\Desktop\\Unet Dataset\\train_gt\\19410b1fcf0625f608b4ce97629ab559.jpeg\n",
      "C:\\Users\\ADMIN\\Desktop\\Unet Dataset\\train_gt\\195f853af7f8a4df1ec859759b7c8743.jpeg\n",
      "C:\\Users\\ADMIN\\Desktop\\Unet Dataset\\train_gt\\19d9ae2a9833aa6b8232510939c091a7.jpeg\n",
      "C:\\Users\\ADMIN\\Desktop\\Unet Dataset\\train_gt\\1a65d2b46d0a6085835c525af63a987f.jpeg\n",
      "C:\\Users\\ADMIN\\Desktop\\Unet Dataset\\train_gt\\1b248d152b672ab3492fc6239c86a73f.jpeg\n",
      "C:\\Users\\ADMIN\\Desktop\\Unet Dataset\\train_gt\\1b9298e11bb07c70f3701ae6bcec5dd8.jpeg\n",
      "C:\\Users\\ADMIN\\Desktop\\Unet Dataset\\train_gt\\1b976b7a7efc10b1300cb1b387133b51.jpeg\n",
      "C:\\Users\\ADMIN\\Desktop\\Unet Dataset\\train_gt\\1c149b60f2965341caf528ca0adabead.jpeg\n",
      "C:\\Users\\ADMIN\\Desktop\\Unet Dataset\\train_gt\\1c4aa179344271fa54aa1b27918630bf.jpeg\n",
      "C:\\Users\\ADMIN\\Desktop\\Unet Dataset\\train_gt\\1c74143555dbf9c4ebafbd9871ca68e0.jpeg\n",
      "C:\\Users\\ADMIN\\Desktop\\Unet Dataset\\train_gt\\1caf528ca0adabead1ae730831caf386.jpeg\n",
      "C:\\Users\\ADMIN\\Desktop\\Unet Dataset\\train_gt\\1cfc1c9d33f3a7b24423d5c7edd71817.jpeg\n",
      "C:\\Users\\ADMIN\\Desktop\\Unet Dataset\\train_gt\\1d4dc3ddad260bfcb4443de3ef69f6db.jpeg\n",
      "C:\\Users\\ADMIN\\Desktop\\Unet Dataset\\train_gt\\1d54ffd6a8ee924dbd70f618d52893a2.jpeg\n",
      "C:\\Users\\ADMIN\\Desktop\\Unet Dataset\\train_gt\\1db40939d9a2f94285ef2a23f9dbbb7b.jpeg\n",
      "C:\\Users\\ADMIN\\Desktop\\Unet Dataset\\train_gt\\1e555525d4f09ce7270bfec57e441680.jpeg\n",
      "C:\\Users\\ADMIN\\Desktop\\Unet Dataset\\train_gt\\1efbafa0940efd09e941bb189a5dbc20.jpeg\n",
      "C:\\Users\\ADMIN\\Desktop\\Unet Dataset\\train_gt\\1f3cf29dff2864e2d89df283ecd59f91.jpeg\n",
      "C:\\Users\\ADMIN\\Desktop\\Unet Dataset\\train_gt\\1f625619d9ae2a9833aa6b8232510939.jpeg\n",
      "C:\\Users\\ADMIN\\Desktop\\Unet Dataset\\train_gt\\1f659532897255ce2dd4ae1b0f124dbc.jpeg\n",
      "C:\\Users\\ADMIN\\Desktop\\Unet Dataset\\train_gt\\1fcf0625f608b4ce97629ab559b28f39.jpeg\n",
      "C:\\Users\\ADMIN\\Desktop\\Unet Dataset\\train_gt\\1fd8bbf118acd7936140a2d5fc1443c4.jpeg\n",
      "C:\\Users\\ADMIN\\Desktop\\Unet Dataset\\train_gt\\1ff069910ea2abe3c84417fda8019410.jpeg\n",
      "C:\\Users\\ADMIN\\Desktop\\Unet Dataset\\train_gt\\1ffb963e1713a8763b8318ecf467d7ad.jpeg\n",
      "C:\\Users\\ADMIN\\Desktop\\Unet Dataset\\train_gt\\20362736055807907941a8490fd7df8e.jpeg\n",
      "C:\\Users\\ADMIN\\Desktop\\Unet Dataset\\train_gt\\21fbbec5a215f0f235a823d5349ab65a.jpeg\n",
      "C:\\Users\\ADMIN\\Desktop\\Unet Dataset\\train_gt\\222e19769fa2d37d32780fd497e1c0e9.jpeg\n",
      "C:\\Users\\ADMIN\\Desktop\\Unet Dataset\\train_gt\\225024da63fb9a76b92633408da4bcab.jpeg\n",
      "C:\\Users\\ADMIN\\Desktop\\Unet Dataset\\train_gt\\229db65646d81526eb91e2da9e6afaef.jpeg\n",
      "C:\\Users\\ADMIN\\Desktop\\Unet Dataset\\train_gt\\229fe1bce59ddf92e76900d229db6564.jpeg\n",
      "C:\\Users\\ADMIN\\Desktop\\Unet Dataset\\train_gt\\22af6b2da43f71d4dc3ddad260bfcb44.jpeg\n",
      "C:\\Users\\ADMIN\\Desktop\\Unet Dataset\\train_gt\\23099dd2eedba39099848c4425bf33b9.jpeg\n",
      "C:\\Users\\ADMIN\\Desktop\\Unet Dataset\\train_gt\\230b118fa8625605da2023387fd56c04.jpeg\n",
      "C:\\Users\\ADMIN\\Desktop\\Unet Dataset\\train_gt\\2315b4c10e2b0e33fa12bfcd6da15fc6.jpeg\n",
      "C:\\Users\\ADMIN\\Desktop\\Unet Dataset\\train_gt\\23387fd56c04414eaa922bca73d5379c.jpeg\n",
      "C:\\Users\\ADMIN\\Desktop\\Unet Dataset\\train_gt\\2345d341253851bc866ebe4d18d5401f.jpeg\n",
      "C:\\Users\\ADMIN\\Desktop\\Unet Dataset\\train_gt\\234e222e19769fa2d37d32780fd497e1.jpeg\n",
      "C:\\Users\\ADMIN\\Desktop\\Unet Dataset\\train_gt\\23c4eaf3372eae567c94ea04c603f909.jpeg\n",
      "C:\\Users\\ADMIN\\Desktop\\Unet Dataset\\train_gt\\24423d5c7edd718176ef3065837ced5c.jpeg\n",
      "C:\\Users\\ADMIN\\Desktop\\Unet Dataset\\train_gt\\24dbc13ca0eaf044301ff069910ea2ab.jpeg\n",
      "C:\\Users\\ADMIN\\Desktop\\Unet Dataset\\train_gt\\24dbd70f618d52893a23c466c16952b6.jpeg\n",
      "C:\\Users\\ADMIN\\Desktop\\Unet Dataset\\train_gt\\24e00d827b8bcf15050fb9af0ef92846.jpeg\n",
      "C:\\Users\\ADMIN\\Desktop\\Unet Dataset\\train_gt\\2510939c091a7915c942b2f94722af7f.jpeg\n",
      "C:\\Users\\ADMIN\\Desktop\\Unet Dataset\\train_gt\\251eedf26ed414a42bec7a5fdbaf2760.jpeg\n",
      "C:\\Users\\ADMIN\\Desktop\\Unet Dataset\\train_gt\\253851bc866ebe4d18d5401f65953289.jpeg\n",
      "C:\\Users\\ADMIN\\Desktop\\Unet Dataset\\train_gt\\255ce2dd4ae1b0f124dbc13ca0eaf044.jpeg\n",
      "C:\\Users\\ADMIN\\Desktop\\Unet Dataset\\train_gt\\25605da2023387fd56c04414eaa922bc.jpeg\n",
      "C:\\Users\\ADMIN\\Desktop\\Unet Dataset\\train_gt\\25af63a987f428c953248704ccdc265a.jpeg\n",
      "C:\\Users\\ADMIN\\Desktop\\Unet Dataset\\train_gt\\26231002ec4a1fe748f3085f1ce88cbd.jpeg\n",
      "C:\\Users\\ADMIN\\Desktop\\Unet Dataset\\train_gt\\269959350e7998934d417cb2eb1ef57a.jpeg\n",
      "C:\\Users\\ADMIN\\Desktop\\Unet Dataset\\train_gt\\26a6f23c5d6d5f35f66adf95b204727f.jpeg\n",
      "C:\\Users\\ADMIN\\Desktop\\Unet Dataset\\train_gt\\26f9a7021bab9fc7330398846f67b5df.jpeg\n",
      "C:\\Users\\ADMIN\\Desktop\\Unet Dataset\\train_gt\\276a476420655433a925101416ae101f.jpeg\n",
      "C:\\Users\\ADMIN\\Desktop\\Unet Dataset\\train_gt\\276e3f404b79b6669075945dc8ec8f02.jpeg\n",
      "C:\\Users\\ADMIN\\Desktop\\Unet Dataset\\train_gt\\2780fd497e1c0e9082ea2c193ac8d551.jpeg\n",
      "C:\\Users\\ADMIN\\Desktop\\Unet Dataset\\train_gt\\2829ab4e7568cb49a3c530b99ec16e8b.jpeg\n",
      "C:\\Users\\ADMIN\\Desktop\\Unet Dataset\\train_gt\\284b8e6953ad88e16d4ca6160127cd1d.jpeg\n",
      "C:\\Users\\ADMIN\\Desktop\\Unet Dataset\\train_gt\\28559ba2bbb610fe8c30d660e70f44c2.jpeg\n",
      "C:\\Users\\ADMIN\\Desktop\\Unet Dataset\\train_gt\\2864e2d89df283ecd59f911f025ba0e3.jpeg\n",
      "C:\\Users\\ADMIN\\Desktop\\Unet Dataset\\train_gt\\28ca0adabead1ae730831caf386f6e36.jpeg\n",
      "C:\\Users\\ADMIN\\Desktop\\Unet Dataset\\train_gt\\28f39a546f6eeb0a13b346f09286c94c.jpeg\n",
      "C:\\Users\\ADMIN\\Desktop\\Unet Dataset\\train_gt\\296cc5cfd263f1f90be28799235026b3.jpeg\n",
      "C:\\Users\\ADMIN\\Desktop\\Unet Dataset\\train_gt\\298e11bb07c70f3701ae6bcec5dd8e74.jpeg\n",
      "C:\\Users\\ADMIN\\Desktop\\Unet Dataset\\train_gt\\2a23f9dbbb7bb39ba25b3887ffdc8d09.jpeg\n",
      "C:\\Users\\ADMIN\\Desktop\\Unet Dataset\\train_gt\\2a48e11d579d903c7d178f6ea0ad83b8.jpeg\n",
      "C:\\Users\\ADMIN\\Desktop\\Unet Dataset\\train_gt\\2a52829ab4e7568cb49a3c530b99ec16.jpeg\n",
      "C:\\Users\\ADMIN\\Desktop\\Unet Dataset\\train_gt\\2ab3492fc6239c86a73f97dd5277dd17.jpeg\n",
      "C:\\Users\\ADMIN\\Desktop\\Unet Dataset\\train_gt\\2abd004c33abf3ae2136cd9dd77aef5e.jpeg\n",
      "C:\\Users\\ADMIN\\Desktop\\Unet Dataset\\train_gt\\2abe3c84417fda8019410b1fcf0625f6.jpeg\n",
      "C:\\Users\\ADMIN\\Desktop\\Unet Dataset\\train_gt\\2af6b2da43f71d4dc3ddad260bfcb444.jpeg\n",
      "C:\\Users\\ADMIN\\Desktop\\Unet Dataset\\train_gt\\2b4eebc9e5a87e443434ac60af15041b.jpeg\n",
      "C:\\Users\\ADMIN\\Desktop\\Unet Dataset\\train_gt\\2b964b7955a1d7a36ccf1225024da63f.jpeg\n",
      "C:\\Users\\ADMIN\\Desktop\\Unet Dataset\\train_gt\\2bb3c7abacdbd7e6afd56ea7bc4ba26c.jpeg\n",
      "C:\\Users\\ADMIN\\Desktop\\Unet Dataset\\train_gt\\2be8379499640676289b3e732adb4c5d.jpeg\n",
      "C:\\Users\\ADMIN\\Desktop\\Unet Dataset\\train_gt\\2c41545ba55aadaa77712a48e11d579d.jpeg\n",
      "C:\\Users\\ADMIN\\Desktop\\Unet Dataset\\train_gt\\2cbbcfa4baf3866269959350e7998934.jpeg\n",
      "C:\\Users\\ADMIN\\Desktop\\Unet Dataset\\train_gt\\2d6157edc3d82df22c41b503dc19ce17.jpeg\n",
      "C:\\Users\\ADMIN\\Desktop\\Unet Dataset\\train_gt\\2d95e6c487ffa651b4774229fe1bce59.jpeg\n",
      "C:\\Users\\ADMIN\\Desktop\\Unet Dataset\\train_gt\\2da9e6afaef7fdb2d45b21960c94b0aa.jpeg\n",
      "C:\\Users\\ADMIN\\Desktop\\Unet Dataset\\train_gt\\2eb9d32a3dc907950289e976c7250de9.jpeg\n",
      "C:\\Users\\ADMIN\\Desktop\\Unet Dataset\\train_gt\\2f514f401ea0bd55b1393e2ef89424de.jpeg\n",
      "C:\\Users\\ADMIN\\Desktop\\Unet Dataset\\train_gt\\2f94722af7f63cd771e7606cb09d1fc6.jpeg\n",
      "C:\\Users\\ADMIN\\Desktop\\Unet Dataset\\train_gt\\2fa602bb3c7abacdbd7e6afd56ea7bc4.jpeg\n",
      "C:\\Users\\ADMIN\\Desktop\\Unet Dataset\\train_gt\\301ff069910ea2abe3c84417fda80194.jpeg\n",
      "C:\\Users\\ADMIN\\Desktop\\Unet Dataset\\train_gt\\305af926a6f23c5d6d5f35f66adf95b2.jpeg\n",
      "C:\\Users\\ADMIN\\Desktop\\Unet Dataset\\train_gt\\30831caf386f6e366943c17f87cf12b4.jpeg\n",
      "C:\\Users\\ADMIN\\Desktop\\Unet Dataset\\train_gt\\309817287a8aef566999467c2a48847a.jpeg\n",
      "C:\\Users\\ADMIN\\Desktop\\Unet Dataset\\train_gt\\309d1dff09b8405734fbeedd0f9da760.jpeg\n",
      "C:\\Users\\ADMIN\\Desktop\\Unet Dataset\\train_gt\\30ed08f25358edf70899344dae61a5f5.jpeg\n",
      "C:\\Users\\ADMIN\\Desktop\\Unet Dataset\\train_gt\\31871f2fd85a04faeeb2b53579739530.jpeg\n",
      "C:\\Users\\ADMIN\\Desktop\\Unet Dataset\\train_gt\\32897255ce2dd4ae1b0f124dbc13ca0e.jpeg\n",
      "C:\\Users\\ADMIN\\Desktop\\Unet Dataset\\train_gt\\3297c819c908954bb13d3727c7e5e106.jpeg\n",
      "C:\\Users\\ADMIN\\Desktop\\Unet Dataset\\train_gt\\33059989805234e222e19769fa2d37d3.jpeg\n",
      "C:\\Users\\ADMIN\\Desktop\\Unet Dataset\\train_gt\\33408da4bcab47c3fb256f174ae992b9.jpeg\n",
      "C:\\Users\\ADMIN\\Desktop\\Unet Dataset\\train_gt\\337948a41964c1d4f50a5f3601ad4f13.jpeg\n",
      "C:\\Users\\ADMIN\\Desktop\\Unet Dataset\\train_gt\\3387fd56c04414eaa922bca73d5379c7.jpeg\n",
      "C:\\Users\\ADMIN\\Desktop\\Unet Dataset\\train_gt\\33aa6b8232510939c091a7915c942b2f.jpeg\n",
      "C:\\Users\\ADMIN\\Desktop\\Unet Dataset\\train_gt\\33fa12bfcd6da15fc656702fa602bb3c.jpeg\n",
      "C:\\Users\\ADMIN\\Desktop\\Unet Dataset\\train_gt\\3408da4bcab47c3fb256f174ae992b91.jpeg\n",
      "C:\\Users\\ADMIN\\Desktop\\Unet Dataset\\train_gt\\340aa5f7804c34a359bbb402345d3412.jpeg\n",
      "C:\\Users\\ADMIN\\Desktop\\Unet Dataset\\train_gt\\342865f6c240449ad43fe2cd066b9fdb.jpeg\n",
      "C:\\Users\\ADMIN\\Desktop\\Unet Dataset\\train_gt\\3492fc6239c86a73f97dd5277dd17ba4.jpeg\n",
      "C:\\Users\\ADMIN\\Desktop\\Unet Dataset\\train_gt\\34e222e19769fa2d37d32780fd497e1c.jpeg\n",
      "C:\\Users\\ADMIN\\Desktop\\Unet Dataset\\train_gt\\35d76d0bbd4ce2a1405f7d507592b964.jpeg\n",
      "C:\\Users\\ADMIN\\Desktop\\Unet Dataset\\train_gt\\35f66adf95b204727fdcfa030228a69b.jpeg\n",
      "C:\\Users\\ADMIN\\Desktop\\Unet Dataset\\train_gt\\366943c17f87cf12b41e5e9e5040781d.jpeg\n",
      "C:\\Users\\ADMIN\\Desktop\\Unet Dataset\\train_gt\\367f150f68fa7ee0ca748f990aeafa35.jpeg\n",
      "C:\\Users\\ADMIN\\Desktop\\Unet Dataset\\train_gt\\36ccf1225024da63fb9a76b92633408d.jpeg\n",
      "C:\\Users\\ADMIN\\Desktop\\Unet Dataset\\train_gt\\3725a8bbcc89c96ddca6ee1af35b65bd.jpeg\n",
      "C:\\Users\\ADMIN\\Desktop\\Unet Dataset\\train_gt\\3736e216b08d237285e26c90e1797c77.jpeg\n",
      "C:\\Users\\ADMIN\\Desktop\\Unet Dataset\\train_gt\\376290081835cf877e004e8bfb905b78.jpeg\n",
      "C:\\Users\\ADMIN\\Desktop\\Unet Dataset\\train_gt\\37705c1e555525d4f09ce7270bfec57e.jpeg\n",
      "C:\\Users\\ADMIN\\Desktop\\Unet Dataset\\train_gt\\37f538abe9de67869ac66e565c5d4340.jpeg\n",
      "C:\\Users\\ADMIN\\Desktop\\Unet Dataset\\train_gt\\38485beb48f0be11d0309d1dff09b840.jpeg\n",
      "C:\\Users\\ADMIN\\Desktop\\Unet Dataset\\train_gt\\384eb2ba3adfda6c1899fdc983762900.jpeg\n",
      "C:\\Users\\ADMIN\\Desktop\\Unet Dataset\\train_gt\\38713b2aa6ce8d1cf6644589e532a9ee.jpeg\n",
      "C:\\Users\\ADMIN\\Desktop\\Unet Dataset\\train_gt\\3881bf04350ffd6984cbcc6d6bf62f21.jpeg\n",
      "C:\\Users\\ADMIN\\Desktop\\Unet Dataset\\train_gt\\38a1eecd70ebce6347c491b37c8c2e5a.jpeg\n",
      "C:\\Users\\ADMIN\\Desktop\\Unet Dataset\\train_gt\\38aa0ef759a3a33a0565586918cd5eb8.jpeg\n",
      "C:\\Users\\ADMIN\\Desktop\\Unet Dataset\\train_gt\\39099848c4425bf33b9b001c13a3d810.jpeg\n",
      "C:\\Users\\ADMIN\\Desktop\\Unet Dataset\\train_gt\\393e2ef89424de1556a26c8eba4c1db1.jpeg\n",
      "C:\\Users\\ADMIN\\Desktop\\Unet Dataset\\train_gt\\395305af926a6f23c5d6d5f35f66adf9.jpeg\n",
      "C:\\Users\\ADMIN\\Desktop\\Unet Dataset\\train_gt\\3983064a3eb4d49033c03b0af70cc0f6.jpeg\n",
      "C:\\Users\\ADMIN\\Desktop\\Unet Dataset\\train_gt\\3983ebff13a2da7be59a5529406ac1c9.jpeg\n",
      "C:\\Users\\ADMIN\\Desktop\\Unet Dataset\\train_gt\\39a76eaf622c3b3e57249fe9959a8070.jpeg\n",
      "C:\\Users\\ADMIN\\Desktop\\Unet Dataset\\train_gt\\39c091a7915c942b2f94722af7f63cd7.jpeg\n",
      "C:\\Users\\ADMIN\\Desktop\\Unet Dataset\\train_gt\\39d9a2f94285ef2a23f9dbbb7bb39ba2.jpeg\n",
      "C:\\Users\\ADMIN\\Desktop\\Unet Dataset\\train_gt\\3a7b24423d5c7edd718176ef3065837c.jpeg\n",
      "C:\\Users\\ADMIN\\Desktop\\Unet Dataset\\train_gt\\3abf3ae2136cd9dd77aef5ef26a77ecc.jpeg\n",
      "C:\\Users\\ADMIN\\Desktop\\Unet Dataset\\train_gt\\3ad88e16d4ca6160127cd1d5ff99c267.jpeg\n",
      "C:\\Users\\ADMIN\\Desktop\\Unet Dataset\\train_gt\\3b0af70cc0f6d32b726342865f6c2404.jpeg\n",
      "C:\\Users\\ADMIN\\Desktop\\Unet Dataset\\train_gt\\3b0e4909384b57bb6a052600f1f93e95.jpeg\n",
      "C:\\Users\\ADMIN\\Desktop\\Unet Dataset\\train_gt\\3b28163a745959c03983064a3eb4d490.jpeg\n",
      "C:\\Users\\ADMIN\\Desktop\\Unet Dataset\\train_gt\\3b3e57249fe9959a80703003d2cbbcfa.jpeg\n",
      "C:\\Users\\ADMIN\\Desktop\\Unet Dataset\\train_gt\\3b51209db6dcdda5cc8a788edaeb6aa4.jpeg\n",
      "C:\\Users\\ADMIN\\Desktop\\Unet Dataset\\train_gt\\3b8cac03290f1b976b7a7efc10b1300c.jpeg\n",
      "C:\\Users\\ADMIN\\Desktop\\Unet Dataset\\train_gt\\3b97bb11e8e0c4416c1931960ff3574f.jpeg\n",
      "C:\\Users\\ADMIN\\Desktop\\Unet Dataset\\train_gt\\3c5d6d5f35f66adf95b204727fdcfa03.jpeg\n",
      "C:\\Users\\ADMIN\\Desktop\\Unet Dataset\\train_gt\\3ca0eaf044301ff069910ea2abe3c844.jpeg\n",
      "C:\\Users\\ADMIN\\Desktop\\Unet Dataset\\train_gt\\3d46e602b296cc5cfd263f1f90be2879.jpeg\n",
      "C:\\Users\\ADMIN\\Desktop\\Unet Dataset\\train_gt\\3d5379c7c851a508273160e13bac7541.jpeg\n",
      "C:\\Users\\ADMIN\\Desktop\\Unet Dataset\\train_gt\\3de79be0dba1f3cf29dff2864e2d89df.jpeg\n",
      "C:\\Users\\ADMIN\\Desktop\\Unet Dataset\\train_gt\\3e732adb4c5d1580670d78b9d054d694.jpeg\n",
      "C:\\Users\\ADMIN\\Desktop\\Unet Dataset\\train_gt\\3ea1dd1faa864b404e18eeb228517f47.jpeg\n",
      "C:\\Users\\ADMIN\\Desktop\\Unet Dataset\\train_gt\\3f1f90be28799235026b3550534bca54.jpeg\n",
      "C:\\Users\\ADMIN\\Desktop\\Unet Dataset\\train_gt\\3f6a5664c1711b62f15ec83b97bb11e8.jpeg\n",
      "C:\\Users\\ADMIN\\Desktop\\Unet Dataset\\train_gt\\3f909df7cd066b37f538abe9de67869a.jpeg\n",
      "C:\\Users\\ADMIN\\Desktop\\Unet Dataset\\train_gt\\3fa12bfcd6da15fc656702fa602bb3c7.jpeg\n",
      "C:\\Users\\ADMIN\\Desktop\\Unet Dataset\\train_gt\\3fb256f174ae992b915a51625559c7e6.jpeg\n",
      "C:\\Users\\ADMIN\\Desktop\\Unet Dataset\\train_gt\\3fb9a76b92633408da4bcab47c3fb256.jpeg\n",
      "C:\\Users\\ADMIN\\Desktop\\Unet Dataset\\train_gt\\404b79b6669075945dc8ec8f02000f9b.jpeg\n",
      "C:\\Users\\ADMIN\\Desktop\\Unet Dataset\\train_gt\\40676289b3e732adb4c5d1580670d78b.jpeg\n",
      "C:\\Users\\ADMIN\\Desktop\\Unet Dataset\\train_gt\\408cc3736e216b08d237285e26c90e17.jpeg\n",
      "C:\\Users\\ADMIN\\Desktop\\Unet Dataset\\train_gt\\40e24f489284b8e6953ad88e16d4ca61.jpeg\n",
      "C:\\Users\\ADMIN\\Desktop\\Unet Dataset\\train_gt\\41545ba55aadaa77712a48e11d579d90.jpeg\n",
      "C:\\Users\\ADMIN\\Desktop\\Unet Dataset\\train_gt\\41680cab5509b367b7048eb17aeed141.jpeg\n",
      "C:\\Users\\ADMIN\\Desktop\\Unet Dataset\\train_gt\\41a8490fd7df8e26031fbb5e52c41545.jpeg\n",
      "C:\\Users\\ADMIN\\Desktop\\Unet Dataset\\train_gt\\42315b4c10e2b0e33fa12bfcd6da15fc.jpeg\n",
      "C:\\Users\\ADMIN\\Desktop\\Unet Dataset\\train_gt\\424a9218697283baa3657e4314fe384e.jpeg\n",
      "C:\\Users\\ADMIN\\Desktop\\Unet Dataset\\train_gt\\424de1556a26c8eba4c1db1a0b47aa6b.jpeg\n",
      "C:\\Users\\ADMIN\\Desktop\\Unet Dataset\\train_gt\\4284d7a5b6b0449922d6157edc3d82df.jpeg\n",
      "C:\\Users\\ADMIN\\Desktop\\Unet Dataset\\train_gt\\42b2f94722af7f63cd771e7606cb09d1.jpeg\n",
      "C:\\Users\\ADMIN\\Desktop\\Unet Dataset\\train_gt\\43c61a01e80947f9c02314fc58bdb266.jpeg\n",
      "C:\\Users\\ADMIN\\Desktop\\Unet Dataset\\train_gt\\441680cab5509b367b7048eb17aeed14.jpeg\n",
      "C:\\Users\\ADMIN\\Desktop\\Unet Dataset\\train_gt\\4425bf33b9b001c13a3d810b000db557.jpeg\n",
      "C:\\Users\\ADMIN\\Desktop\\Unet Dataset\\train_gt\\44271fa54aa1b27918630bfd2a52829a.jpeg\n",
      "C:\\Users\\ADMIN\\Desktop\\Unet Dataset\\train_gt\\443de3ef69f6db034099130d98309817.jpeg\n",
      "C:\\Users\\ADMIN\\Desktop\\Unet Dataset\\train_gt\\449922d6157edc3d82df22c41b503dc1.jpeg\n",
      "C:\\Users\\ADMIN\\Desktop\\Unet Dataset\\train_gt\\449ad43fe2cd066b9fdbc3bbc04a3afe.jpeg\n",
      "C:\\Users\\ADMIN\\Desktop\\Unet Dataset\\train_gt\\4539ef2424a9218697283baa3657e431.jpeg\n",
      "C:\\Users\\ADMIN\\Desktop\\Unet Dataset\\train_gt\\45d73912c4fd31aaeec7b426bacd147a.jpeg\n",
      "C:\\Users\\ADMIN\\Desktop\\Unet Dataset\\train_gt\\45dc8ec8f02000f9b6c911c4aa179344.jpeg\n",
      "C:\\Users\\ADMIN\\Desktop\\Unet Dataset\\train_gt\\45e304fb82cc3fb177a55b61dedb5eda.jpeg\n",
      "C:\\Users\\ADMIN\\Desktop\\Unet Dataset\\train_gt\\465efde988dfb96d0815334875343f27.jpeg\n",
      "C:\\Users\\ADMIN\\Desktop\\Unet Dataset\\train_gt\\466c16952b6692e6be5e8f14e1e0ae93.jpeg\n",
      "C:\\Users\\ADMIN\\Desktop\\Unet Dataset\\train_gt\\467e5cbc04772d9e593b6be1ac29adbe.jpeg\n",
      "C:\\Users\\ADMIN\\Desktop\\Unet Dataset\\train_gt\\46d0a6085835c525af63a987f428c953.jpeg\n",
      "C:\\Users\\ADMIN\\Desktop\\Unet Dataset\\train_gt\\46f5d8dd18841d318d1f625619d9ae2a.jpeg\n",
      "C:\\Users\\ADMIN\\Desktop\\Unet Dataset\\train_gt\\4774229fe1bce59ddf92e76900d229db.jpeg\n",
      "C:\\Users\\ADMIN\\Desktop\\Unet Dataset\\train_gt\\47953b0e4909384b57bb6a052600f1f9.jpeg\n",
      "C:\\Users\\ADMIN\\Desktop\\Unet Dataset\\train_gt\\47c491b37c8c2e5a64a8bd16f2523acf.jpeg\n",
      "C:\\Users\\ADMIN\\Desktop\\Unet Dataset\\train_gt\\47f9c02314fc58bdb26679bff55177a3.jpeg\n",
      "C:\\Users\\ADMIN\\Desktop\\Unet Dataset\\train_gt\\4837f2a0f1536ad3f6a5664c1711b62f.jpeg\n",
      "C:\\Users\\ADMIN\\Desktop\\Unet Dataset\\train_gt\\48704ccdc265a0b0a1230b118fa86256.jpeg\n",
      "C:\\Users\\ADMIN\\Desktop\\Unet Dataset\\train_gt\\489284b8e6953ad88e16d4ca6160127c.jpeg\n",
      "C:\\Users\\ADMIN\\Desktop\\Unet Dataset\\train_gt\\491b37c8c2e5a64a8bd16f2523acfd87.jpeg\n",
      "C:\\Users\\ADMIN\\Desktop\\Unet Dataset\\train_gt\\497e1c0e9082ea2c193ac8d551c149b6.jpeg\n",
      "C:\\Users\\ADMIN\\Desktop\\Unet Dataset\\train_gt\\4a17af18f72c8e6166a915669c99390d.jpeg\n",
      "C:\\Users\\ADMIN\\Desktop\\Unet Dataset\\train_gt\\4a1e4062d81e095fdc7f720eff82f514.jpeg\n",
      "C:\\Users\\ADMIN\\Desktop\\Unet Dataset\\train_gt\\4a3eb4d49033c03b0af70cc0f6d32b72.jpeg\n",
      "C:\\Users\\ADMIN\\Desktop\\Unet Dataset\\train_gt\\4af626650908b1cb932a767bf5487ced.jpeg\n",
      "C:\\Users\\ADMIN\\Desktop\\Unet Dataset\\train_gt\\4b5dec33fd6aab9f0df70e20bccce75a.jpeg\n",
      "C:\\Users\\ADMIN\\Desktop\\Unet Dataset\\train_gt\\4bcab47c3fb256f174ae992b915a5162.jpeg\n",
      "C:\\Users\\ADMIN\\Desktop\\Unet Dataset\\train_gt\\4be168d9510588bec07c38c5d07e6080.jpeg\n",
      "C:\\Users\\ADMIN\\Desktop\\Unet Dataset\\train_gt\\4bf951276e3f404b79b6669075945dc8.jpeg\n",
      "C:\\Users\\ADMIN\\Desktop\\Unet Dataset\\train_gt\\4c1d4f50a5f3601ad4f13ccf1f4b331a.jpeg\n",
      "C:\\Users\\ADMIN\\Desktop\\Unet Dataset\\train_gt\\4c31cfc1c9d33f3a7b24423d5c7edd71.jpeg\n",
      "C:\\Users\\ADMIN\\Desktop\\Unet Dataset\\train_gt\\4c34a359bbb402345d341253851bc866.jpeg\n",
      "C:\\Users\\ADMIN\\Desktop\\Unet Dataset\\train_gt\\4d6c748c41743c6c08a1d1ad8f2c5f72.jpeg\n",
      "C:\\Users\\ADMIN\\Desktop\\Unet Dataset\\train_gt\\4da63fb9a76b92633408da4bcab47c3f.jpeg\n",
      "C:\\Users\\ADMIN\\Desktop\\Unet Dataset\\train_gt\\4eaf3372eae567c94ea04c603f909df7.jpeg\n",
      "C:\\Users\\ADMIN\\Desktop\\Unet Dataset\\train_gt\\4ebafbd9871ca68e0d4bcbe0f5192e72.jpeg\n",
      "C:\\Users\\ADMIN\\Desktop\\Unet Dataset\\train_gt\\4ec3d46e602b296cc5cfd263f1f90be2.jpeg\n",
      "C:\\Users\\ADMIN\\Desktop\\Unet Dataset\\train_gt\\4f4999a2e79fbc24ef8cde99f0444123.jpeg\n",
      "C:\\Users\\ADMIN\\Desktop\\Unet Dataset\\train_gt\\4f50a5f3601ad4f13ccf1f4b331a412f.jpeg\n",
      "C:\\Users\\ADMIN\\Desktop\\Unet Dataset\\train_gt\\4fc58bdb26679bff55177a34fc01019e.jpeg\n",
      "C:\\Users\\ADMIN\\Desktop\\Unet Dataset\\train_gt\\4fd7da881fe4727080cae6daedd98951.jpeg\n",
      "C:\\Users\\ADMIN\\Desktop\\Unet Dataset\\train_gt\\5050fb9af0ef92846b60b1a38a1eecd7.jpeg\n",
      "C:\\Users\\ADMIN\\Desktop\\Unet Dataset\\train_gt\\509b367b7048eb17aeed141edb07bf21.jpeg\n",
      "C:\\Users\\ADMIN\\Desktop\\Unet Dataset\\train_gt\\50c1bce23b1fdd80af3feff05dec1eb3.jpeg\n",
      "C:\\Users\\ADMIN\\Desktop\\Unet Dataset\\train_gt\\50e4e40d61c9248a714683983ebff13a.jpeg\n",
      "C:\\Users\\ADMIN\\Desktop\\Unet Dataset\\train_gt\\50ffd6984cbcc6d6bf62f215f0da4ad3.jpeg\n",
      "C:\\Users\\ADMIN\\Desktop\\Unet Dataset\\train_gt\\51c149b60f2965341caf528ca0adabea.jpeg\n",
      "C:\\Users\\ADMIN\\Desktop\\Unet Dataset\\train_gt\\51eedf26ed414a42bec7a5fdbaf27600.jpeg\n",
      "C:\\Users\\ADMIN\\Desktop\\Unet Dataset\\train_gt\\52a9fd5decebad6c688b8ec74baddc22.jpeg\n",
      "C:\\Users\\ADMIN\\Desktop\\Unet Dataset\\train_gt\\53248704ccdc265a0b0a1230b118fa86.jpeg\n",
      "C:\\Users\\ADMIN\\Desktop\\Unet Dataset\\train_gt\\532897255ce2dd4ae1b0f124dbc13ca0.jpeg\n",
      "C:\\Users\\ADMIN\\Desktop\\Unet Dataset\\train_gt\\5341caf528ca0adabead1ae730831caf.jpeg\n",
      "C:\\Users\\ADMIN\\Desktop\\Unet Dataset\\train_gt\\535797395305af926a6f23c5d6d5f35f.jpeg\n",
      "C:\\Users\\ADMIN\\Desktop\\Unet Dataset\\train_gt\\536ad3f6a5664c1711b62f15ec83b97b.jpeg\n",
      "C:\\Users\\ADMIN\\Desktop\\Unet Dataset\\train_gt\\538485beb48f0be11d0309d1dff09b84.jpeg\n",
      "C:\\Users\\ADMIN\\Desktop\\Unet Dataset\\train_gt\\53851bc866ebe4d18d5401f659532897.jpeg\n",
      "C:\\Users\\ADMIN\\Desktop\\Unet Dataset\\train_gt\\5401f659532897255ce2dd4ae1b0f124.jpeg\n",
      "C:\\Users\\ADMIN\\Desktop\\Unet Dataset\\train_gt\\540e24f489284b8e6953ad88e16d4ca6.jpeg\n",
      "C:\\Users\\ADMIN\\Desktop\\Unet Dataset\\train_gt\\5433a925101416ae101f07b34db8907f.jpeg\n",
      "C:\\Users\\ADMIN\\Desktop\\Unet Dataset\\train_gt\\543f0dc6b7268821d173263d7be7e12d.jpeg\n",
      "C:\\Users\\ADMIN\\Desktop\\Unet Dataset\\train_gt\\54b594bb3e598b6a79fb9fd78a02d24a.jpeg\n",
      "C:\\Users\\ADMIN\\Desktop\\Unet Dataset\\train_gt\\54bf951276e3f404b79b6669075945dc.jpeg\n",
      "C:\\Users\\ADMIN\\Desktop\\Unet Dataset\\train_gt\\550534bca540e24f489284b8e6953ad8.jpeg\n",
      "C:\\Users\\ADMIN\\Desktop\\Unet Dataset\\train_gt\\55ce2dd4ae1b0f124dbc13ca0eaf0443.jpeg\n",
      "C:\\Users\\ADMIN\\Desktop\\Unet Dataset\\train_gt\\56025866e15c4d0e0a4ceed0afc48dbd.jpeg\n",
      "C:\\Users\\ADMIN\\Desktop\\Unet Dataset\\train_gt\\5605da2023387fd56c04414eaa922bca.jpeg\n",
      "C:\\Users\\ADMIN\\Desktop\\Unet Dataset\\train_gt\\5646d81526eb91e2da9e6afaef7fdb2d.jpeg\n",
      "C:\\Users\\ADMIN\\Desktop\\Unet Dataset\\train_gt\\565c5d4340aa5f7804c34a359bbb4023.jpeg\n",
      "C:\\Users\\ADMIN\\Desktop\\Unet Dataset\\train_gt\\56ea7bc4ba26c86b345408cc3736e216.jpeg\n",
      "C:\\Users\\ADMIN\\Desktop\\Unet Dataset\\train_gt\\56f174ae992b915a51625559c7e610b1.jpeg\n",
      "C:\\Users\\ADMIN\\Desktop\\Unet Dataset\\train_gt\\57249fe9959a80703003d2cbbcfa4baf.jpeg\n",
      "C:\\Users\\ADMIN\\Desktop\\Unet Dataset\\train_gt\\57bb6a052600f1f93e952886d1697f8a.jpeg\n",
      "C:\\Users\\ADMIN\\Desktop\\Unet Dataset\\train_gt\\580670d78b9d054d694539ef2424a921.jpeg\n",
      "C:\\Users\\ADMIN\\Desktop\\Unet Dataset\\train_gt\\588bec07c38c5d07e6080779715c88d8.jpeg\n",
      "C:\\Users\\ADMIN\\Desktop\\Unet Dataset\\train_gt\\58bdb26679bff55177a34fc01019eec9.jpeg\n",
      "C:\\Users\\ADMIN\\Desktop\\Unet Dataset\\train_gt\\5959c03983064a3eb4d49033c03b0af7.jpeg\n",
      "C:\\Users\\ADMIN\\Desktop\\Unet Dataset\\train_gt\\59989805234e222e19769fa2d37d3278.jpeg\n",
      "C:\\Users\\ADMIN\\Desktop\\Unet Dataset\\train_gt\\59ba2bbb610fe8c30d660e70f44c2b89.jpeg\n",
      "C:\\Users\\ADMIN\\Desktop\\Unet Dataset\\train_gt\\59bbb402345d341253851bc866ebe4d1.jpeg\n",
      "C:\\Users\\ADMIN\\Desktop\\Unet Dataset\\train_gt\\59ddf92e76900d229db65646d81526eb.jpeg\n",
      "C:\\Users\\ADMIN\\Desktop\\Unet Dataset\\train_gt\\5a0b0a1230b118fa8625605da2023387.jpeg\n",
      "C:\\Users\\ADMIN\\Desktop\\Unet Dataset\\train_gt\\5a1d7a36ccf1225024da63fb9a76b926.jpeg\n",
      "C:\\Users\\ADMIN\\Desktop\\Unet Dataset\\train_gt\\5a64a8bd16f2523acfd87d330a5a97b8.jpeg\n",
      "C:\\Users\\ADMIN\\Desktop\\Unet Dataset\\train_gt\\5a793c4a1e4062d81e095fdc7f720eff.jpeg\n",
      "C:\\Users\\ADMIN\\Desktop\\Unet Dataset\\train_gt\\5a9a8a8d7fcc9df8e5ad89d2844837f2.jpeg\n",
      "C:\\Users\\ADMIN\\Desktop\\Unet Dataset\\train_gt\\5af63a987f428c953248704ccdc265a0.jpeg\n",
      "C:\\Users\\ADMIN\\Desktop\\Unet Dataset\\train_gt\\5b1393e2ef89424de1556a26c8eba4c1.jpeg\n",
      "C:\\Users\\ADMIN\\Desktop\\Unet Dataset\\train_gt\\5b4c10e2b0e33fa12bfcd6da15fc6567.jpeg\n",
      "C:\\Users\\ADMIN\\Desktop\\Unet Dataset\\train_gt\\5c3dbc695325ded465efde988dfb96d0.jpeg\n",
      "C:\\Users\\ADMIN\\Desktop\\Unet Dataset\\train_gt\\5c942b2f94722af7f63cd771e7606cb0.jpeg\n",
      "C:\\Users\\ADMIN\\Desktop\\Unet Dataset\\train_gt\\5ca159410b9fdbdd46f680afdd43725a.jpeg\n",
      "C:\\Users\\ADMIN\\Desktop\\Unet Dataset\\train_gt\\5cc8a788edaeb6aa460a22abd004c33a.jpeg\n",
      "C:\\Users\\ADMIN\\Desktop\\Unet Dataset\\train_gt\\5d1580670d78b9d054d694539ef2424a.jpeg\n",
      "C:\\Users\\ADMIN\\Desktop\\Unet Dataset\\train_gt\\5d341253851bc866ebe4d18d5401f659.jpeg\n",
      "C:\\Users\\ADMIN\\Desktop\\Unet Dataset\\train_gt\\5d52941e2705bf4d2ccdc92fcae40458.jpeg\n",
      "C:\\Users\\ADMIN\\Desktop\\Unet Dataset\\train_gt\\5da2023387fd56c04414eaa922bca73d.jpeg\n",
      "C:\\Users\\ADMIN\\Desktop\\Unet Dataset\\train_gt\\5dbf9c4ebafbd9871ca68e0d4bcbe0f5.jpeg\n",
      "C:\\Users\\ADMIN\\Desktop\\Unet Dataset\\train_gt\\5dd8c9431f046f281796061a924f2cc0.jpeg\n",
      "C:\\Users\\ADMIN\\Desktop\\Unet Dataset\\train_gt\\5decebad6c688b8ec74baddc22268d4b.jpeg\n",
      "C:\\Users\\ADMIN\\Desktop\\Unet Dataset\\train_gt\\5ded465efde988dfb96d081533487534.jpeg\n",
      "C:\\Users\\ADMIN\\Desktop\\Unet Dataset\\train_gt\\5e04f4999a2e79fbc24ef8cde99f0444.jpeg\n",
      "C:\\Users\\ADMIN\\Desktop\\Unet Dataset\\train_gt\\5e1069646f2f0bb8dc11d4f50e412144.jpeg\n",
      "C:\\Users\\ADMIN\\Desktop\\Unet Dataset\\train_gt\\5f66adf95b204727fdcfa030228a69b9.jpeg\n",
      "C:\\Users\\ADMIN\\Desktop\\Unet Dataset\\train_gt\\5fa095f978455cef3593cef221b7a23b.jpeg\n",
      "C:\\Users\\ADMIN\\Desktop\\Unet Dataset\\train_gt\\5fdc7f720eff82f514f401ea0bd55b13.jpeg\n",
      "C:\\Users\\ADMIN\\Desktop\\Unet Dataset\\train_gt\\6000fdd3a3c17a94fd7da881fe472708.jpeg\n",
      "C:\\Users\\ADMIN\\Desktop\\Unet Dataset\\train_gt\\602b296cc5cfd263f1f90be287992350.jpeg\n",
      "C:\\Users\\ADMIN\\Desktop\\Unet Dataset\\train_gt\\606cb09d1fc6869d7b4193425b976973.jpeg\n",
      "C:\\Users\\ADMIN\\Desktop\\Unet Dataset\\train_gt\\608b4ce97629ab559b28f39a546f6eeb.jpeg\n",
      "C:\\Users\\ADMIN\\Desktop\\Unet Dataset\\train_gt\\60a22abd004c33abf3ae2136cd9dd77a.jpeg\n",
      "C:\\Users\\ADMIN\\Desktop\\Unet Dataset\\train_gt\\60b1a38a1eecd70ebce6347c491b37c8.jpeg\n",
      "C:\\Users\\ADMIN\\Desktop\\Unet Dataset\\train_gt\\60f2965341caf528ca0adabead1ae730.jpeg\n",
      "C:\\Users\\ADMIN\\Desktop\\Unet Dataset\\train_gt\\61a01e80947f9c02314fc58bdb26679b.jpeg\n",
      "C:\\Users\\ADMIN\\Desktop\\Unet Dataset\\train_gt\\6239c86a73f97dd5277dd17ba487d487.jpeg\n",
      "C:\\Users\\ADMIN\\Desktop\\Unet Dataset\\train_gt\\629ab559b28f39a546f6eeb0a13b346f.jpeg\n",
      "C:\\Users\\ADMIN\\Desktop\\Unet Dataset\\train_gt\\63a987f428c953248704ccdc265a0b0a.jpeg\n",
      "C:\\Users\\ADMIN\\Desktop\\Unet Dataset\\train_gt\\646d81526eb91e2da9e6afaef7fdb2d4.jpeg\n",
      "C:\\Users\\ADMIN\\Desktop\\Unet Dataset\\train_gt\\646f2f0bb8dc11d4f50e412144f0496b.jpeg\n",
      "C:\\Users\\ADMIN\\Desktop\\Unet Dataset\\train_gt\\64a3eb4d49033c03b0af70cc0f6d32b7.jpeg\n",
      "C:\\Users\\ADMIN\\Desktop\\Unet Dataset\\train_gt\\64c1d4f50a5f3601ad4f13ccf1f4b331.jpeg\n",
      "C:\\Users\\ADMIN\\Desktop\\Unet Dataset\\train_gt\\64cdc70626ab4ec3d46e602b296cc5cf.jpeg\n",
      "C:\\Users\\ADMIN\\Desktop\\Unet Dataset\\train_gt\\65341caf528ca0adabead1ae730831ca.jpeg\n",
      "C:\\Users\\ADMIN\\Desktop\\Unet Dataset\\train_gt\\65586918cd5eb80e67c9c8d5ce0c9495.jpeg\n",
      "C:\\Users\\ADMIN\\Desktop\\Unet Dataset\\train_gt\\65ddfd1518a2710d568df17586ad8f32.jpeg\n",
      "C:\\Users\\ADMIN\\Desktop\\Unet Dataset\\train_gt\\66943c17f87cf12b41e5e9e5040781d5.jpeg\n",
      "C:\\Users\\ADMIN\\Desktop\\Unet Dataset\\train_gt\\66999467c2a48847ae8395e56a6d9ba9.jpeg\n",
      "C:\\Users\\ADMIN\\Desktop\\Unet Dataset\\train_gt\\66e15c4d0e0a4ceed0afc48dbdf68c4e.jpeg\n",
      "C:\\Users\\ADMIN\\Desktop\\Unet Dataset\\train_gt\\670d78b9d054d694539ef2424a921869.jpeg\n",
      "C:\\Users\\ADMIN\\Desktop\\Unet Dataset\\train_gt\\683543f0dc6b7268821d173263d7be7e.jpeg\n",
      "C:\\Users\\ADMIN\\Desktop\\Unet Dataset\\train_gt\\68c030b9afea6923881bf04350ffd698.jpeg\n",
      "C:\\Users\\ADMIN\\Desktop\\Unet Dataset\\train_gt\\68cb49a3c530b99ec16e8b659fdc988a.jpeg\n",
      "C:\\Users\\ADMIN\\Desktop\\Unet Dataset\\train_gt\\68f9d4c331587f9b9d49e2f4ee179798.jpeg\n",
      "C:\\Users\\ADMIN\\Desktop\\Unet Dataset\\train_gt\\6900d229db65646d81526eb91e2da9e6.jpeg\n",
      "C:\\Users\\ADMIN\\Desktop\\Unet Dataset\\train_gt\\69075945dc8ec8f02000f9b6c911c4aa.jpeg\n",
      "C:\\Users\\ADMIN\\Desktop\\Unet Dataset\\train_gt\\6923881bf04350ffd6984cbcc6d6bf62.jpeg\n",
      "C:\\Users\\ADMIN\\Desktop\\Unet Dataset\\train_gt\\694c7a8607b26231002ec4a1fe748f30.jpeg\n",
      "C:\\Users\\ADMIN\\Desktop\\Unet Dataset\\train_gt\\695325ded465efde988dfb96d0815334.jpeg\n",
      "C:\\Users\\ADMIN\\Desktop\\Unet Dataset\\train_gt\\6953ad88e16d4ca6160127cd1d5ff99c.jpeg\n",
      "C:\\Users\\ADMIN\\Desktop\\Unet Dataset\\train_gt\\697283baa3657e4314fe384eb2ba3adf.jpeg\n",
      "C:\\Users\\ADMIN\\Desktop\\Unet Dataset\\train_gt\\697f8af9b550c1bce23b1fdd80af3fef.jpeg\n",
      "C:\\Users\\ADMIN\\Desktop\\Unet Dataset\\train_gt\\6999467c2a48847ae8395e56a6d9ba9d.jpeg\n",
      "C:\\Users\\ADMIN\\Desktop\\Unet Dataset\\train_gt\\69ac66e565c5d4340aa5f7804c34a359.jpeg\n",
      "C:\\Users\\ADMIN\\Desktop\\Unet Dataset\\train_gt\\6aa73b7f23de79be0dba1f3cf29dff28.jpeg\n",
      "C:\\Users\\ADMIN\\Desktop\\Unet Dataset\\train_gt\\6b2da43f71d4dc3ddad260bfcb4443de.jpeg\n",
      "C:\\Users\\ADMIN\\Desktop\\Unet Dataset\\train_gt\\6b92633408da4bcab47c3fb256f174ae.jpeg\n",
      "C:\\Users\\ADMIN\\Desktop\\Unet Dataset\\train_gt\\6c04414eaa922bca73d5379c7c851a50.jpeg\n",
      "C:\\Users\\ADMIN\\Desktop\\Unet Dataset\\train_gt\\6c08a1d1ad8f2c5f72724e00d827b8bc.jpeg\n",
      "C:\\Users\\ADMIN\\Desktop\\Unet Dataset\\train_gt\\6c487ffa651b4774229fe1bce59ddf92.jpeg\n",
      "C:\\Users\\ADMIN\\Desktop\\Unet Dataset\\train_gt\\6c688b8ec74baddc22268d4b4ef4d95c.jpeg\n",
      "C:\\Users\\ADMIN\\Desktop\\Unet Dataset\\train_gt\\6c6f4f219688c7e39b3608a3d372b89e.jpeg\n",
      "C:\\Users\\ADMIN\\Desktop\\Unet Dataset\\train_gt\\6d06046f5d8dd18841d318d1f625619d.jpeg\n",
      "C:\\Users\\ADMIN\\Desktop\\Unet Dataset\\train_gt\\6db034099130d98309817287a8aef566.jpeg\n",
      "C:\\Users\\ADMIN\\Desktop\\Unet Dataset\\train_gt\\6dc55c83a46ce2be9800e6c6f4f21968.jpeg\n",
      "C:\\Users\\ADMIN\\Desktop\\Unet Dataset\\train_gt\\6dde14f129dc9bac4af05b1c40a6615f.jpeg\n",
      "C:\\Users\\ADMIN\\Desktop\\Unet Dataset\\train_gt\\6df5630c2f4fc276ed9f178dc2f4af62.jpeg\n",
      "C:\\Users\\ADMIN\\Desktop\\Unet Dataset\\train_gt\\6e9bd5f0d1fd8bbf118acd7936140a2d.jpeg\n",
      "C:\\Users\\ADMIN\\Desktop\\Unet Dataset\\train_gt\\6eb91e2da9e6afaef7fdb2d45b21960c.jpeg\n",
      "C:\\Users\\ADMIN\\Desktop\\Unet Dataset\\train_gt\\6ef3065837ced5c7e06678d2a72ddff0.jpeg\n",
      "C:\\Users\\ADMIN\\Desktop\\Unet Dataset\\train_gt\\6f5d8dd18841d318d1f625619d9ae2a9.jpeg\n",
      "C:\\Users\\ADMIN\\Desktop\\Unet Dataset\\train_gt\\6fb2b87fbbcfdfb3ea1dd1faa864b404.jpeg\n",
      "C:\\Users\\ADMIN\\Desktop\\Unet Dataset\\train_gt\\7021bab9fc7330398846f67b5df7cdf3.jpeg\n",
      "C:\\Users\\ADMIN\\Desktop\\Unet Dataset\\train_gt\\707a4fdcc58c9c990b4e2a6e51d077ba.jpeg\n",
      "C:\\Users\\ADMIN\\Desktop\\Unet Dataset\\train_gt\\70866fd3c396490cf7bdbdb19b7afea1.jpeg\n",
      "C:\\Users\\ADMIN\\Desktop\\Unet Dataset\\train_gt\\70f3701ae6bcec5dd8e74f182086c88b.jpeg\n",
      "C:\\Users\\ADMIN\\Desktop\\Unet Dataset\\train_gt\\713a8763b8318ecf467d7ad048df39be.jpeg\n",
      "C:\\Users\\ADMIN\\Desktop\\Unet Dataset\\train_gt\\71d4dc3ddad260bfcb4443de3ef69f6d.jpeg\n",
      "C:\\Users\\ADMIN\\Desktop\\Unet Dataset\\train_gt\\7285e26c90e1797c77826f9a7021bab9.jpeg\n",
      "C:\\Users\\ADMIN\\Desktop\\Unet Dataset\\train_gt\\7285f1a5c73ef2620b4a15c4be73749a.jpeg\n",
      "C:\\Users\\ADMIN\\Desktop\\Unet Dataset\\train_gt\\72eae567c94ea04c603f909df7cd066b.jpeg\n",
      "C:\\Users\\ADMIN\\Desktop\\Unet Dataset\\train_gt\\72f65ddfd1518a2710d568df17586ad8.jpeg\n",
      "C:\\Users\\ADMIN\\Desktop\\Unet Dataset\\train_gt\\730831caf386f6e366943c17f87cf12b.jpeg\n",
      "C:\\Users\\ADMIN\\Desktop\\Unet Dataset\\train_gt\\7395305af926a6f23c5d6d5f35f66adf.jpeg\n",
      "C:\\Users\\ADMIN\\Desktop\\Unet Dataset\\train_gt\\74868eb60861ee1ff0b8a4f6b85d841f.jpeg\n",
      "C:\\Users\\ADMIN\\Desktop\\Unet Dataset\\train_gt\\749a0d21db70dd094a7f32574d6c748c.jpeg\n",
      "C:\\Users\\ADMIN\\Desktop\\Unet Dataset\\train_gt\\74d32ab35c9c40e48620fad66c39a6d3.jpeg\n",
      "C:\\Users\\ADMIN\\Desktop\\Unet Dataset\\train_gt\\74d6c748c41743c6c08a1d1ad8f2c5f7.jpeg\n",
      "C:\\Users\\ADMIN\\Desktop\\Unet Dataset\\train_gt\\752a9fd5decebad6c688b8ec74baddc2.jpeg\n",
      "C:\\Users\\ADMIN\\Desktop\\Unet Dataset\\train_gt\\754f28ca745212295dd542315b4c10e2.jpeg\n",
      "C:\\Users\\ADMIN\\Desktop\\Unet Dataset\\train_gt\\75945dc8ec8f02000f9b6c911c4aa179.jpeg\n",
      "C:\\Users\\ADMIN\\Desktop\\Unet Dataset\\train_gt\\75a793c4a1e4062d81e095fdc7f720ef.jpeg\n",
      "C:\\Users\\ADMIN\\Desktop\\Unet Dataset\\train_gt\\76135d76d0bbd4ce2a1405f7d507592b.jpeg\n",
      "C:\\Users\\ADMIN\\Desktop\\Unet Dataset\\train_gt\\7629ab559b28f39a546f6eeb0a13b346.jpeg\n",
      "C:\\Users\\ADMIN\\Desktop\\Unet Dataset\\train_gt\\763bdfb928d788e4237a32841b23099d.jpeg\n",
      "C:\\Users\\ADMIN\\Desktop\\Unet Dataset\\train_gt\\76900d229db65646d81526eb91e2da9e.jpeg\n",
      "C:\\Users\\ADMIN\\Desktop\\Unet Dataset\\train_gt\\769fa2d37d32780fd497e1c0e9082ea2.jpeg\n",
      "C:\\Users\\ADMIN\\Desktop\\Unet Dataset\\train_gt\\76b92633408da4bcab47c3fb256f174a.jpeg\n",
      "C:\\Users\\ADMIN\\Desktop\\Unet Dataset\\train_gt\\76b9a1db782ca0a994927d8d739c25f1.jpeg\n",
      "C:\\Users\\ADMIN\\Desktop\\Unet Dataset\\train_gt\\76d0bbd4ce2a1405f7d507592b964b79.jpeg\n",
      "C:\\Users\\ADMIN\\Desktop\\Unet Dataset\\train_gt\\76ed9f178dc2f4af626650908b1cb932.jpeg\n",
      "C:\\Users\\ADMIN\\Desktop\\Unet Dataset\\train_gt\\7712a48e11d579d903c7d178f6ea0ad8.jpeg\n",
      "C:\\Users\\ADMIN\\Desktop\\Unet Dataset\\train_gt\\771e7606cb09d1fc6869d7b4193425b9.jpeg\n",
      "C:\\Users\\ADMIN\\Desktop\\Unet Dataset\\train_gt\\774229fe1bce59ddf92e76900d229db6.jpeg\n",
      "C:\\Users\\ADMIN\\Desktop\\Unet Dataset\\train_gt\\77826f9a7021bab9fc7330398846f67b.jpeg\n",
      "C:\\Users\\ADMIN\\Desktop\\Unet Dataset\\train_gt\\77dd17ba487d4878a9bf8a6f4d4987ea.jpeg\n",
      "C:\\Users\\ADMIN\\Desktop\\Unet Dataset\\train_gt\\78a91391adc0bb223c4eaf3372eae567.jpeg\n",
      "C:\\Users\\ADMIN\\Desktop\\Unet Dataset\\train_gt\\78dc2f4af626650908b1cb932a767bf5.jpeg\n",
      "C:\\Users\\ADMIN\\Desktop\\Unet Dataset\\train_gt\\7915c942b2f94722af7f63cd771e7606.jpeg\n",
      "C:\\Users\\ADMIN\\Desktop\\Unet Dataset\\train_gt\\7918630bfd2a52829ab4e7568cb49a3c.jpeg\n",
      "C:\\Users\\ADMIN\\Desktop\\Unet Dataset\\train_gt\\79344271fa54aa1b27918630bfd2a528.jpeg\n",
      "C:\\Users\\ADMIN\\Desktop\\Unet Dataset\\train_gt\\7953b0e4909384b57bb6a052600f1f93.jpeg\n",
      "C:\\Users\\ADMIN\\Desktop\\Unet Dataset\\train_gt\\7955a1d7a36ccf1225024da63fb9a76b.jpeg\n",
      "C:\\Users\\ADMIN\\Desktop\\Unet Dataset\\train_gt\\7979870116d06046f5d8dd18841d318d.jpeg\n",
      "C:\\Users\\ADMIN\\Desktop\\Unet Dataset\\train_gt\\799235026b3550534bca540e24f48928.jpeg\n",
      "C:\\Users\\ADMIN\\Desktop\\Unet Dataset\\train_gt\\79be0dba1f3cf29dff2864e2d89df283.jpeg\n",
      "C:\\Users\\ADMIN\\Desktop\\Unet Dataset\\train_gt\\79d7c7c8d3d96fb2b87fbbcfdfb3ea1d.jpeg\n",
      "C:\\Users\\ADMIN\\Desktop\\Unet Dataset\\train_gt\\7ad649676a1d6240619ebebe9e9c9d00.jpeg\n",
      "C:\\Users\\ADMIN\\Desktop\\Unet Dataset\\train_gt\\7ae8395e56a6d9ba9d45c3dbc695325d.jpeg\n",
      "C:\\Users\\ADMIN\\Desktop\\Unet Dataset\\train_gt\\7b34db8907f74aefafdacfbed351db40.jpeg\n",
      "C:\\Users\\ADMIN\\Desktop\\Unet Dataset\\train_gt\\7b4193425b976973f13dd311a65d2b46.jpeg\n",
      "C:\\Users\\ADMIN\\Desktop\\Unet Dataset\\train_gt\\7b8bcf15050fb9af0ef92846b60b1a38.jpeg\n",
      "C:\\Users\\ADMIN\\Desktop\\Unet Dataset\\train_gt\\7c2a48847ae8395e56a6d9ba9d45c3db.jpeg\n",
      "C:\\Users\\ADMIN\\Desktop\\Unet Dataset\\train_gt\\7c38c5d07e6080779715c88d81a4106d.jpeg\n",
      "C:\\Users\\ADMIN\\Desktop\\Unet Dataset\\train_gt\\7c8743c61a01e80947f9c02314fc58bd.jpeg\n",
      "C:\\Users\\ADMIN\\Desktop\\Unet Dataset\\train_gt\\7d4c9ac32dd04cf2a6a01668d0ceca24.jpeg\n",
      "C:\\Users\\ADMIN\\Desktop\\Unet Dataset\\train_gt\\7d507592b964b7955a1d7a36ccf12250.jpeg\n",
      "C:\\Users\\ADMIN\\Desktop\\Unet Dataset\\train_gt\\7dd17ba487d4878a9bf8a6f4d4987ea3.jpeg\n",
      "C:\\Users\\ADMIN\\Desktop\\Unet Dataset\\train_gt\\7dd5277dd17ba487d4878a9bf8a6f4d4.jpeg\n",
      "C:\\Users\\ADMIN\\Desktop\\Unet Dataset\\train_gt\\7e4314fe384eb2ba3adfda6c1899fdc9.jpeg\n",
      "C:\\Users\\ADMIN\\Desktop\\Unet Dataset\\train_gt\\7e6080779715c88d81a4106de1bdb8f4.jpeg\n",
      "C:\\Users\\ADMIN\\Desktop\\Unet Dataset\\train_gt\\7e6afd56ea7bc4ba26c86b345408cc37.jpeg\n",
      "C:\\Users\\ADMIN\\Desktop\\Unet Dataset\\train_gt\\7f23de79be0dba1f3cf29dff2864e2d8.jpeg\n",
      "C:\\Users\\ADMIN\\Desktop\\Unet Dataset\\train_gt\\7f538abe9de67869ac66e565c5d4340a.jpeg\n",
      "C:\\Users\\ADMIN\\Desktop\\Unet Dataset\\train_gt\\7f720eff82f514f401ea0bd55b1393e2.jpeg\n",
      "C:\\Users\\ADMIN\\Desktop\\Unet Dataset\\train_gt\\7f8a4df1ec859759b7c8743c61a01e80.jpeg\n",
      "C:\\Users\\ADMIN\\Desktop\\Unet Dataset\\train_gt\\7f9b9d49e2f4ee17979870116d06046f.jpeg\n",
      "C:\\Users\\ADMIN\\Desktop\\Unet Dataset\\train_gt\\7fdcfa030228a69b99df08854bf95127.jpeg\n",
      "C:\\Users\\ADMIN\\Desktop\\Unet Dataset\\train_gt\\7ffa651b4774229fe1bce59ddf92e769.jpeg\n",
      "C:\\Users\\ADMIN\\Desktop\\Unet Dataset\\train_gt\\800c683ca4074c2f49c6f0fca6a4248a.jpeg\n",
      "C:\\Users\\ADMIN\\Desktop\\Unet Dataset\\train_gt\\802cf912d7aa982e29fb841ad9698b3c.jpeg\n",
      "C:\\Users\\ADMIN\\Desktop\\Unet Dataset\\train_gt\\80703003d2cbbcfa4baf386626995935.jpeg\n",
      "C:\\Users\\ADMIN\\Desktop\\Unet Dataset\\train_gt\\80779715c88d81a4106de1bdb8f4c31c.jpeg\n",
      "C:\\Users\\ADMIN\\Desktop\\Unet Dataset\\train_gt\\80cab5509b367b7048eb17aeed141edb.jpeg\n",
      "C:\\Users\\ADMIN\\Desktop\\Unet Dataset\\train_gt\\81e095fdc7f720eff82f514f401ea0bd.jpeg\n",
      "C:\\Users\\ADMIN\\Desktop\\Unet Dataset\\train_gt\\81fe4727080cae6daedd989517cb8041.jpeg\n",
      "C:\\Users\\ADMIN\\Desktop\\Unet Dataset\\train_gt\\8232510939c091a7915c942b2f94722a.jpeg\n",
      "C:\\Users\\ADMIN\\Desktop\\Unet Dataset\\train_gt\\833aa6b8232510939c091a7915c942b2.jpeg\n",
      "C:\\Users\\ADMIN\\Desktop\\Unet Dataset\\train_gt\\835c525af63a987f428c953248704ccd.jpeg\n",
      "C:\\Users\\ADMIN\\Desktop\\Unet Dataset\\train_gt\\835cf877e004e8bfb905b78a91391adc.jpeg\n",
      "C:\\Users\\ADMIN\\Desktop\\Unet Dataset\\train_gt\\8379499640676289b3e732adb4c5d158.jpeg\n",
      "C:\\Users\\ADMIN\\Desktop\\Unet Dataset\\train_gt\\837f2a0f1536ad3f6a5664c1711b62f1.jpeg\n",
      "C:\\Users\\ADMIN\\Desktop\\Unet Dataset\\train_gt\\839a76eaf622c3b3e57249fe9959a807.jpeg\n",
      "C:\\Users\\ADMIN\\Desktop\\Unet Dataset\\train_gt\\83d1d25aa396694c7a8607b26231002e.jpeg\n",
      "C:\\Users\\ADMIN\\Desktop\\Unet Dataset\\train_gt\\83ecd59f911f025ba0e3b6d0bf0b5633.jpeg\n",
      "C:\\Users\\ADMIN\\Desktop\\Unet Dataset\\train_gt\\841d318d1f625619d9ae2a9833aa6b82.jpeg\n",
      "C:\\Users\\ADMIN\\Desktop\\Unet Dataset\\train_gt\\8489f25621ee6b2905cb608d298528ce.jpeg\n",
      "C:\\Users\\ADMIN\\Desktop\\Unet Dataset\\train_gt\\8490fd7df8e26031fbb5e52c41545ba5.jpeg\n",
      "C:\\Users\\ADMIN\\Desktop\\Unet Dataset\\train_gt\\84b5dec33fd6aab9f0df70e20bccce75.jpeg\n",
      "C:\\Users\\ADMIN\\Desktop\\Unet Dataset\\train_gt\\84eb2ba3adfda6c1899fdc9837629008.jpeg\n",
      "C:\\Users\\ADMIN\\Desktop\\Unet Dataset\\train_gt\\852ba517fa9498f7b9d151055ea9b16b.jpeg\n",
      "C:\\Users\\ADMIN\\Desktop\\Unet Dataset\\train_gt\\865f6c240449ad43fe2cd066b9fdbc3b.jpeg\n",
      "C:\\Users\\ADMIN\\Desktop\\Unet Dataset\\train_gt\\866269959350e7998934d417cb2eb1ef.jpeg\n",
      "C:\\Users\\ADMIN\\Desktop\\Unet Dataset\\train_gt\\8683543f0dc6b7268821d173263d7be7.jpeg\n",
      "C:\\Users\\ADMIN\\Desktop\\Unet Dataset\\train_gt\\86a73f97dd5277dd17ba487d4878a9bf.jpeg\n",
      "C:\\Users\\ADMIN\\Desktop\\Unet Dataset\\train_gt\\86f6e366943c17f87cf12b41e5e9e504.jpeg\n",
      "C:\\Users\\ADMIN\\Desktop\\Unet Dataset\\train_gt\\871ca68e0d4bcbe0f5192e72f65ddfd1.jpeg\n",
      "C:\\Users\\ADMIN\\Desktop\\Unet Dataset\\train_gt\\874c68c030b9afea6923881bf04350ff.jpeg\n",
      "C:\\Users\\ADMIN\\Desktop\\Unet Dataset\\train_gt\\877e004e8bfb905b78a91391adc0bb22.jpeg\n",
      "C:\\Users\\ADMIN\\Desktop\\Unet Dataset\\train_gt\\87cf12b41e5e9e5040781d54ffd6a8ee.jpeg\n",
      "C:\\Users\\ADMIN\\Desktop\\Unet Dataset\\train_gt\\87d4878a9bf8a6f4d4987ea3b4bae567.jpeg\n",
      "C:\\Users\\ADMIN\\Desktop\\Unet Dataset\\train_gt\\87ffdc8d09d1185e04f4999a2e79fbc2.jpeg\n",
      "C:\\Users\\ADMIN\\Desktop\\Unet Dataset\\train_gt\\8841d318d1f625619d9ae2a9833aa6b8.jpeg\n",
      "C:\\Users\\ADMIN\\Desktop\\Unet Dataset\\train_gt\\8846f67b5df7cdf3f33c3ca4d5060a63.jpeg\n",
      "C:\\Users\\ADMIN\\Desktop\\Unet Dataset\\train_gt\\886d1697f8af9b550c1bce23b1fdd80a.jpeg\n",
      "C:\\Users\\ADMIN\\Desktop\\Unet Dataset\\train_gt\\88aa03c2820362736055807907941a84.jpeg\n",
      "C:\\Users\\ADMIN\\Desktop\\Unet Dataset\\train_gt\\893a23c466c16952b6692e6be5e8f14e.jpeg\n",
      "C:\\Users\\ADMIN\\Desktop\\Unet Dataset\\train_gt\\89805234e222e19769fa2d37d32780fd.jpeg\n",
      "C:\\Users\\ADMIN\\Desktop\\Unet Dataset\\train_gt\\89df283ecd59f911f025ba0e3b6d0bf0.jpeg\n",
      "C:\\Users\\ADMIN\\Desktop\\Unet Dataset\\train_gt\\8a1eecd70ebce6347c491b37c8c2e5a6.jpeg\n",
      "C:\\Users\\ADMIN\\Desktop\\Unet Dataset\\train_gt\\8a2710d568df17586ad8f3297c819c90.jpeg\n",
      "C:\\Users\\ADMIN\\Desktop\\Unet Dataset\\train_gt\\8a9bf8a6f4d4987ea3b4bae5672a2301.jpeg\n",
      "C:\\Users\\ADMIN\\Desktop\\Unet Dataset\\train_gt\\8aef566999467c2a48847ae8395e56a6.jpeg\n",
      "C:\\Users\\ADMIN\\Desktop\\Unet Dataset\\train_gt\\8b2be8379499640676289b3e732adb4c.jpeg\n",
      "C:\\Users\\ADMIN\\Desktop\\Unet Dataset\\train_gt\\8c41743c6c08a1d1ad8f2c5f72724e00.jpeg\n",
      "C:\\Users\\ADMIN\\Desktop\\Unet Dataset\\train_gt\\8c5f54ffaa27a623511c38948af83d1d.jpeg\n",
      "C:\\Users\\ADMIN\\Desktop\\Unet Dataset\\train_gt\\8c9431f046f281796061a924f2cc01dd.jpeg\n",
      "C:\\Users\\ADMIN\\Desktop\\Unet Dataset\\train_gt\\8ca0adabead1ae730831caf386f6e366.jpeg\n",
      "C:\\Users\\ADMIN\\Desktop\\Unet Dataset\\train_gt\\8ca745212295dd542315b4c10e2b0e33.jpeg\n",
      "C:\\Users\\ADMIN\\Desktop\\Unet Dataset\\train_gt\\8cb49a3c530b99ec16e8b659fdc988a3.jpeg\n",
      "C:\\Users\\ADMIN\\Desktop\\Unet Dataset\\train_gt\\8d3b6c0ed754f28ca745212295dd5423.jpeg\n",
      "C:\\Users\\ADMIN\\Desktop\\Unet Dataset\\train_gt\\8d3d96fb2b87fbbcfdfb3ea1dd1faa86.jpeg\n",
      "C:\\Users\\ADMIN\\Desktop\\Unet Dataset\\train_gt\\8da4bcab47c3fb256f174ae992b915a5.jpeg\n",
      "C:\\Users\\ADMIN\\Desktop\\Unet Dataset\\train_gt\\8df9da738683543f0dc6b7268821d173.jpeg\n",
      "C:\\Users\\ADMIN\\Desktop\\Unet Dataset\\train_gt\\8e5ad89d2844837f2a0f1536ad3f6a56.jpeg\n",
      "C:\\Users\\ADMIN\\Desktop\\Unet Dataset\\train_gt\\8ee924dbd70f618d52893a23c466c169.jpeg\n",
      "C:\\Users\\ADMIN\\Desktop\\Unet Dataset\\train_gt\\8f02000f9b6c911c4aa179344271fa54.jpeg\n",
      "C:\\Users\\ADMIN\\Desktop\\Unet Dataset\\train_gt\\8f2c5f72724e00d827b8bcf15050fb9a.jpeg\n",
      "C:\\Users\\ADMIN\\Desktop\\Unet Dataset\\train_gt\\90be28799235026b3550534bca540e24.jpeg\n",
      "C:\\Users\\ADMIN\\Desktop\\Unet Dataset\\train_gt\\910ea2abe3c84417fda8019410b1fcf0.jpeg\n",
      "C:\\Users\\ADMIN\\Desktop\\Unet Dataset\\train_gt\\911f025ba0e3b6d0bf0b563305998980.jpeg\n",
      "C:\\Users\\ADMIN\\Desktop\\Unet Dataset\\train_gt\\912c4fd31aaeec7b426bacd147ad6496.jpeg\n",
      "C:\\Users\\ADMIN\\Desktop\\Unet Dataset\\train_gt\\91adc0bb223c4eaf3372eae567c94ea0.jpeg\n",
      "C:\\Users\\ADMIN\\Desktop\\Unet Dataset\\train_gt\\922af6b2da43f71d4dc3ddad260bfcb4.jpeg\n",
      "C:\\Users\\ADMIN\\Desktop\\Unet Dataset\\train_gt\\925eb8e72a8438aa0ef759a3a33a0565.jpeg\n",
      "C:\\Users\\ADMIN\\Desktop\\Unet Dataset\\train_gt\\926a6f23c5d6d5f35f66adf95b204727.jpeg\n",
      "C:\\Users\\ADMIN\\Desktop\\Unet Dataset\\train_gt\\927d8d739c25f1ed7a64d0efccacf464.jpeg\n",
      "C:\\Users\\ADMIN\\Desktop\\Unet Dataset\\train_gt\\92846b60b1a38a1eecd70ebce6347c49.jpeg\n",
      "C:\\Users\\ADMIN\\Desktop\\Unet Dataset\\train_gt\\92b964b7955a1d7a36ccf1225024da63.jpeg\n",
      "C:\\Users\\ADMIN\\Desktop\\Unet Dataset\\train_gt\\92e72f65ddfd1518a2710d568df17586.jpeg\n",
      "C:\\Users\\ADMIN\\Desktop\\Unet Dataset\\train_gt\\9350e7998934d417cb2eb1ef57af2ed9.jpeg\n",
      "C:\\Users\\ADMIN\\Desktop\\Unet Dataset\\train_gt\\93a23c466c16952b6692e6be5e8f14e1.jpeg\n",
      "C:\\Users\\ADMIN\\Desktop\\Unet Dataset\\train_gt\\93c4a1e4062d81e095fdc7f720eff82f.jpeg\n",
      "C:\\Users\\ADMIN\\Desktop\\Unet Dataset\\train_gt\\93e952886d1697f8af9b550c1bce23b1.jpeg\n",
      "C:\\Users\\ADMIN\\Desktop\\Unet Dataset\\train_gt\\9424de1556a26c8eba4c1db1a0b47aa6.jpeg\n",
      "C:\\Users\\ADMIN\\Desktop\\Unet Dataset\\train_gt\\947f9c02314fc58bdb26679bff55177a.jpeg\n",
      "C:\\Users\\ADMIN\\Desktop\\Unet Dataset\\train_gt\\948a41964c1d4f50a5f3601ad4f13ccf.jpeg\n",
      "C:\\Users\\ADMIN\\Desktop\\Unet Dataset\\train_gt\\9499640676289b3e732adb4c5d158067.jpeg\n",
      "C:\\Users\\ADMIN\\Desktop\\Unet Dataset\\train_gt\\94abb47953b0e4909384b57bb6a05260.jpeg\n",
      "C:\\Users\\ADMIN\\Desktop\\Unet Dataset\\train_gt\\94ea04c603f909df7cd066b37f538abe.jpeg\n",
      "C:\\Users\\ADMIN\\Desktop\\Unet Dataset\\train_gt\\952886d1697f8af9b550c1bce23b1fdd.jpeg\n",
      "C:\\Users\\ADMIN\\Desktop\\Unet Dataset\\train_gt\\952b6692e6be5e8f14e1e0ae936de314.jpeg\n",
      "C:\\Users\\ADMIN\\Desktop\\Unet Dataset\\train_gt\\953248704ccdc265a0b0a1230b118fa8.jpeg\n",
      "C:\\Users\\ADMIN\\Desktop\\Unet Dataset\\train_gt\\954a51c9bf1440f929906d164fe7b83a.jpeg\n",
      "C:\\Users\\ADMIN\\Desktop\\Unet Dataset\\train_gt\\95dd542315b4c10e2b0e33fa12bfcd6d.jpeg\n",
      "C:\\Users\\ADMIN\\Desktop\\Unet Dataset\\train_gt\\960c94b0aab4c024a573c692195f853a.jpeg\n",
      "C:\\Users\\ADMIN\\Desktop\\Unet Dataset\\train_gt\\963e1713a8763b8318ecf467d7ad048d.jpeg\n",
      "C:\\Users\\ADMIN\\Desktop\\Unet Dataset\\train_gt\\97f8af9b550c1bce23b1fdd80af3feff.jpeg\n",
      "C:\\Users\\ADMIN\\Desktop\\Unet Dataset\\train_gt\\9833aa6b8232510939c091a7915c942b.jpeg\n",
      "C:\\Users\\ADMIN\\Desktop\\Unet Dataset\\train_gt\\984cbcc6d6bf62f215f0da4ad3a7ab8d.jpeg\n",
      "C:\\Users\\ADMIN\\Desktop\\Unet Dataset\\train_gt\\987f428c953248704ccdc265a0b0a123.jpeg\n",
      "C:\\Users\\ADMIN\\Desktop\\Unet Dataset\\train_gt\\99130d98309817287a8aef566999467c.jpeg\n",
      "C:\\Users\\ADMIN\\Desktop\\Unet Dataset\\train_gt\\994927d8d739c25f1ed7a64d0efccacf.jpeg\n",
      "C:\\Users\\ADMIN\\Desktop\\Unet Dataset\\train_gt\\9954a51c9bf1440f929906d164fe7b83.jpeg\n",
      "C:\\Users\\ADMIN\\Desktop\\Unet Dataset\\train_gt\\99fdc98376290081835cf877e004e8bf.jpeg\n",
      "C:\\Users\\ADMIN\\Desktop\\Unet Dataset\\train_gt\\9a1db782ca0a994927d8d739c25f1ed7.jpeg\n",
      "C:\\Users\\ADMIN\\Desktop\\Unet Dataset\\train_gt\\9a3a33a0565586918cd5eb80e67c9c8d.jpeg\n",
      "C:\\Users\\ADMIN\\Desktop\\Unet Dataset\\train_gt\\9a76eaf622c3b3e57249fe9959a80703.jpeg\n",
      "C:\\Users\\ADMIN\\Desktop\\Unet Dataset\\train_gt\\9ab4e7568cb49a3c530b99ec16e8b659.jpeg\n",
      "C:\\Users\\ADMIN\\Desktop\\Unet Dataset\\train_gt\\9ac66e565c5d4340aa5f7804c34a359b.jpeg\n",
      "C:\\Users\\ADMIN\\Desktop\\Unet Dataset\\train_gt\\9b28f39a546f6eeb0a13b346f09286c9.jpeg\n",
      "C:\\Users\\ADMIN\\Desktop\\Unet Dataset\\train_gt\\9b6c911c4aa179344271fa54aa1b2791.jpeg\n",
      "C:\\Users\\ADMIN\\Desktop\\Unet Dataset\\train_gt\\9b99df08854bf951276e3f404b79b666.jpeg\n",
      "C:\\Users\\ADMIN\\Desktop\\Unet Dataset\\train_gt\\9bbb402345d341253851bc866ebe4d18.jpeg\n",
      "C:\\Users\\ADMIN\\Desktop\\Unet Dataset\\train_gt\\9c02314fc58bdb26679bff55177a34fc.jpeg\n",
      "C:\\Users\\ADMIN\\Desktop\\Unet Dataset\\train_gt\\9c7c851a508273160e13bac754142447.jpeg\n",
      "C:\\Users\\ADMIN\\Desktop\\Unet Dataset\\train_gt\\9c990b4e2a6e51d077bad31c8c5f54ff.jpeg\n",
      "C:\\Users\\ADMIN\\Desktop\\Unet Dataset\\train_gt\\9ccf01a1b73b5f8ef0693db713abd61d.jpeg\n",
      "C:\\Users\\ADMIN\\Desktop\\Unet Dataset\\train_gt\\9d054d694539ef2424a9218697283baa.jpeg\n",
      "C:\\Users\\ADMIN\\Desktop\\Unet Dataset\\train_gt\\9d2844837f2a0f1536ad3f6a5664c171.jpeg\n",
      "C:\\Users\\ADMIN\\Desktop\\Unet Dataset\\train_gt\\9d33f3a7b24423d5c7edd718176ef306.jpeg\n",
      "C:\\Users\\ADMIN\\Desktop\\Unet Dataset\\train_gt\\9d45c3dbc695325ded465efde988dfb9.jpeg\n",
      "C:\\Users\\ADMIN\\Desktop\\Unet Dataset\\train_gt\\9d9ae2a9833aa6b8232510939c091a79.jpeg\n",
      "C:\\Users\\ADMIN\\Desktop\\Unet Dataset\\train_gt\\9de67869ac66e565c5d4340aa5f7804c.jpeg\n",
      "C:\\Users\\ADMIN\\Desktop\\Unet Dataset\\train_gt\\9df283ecd59f911f025ba0e3b6d0bf0b.jpeg\n",
      "C:\\Users\\ADMIN\\Desktop\\Unet Dataset\\train_gt\\9e5040781d54ffd6a8ee924dbd70f618.jpeg\n",
      "C:\\Users\\ADMIN\\Desktop\\Unet Dataset\\train_gt\\9f21b248d152b672ab3492fc6239c86a.jpeg\n",
      "C:\\Users\\ADMIN\\Desktop\\Unet Dataset\\train_gt\\9fbb63b28163a745959c03983064a3eb.jpeg\n",
      "C:\\Users\\ADMIN\\Desktop\\Unet Dataset\\train_gt\\9fd5decebad6c688b8ec74baddc22268.jpeg\n",
      "C:\\Users\\ADMIN\\Desktop\\Unet Dataset\\train_gt\\9fdc98376290081835cf877e004e8bfb.jpeg\n",
      "C:\\Users\\ADMIN\\Desktop\\Unet Dataset\\train_gt\\a032554b5eb4fcf0130a76ba2ea3ad77.jpeg\n",
      "C:\\Users\\ADMIN\\Desktop\\Unet Dataset\\train_gt\\a04c603f909df7cd066b37f538abe9de.jpeg\n",
      "C:\\Users\\ADMIN\\Desktop\\Unet Dataset\\train_gt\\a052600f1f93e952886d1697f8af9b55.jpeg\n",
      "C:\\Users\\ADMIN\\Desktop\\Unet Dataset\\train_gt\\a0565586918cd5eb80e67c9c8d5ce0c9.jpeg\n",
      "C:\\Users\\ADMIN\\Desktop\\Unet Dataset\\train_gt\\a0a994927d8d739c25f1ed7a64d0efcc.jpeg\n",
      "C:\\Users\\ADMIN\\Desktop\\Unet Dataset\\train_gt\\a0ad83b8cac03290f1b976b7a7efc10b.jpeg\n",
      "C:\\Users\\ADMIN\\Desktop\\Unet Dataset\\train_gt\\a0b0a1230b118fa8625605da2023387f.jpeg\n",
      "C:\\Users\\ADMIN\\Desktop\\Unet Dataset\\train_gt\\a0b47aa6b7b1fecb5579bf4a5ced589c.jpeg\n",
      "C:\\Users\\ADMIN\\Desktop\\Unet Dataset\\train_gt\\a0d21db70dd094a7f32574d6c748c417.jpeg\n",
      "C:\\Users\\ADMIN\\Desktop\\Unet Dataset\\train_gt\\a0ef759a3a33a0565586918cd5eb80e6.jpeg\n",
      "C:\\Users\\ADMIN\\Desktop\\Unet Dataset\\train_gt\\a168142937a1155149398b798da48d67.jpeg\n",
      "C:\\Users\\ADMIN\\Desktop\\Unet Dataset\\train_gt\\a1d1ad8f2c5f72724e00d827b8bcf150.jpeg\n",
      "C:\\Users\\ADMIN\\Desktop\\Unet Dataset\\train_gt\\a25b3887ffdc8d09d1185e04f4999a2e.jpeg\n",
      "C:\\Users\\ADMIN\\Desktop\\Unet Dataset\\train_gt\\a26c86b345408cc3736e216b08d23728.jpeg\n",
      "C:\\Users\\ADMIN\\Desktop\\Unet Dataset\\train_gt\\a26c8eba4c1db1a0b47aa6b7b1fecb55.jpeg\n",
      "C:\\Users\\ADMIN\\Desktop\\Unet Dataset\\train_gt\\a2ac9e88b2be8379499640676289b3e7.jpeg\n",
      "C:\\Users\\ADMIN\\Desktop\\Unet Dataset\\train_gt\\a2bbb610fe8c30d660e70f44c2b89cc0.jpeg\n",
      "C:\\Users\\ADMIN\\Desktop\\Unet Dataset\\train_gt\\a34fc01019eec999fd84e679b05f9a5e.jpeg\n",
      "C:\\Users\\ADMIN\\Desktop\\Unet Dataset\\train_gt\\a39099848c4425bf33b9b001c13a3d81.jpeg\n",
      "C:\\Users\\ADMIN\\Desktop\\Unet Dataset\\train_gt\\a3adfda6c1899fdc98376290081835cf.jpeg\n",
      "C:\\Users\\ADMIN\\Desktop\\Unet Dataset\\train_gt\\a3bb0e5ca159410b9fdbdd46f680afdd.jpeg\n",
      "C:\\Users\\ADMIN\\Desktop\\Unet Dataset\\train_gt\\a412fc44655fb51f809d3ddb54343665.jpeg\n",
      "C:\\Users\\ADMIN\\Desktop\\Unet Dataset\\train_gt\\a46ce2be9800e6c6f4f219688c7e39b3.jpeg\n",
      "C:\\Users\\ADMIN\\Desktop\\Unet Dataset\\train_gt\\a4baf3866269959350e7998934d417cb.jpeg\n",
      "C:\\Users\\ADMIN\\Desktop\\Unet Dataset\\train_gt\\a4df1ec859759b7c8743c61a01e80947.jpeg\n",
      "C:\\Users\\ADMIN\\Desktop\\Unet Dataset\\train_gt\\a54aa1b27918630bfd2a52829ab4e756.jpeg\n",
      "C:\\Users\\ADMIN\\Desktop\\Unet Dataset\\train_gt\\a55aadaa77712a48e11d579d903c7d17.jpeg\n",
      "C:\\Users\\ADMIN\\Desktop\\Unet Dataset\\train_gt\\a59c7de13a35276a476420655433a925.jpeg\n",
      "C:\\Users\\ADMIN\\Desktop\\Unet Dataset\\train_gt\\a64a8bd16f2523acfd87d330a5a97b8e.jpeg\n",
      "C:\\Users\\ADMIN\\Desktop\\Unet Dataset\\train_gt\\a65d2b46d0a6085835c525af63a987f4.jpeg\n",
      "C:\\Users\\ADMIN\\Desktop\\Unet Dataset\\train_gt\\a760db74a29abdb047dc0cbb58aa0325.jpeg\n",
      "C:\\Users\\ADMIN\\Desktop\\Unet Dataset\\train_gt\\a77ecc564cdc70626ab4ec3d46e602b2.jpeg\n",
      "C:\\Users\\ADMIN\\Desktop\\Unet Dataset\\train_gt\\a7ab8df9da738683543f0dc6b7268821.jpeg\n",
      "C:\\Users\\ADMIN\\Desktop\\Unet Dataset\\train_gt\\a7b24423d5c7edd718176ef3065837ce.jpeg\n",
      "C:\\Users\\ADMIN\\Desktop\\Unet Dataset\\train_gt\\a80703003d2cbbcfa4baf38662699593.jpeg\n",
      "C:\\Users\\ADMIN\\Desktop\\Unet Dataset\\train_gt\\a8aef566999467c2a48847ae8395e56a.jpeg\n",
      "C:\\Users\\ADMIN\\Desktop\\Unet Dataset\\train_gt\\a8bd16f2523acfd87d330a5a97b8eb5a.jpeg\n",
      "C:\\Users\\ADMIN\\Desktop\\Unet Dataset\\train_gt\\a8ee924dbd70f618d52893a23c466c16.jpeg\n",
      "C:\\Users\\ADMIN\\Desktop\\Unet Dataset\\train_gt\\a9218697283baa3657e4314fe384eb2b.jpeg\n",
      "C:\\Users\\ADMIN\\Desktop\\Unet Dataset\\train_gt\\a95e926dde14f129dc9bac4af05b1c40.jpeg\n",
      "C:\\Users\\ADMIN\\Desktop\\Unet Dataset\\train_gt\\aa179344271fa54aa1b27918630bfd2a.jpeg\n",
      "C:\\Users\\ADMIN\\Desktop\\Unet Dataset\\train_gt\\aa1b27918630bfd2a52829ab4e7568cb.jpeg\n",
      "C:\\Users\\ADMIN\\Desktop\\Unet Dataset\\train_gt\\aa27a623511c38948af83d1d25aa3966.jpeg\n",
      "C:\\Users\\ADMIN\\Desktop\\Unet Dataset\\train_gt\\aa3657e4314fe384eb2ba3adfda6c189.jpeg\n",
      "C:\\Users\\ADMIN\\Desktop\\Unet Dataset\\train_gt\\aa77712a48e11d579d903c7d178f6ea0.jpeg\n",
      "C:\\Users\\ADMIN\\Desktop\\Unet Dataset\\train_gt\\aa922bca73d5379c7c851a508273160e.jpeg\n",
      "C:\\Users\\ADMIN\\Desktop\\Unet Dataset\\train_gt\\aa982e29fb841ad9698b3cb63f254f6b.jpeg\n",
      "C:\\Users\\ADMIN\\Desktop\\Unet Dataset\\train_gt\\ab47c3fb256f174ae992b915a5162555.jpeg\n",
      "C:\\Users\\ADMIN\\Desktop\\Unet Dataset\\train_gt\\ab4c024a573c692195f853af7f8a4df1.jpeg\n",
      "C:\\Users\\ADMIN\\Desktop\\Unet Dataset\\train_gt\\abbdc734839a76eaf622c3b3e57249fe.jpeg\n",
      "C:\\Users\\ADMIN\\Desktop\\Unet Dataset\\train_gt\\abdb047dc0cbb58aa032554b5eb4fcf0.jpeg\n",
      "C:\\Users\\ADMIN\\Desktop\\Unet Dataset\\train_gt\\abead1ae730831caf386f6e366943c17.jpeg\n",
      "C:\\Users\\ADMIN\\Desktop\\Unet Dataset\\train_gt\\ac813fe3ccba3e032dd2948a80c64378.jpeg\n",
      "C:\\Users\\ADMIN\\Desktop\\Unet Dataset\\train_gt\\ac8d551c149b60f2965341caf528ca0a.jpeg\n",
      "C:\\Users\\ADMIN\\Desktop\\Unet Dataset\\train_gt\\acfd87d330a5a97b8eb5a9a8a8d7fcc9.jpeg\n",
      "C:\\Users\\ADMIN\\Desktop\\Unet Dataset\\train_gt\\ad1ae730831caf386f6e366943c17f87.jpeg\n",
      "C:\\Users\\ADMIN\\Desktop\\Unet Dataset\\train_gt\\ad260bfcb4443de3ef69f6db03409913.jpeg\n",
      "C:\\Users\\ADMIN\\Desktop\\Unet Dataset\\train_gt\\ad3a7ab8df9da738683543f0dc6b7268.jpeg\n",
      "C:\\Users\\ADMIN\\Desktop\\Unet Dataset\\train_gt\\ad4f13ccf1f4b331a412fc44655fb51f.jpeg\n",
      "C:\\Users\\ADMIN\\Desktop\\Unet Dataset\\train_gt\\ae567c94ea04c603f909df7cd066b37f.jpeg\n",
      "C:\\Users\\ADMIN\\Desktop\\Unet Dataset\\train_gt\\ae992b915a51625559c7e610b1531871.jpeg\n",
      "C:\\Users\\ADMIN\\Desktop\\Unet Dataset\\train_gt\\aef5ef26a77ecc564cdc70626ab4ec3d.jpeg\n",
      "C:\\Users\\ADMIN\\Desktop\\Unet Dataset\\train_gt\\af3866269959350e7998934d417cb2eb.jpeg\n",
      "C:\\Users\\ADMIN\\Desktop\\Unet Dataset\\train_gt\\af386f6e366943c17f87cf12b41e5e9e.jpeg\n",
      "C:\\Users\\ADMIN\\Desktop\\Unet Dataset\\train_gt\\af622c3b3e57249fe9959a80703003d2.jpeg\n",
      "C:\\Users\\ADMIN\\Desktop\\Unet Dataset\\train_gt\\af7f63cd771e7606cb09d1fc6869d7b4.jpeg\n",
      "C:\\Users\\ADMIN\\Desktop\\Unet Dataset\\train_gt\\afbd9871ca68e0d4bcbe0f5192e72f65.jpeg\n",
      "C:\\Users\\ADMIN\\Desktop\\Unet Dataset\\train_gt\\afd56ea7bc4ba26c86b345408cc3736e.jpeg\n",
      "C:\\Users\\ADMIN\\Desktop\\Unet Dataset\\train_gt\\afdd43725a8bbcc89c96ddca6ee1af35.jpeg\n",
      "C:\\Users\\ADMIN\\Desktop\\Unet Dataset\\train_gt\\b08d237285e26c90e1797c77826f9a70.jpeg\n",
      "C:\\Users\\ADMIN\\Desktop\\Unet Dataset\\train_gt\\b09d1fc6869d7b4193425b976973f13d.jpeg\n",
      "C:\\Users\\ADMIN\\Desktop\\Unet Dataset\\train_gt\\b0af70cc0f6d32b726342865f6c24044.jpeg\n",
      "C:\\Users\\ADMIN\\Desktop\\Unet Dataset\\train_gt\\b0e5ca159410b9fdbdd46f680afdd437.jpeg\n",
      "C:\\Users\\ADMIN\\Desktop\\Unet Dataset\\train_gt\\b145a7d8d3b6c0ed754f28ca74521229.jpeg\n",
      "C:\\Users\\ADMIN\\Desktop\\Unet Dataset\\train_gt\\b1fdd80af3feff05dec1eb3a70b145a7.jpeg\n",
      "C:\\Users\\ADMIN\\Desktop\\Unet Dataset\\train_gt\\b204727fdcfa030228a69b99df08854b.jpeg\n",
      "C:\\Users\\ADMIN\\Desktop\\Unet Dataset\\train_gt\\b28163a745959c03983064a3eb4d4903.jpeg\n",
      "C:\\Users\\ADMIN\\Desktop\\Unet Dataset\\train_gt\\b28f39a546f6eeb0a13b346f09286c94.jpeg\n",
      "C:\\Users\\ADMIN\\Desktop\\Unet Dataset\\train_gt\\b2b535797395305af926a6f23c5d6d5f.jpeg\n",
      "C:\\Users\\ADMIN\\Desktop\\Unet Dataset\\train_gt\\b2ba3adfda6c1899fdc9837629008183.jpeg\n",
      "C:\\Users\\ADMIN\\Desktop\\Unet Dataset\\train_gt\\b37c8c2e5a64a8bd16f2523acfd87d33.jpeg\n",
      "C:\\Users\\ADMIN\\Desktop\\Unet Dataset\\train_gt\\b3a70b145a7d8d3b6c0ed754f28ca745.jpeg\n",
      "C:\\Users\\ADMIN\\Desktop\\Unet Dataset\\train_gt\\b3e57249fe9959a80703003d2cbbcfa4.jpeg\n",
      "C:\\Users\\ADMIN\\Desktop\\Unet Dataset\\train_gt\\b3e732adb4c5d1580670d78b9d054d69.jpeg\n",
      "C:\\Users\\ADMIN\\Desktop\\Unet Dataset\\train_gt\\b41e5e9e5040781d54ffd6a8ee924dbd.jpeg\n",
      "C:\\Users\\ADMIN\\Desktop\\Unet Dataset\\train_gt\\b46d0a6085835c525af63a987f428c95.jpeg\n",
      "C:\\Users\\ADMIN\\Desktop\\Unet Dataset\\train_gt\\b4774229fe1bce59ddf92e76900d229d.jpeg\n",
      "C:\\Users\\ADMIN\\Desktop\\Unet Dataset\\train_gt\\b4c4137c02accbfc1328f439a117d3f8.jpeg\n",
      "C:\\Users\\ADMIN\\Desktop\\Unet Dataset\\train_gt\\b4c5d1580670d78b9d054d694539ef24.jpeg\n",
      "C:\\Users\\ADMIN\\Desktop\\Unet Dataset\\train_gt\\b4ce97629ab559b28f39a546f6eeb0a1.jpeg\n",
      "C:\\Users\\ADMIN\\Desktop\\Unet Dataset\\train_gt\\b4ec3d46e602b296cc5cfd263f1f90be.jpeg\n",
      "C:\\Users\\ADMIN\\Desktop\\Unet Dataset\\train_gt\\b51f809d3ddb54343665e7e177b15dfa.jpeg\n",
      "C:\\Users\\ADMIN\\Desktop\\Unet Dataset\\train_gt\\b5633059989805234e222e19769fa2d3.jpeg\n",
      "C:\\Users\\ADMIN\\Desktop\\Unet Dataset\\train_gt\\b57bb6a052600f1f93e952886d1697f8.jpeg\n",
      "C:\\Users\\ADMIN\\Desktop\\Unet Dataset\\train_gt\\b5eda45ffe51330463d287a51b9298e1.jpeg\n",
      "C:\\Users\\ADMIN\\Desktop\\Unet Dataset\\train_gt\\b60f2965341caf528ca0adabead1ae73.jpeg\n",
      "C:\\Users\\ADMIN\\Desktop\\Unet Dataset\\train_gt\\b6692e6be5e8f14e1e0ae936de314f2d.jpeg\n",
      "C:\\Users\\ADMIN\\Desktop\\Unet Dataset\\train_gt\\b672ab3492fc6239c86a73f97dd5277d.jpeg\n",
      "C:\\Users\\ADMIN\\Desktop\\Unet Dataset\\train_gt\\b6aa460a22abd004c33abf3ae2136cd9.jpeg\n",
      "C:\\Users\\ADMIN\\Desktop\\Unet Dataset\\train_gt\\b701fc691ffa02f6068b683019e0c84a.jpeg\n",
      "C:\\Users\\ADMIN\\Desktop\\Unet Dataset\\train_gt\\b726342865f6c240449ad43fe2cd066b.jpeg\n",
      "C:\\Users\\ADMIN\\Desktop\\Unet Dataset\\train_gt\\b7384a5dd8c9431f046f281796061a92.jpeg\n",
      "C:\\Users\\ADMIN\\Desktop\\Unet Dataset\\train_gt\\b74a29abdb047dc0cbb58aa032554b5e.jpeg\n",
      "C:\\Users\\ADMIN\\Desktop\\Unet Dataset\\train_gt\\b7955a1d7a36ccf1225024da63fb9a76.jpeg\n",
      "C:\\Users\\ADMIN\\Desktop\\Unet Dataset\\train_gt\\b79b6669075945dc8ec8f02000f9b6c9.jpeg\n",
      "C:\\Users\\ADMIN\\Desktop\\Unet Dataset\\train_gt\\b7ad1cf2eb9d32a3dc907950289e976c.jpeg\n",
      "C:\\Users\\ADMIN\\Desktop\\Unet Dataset\\train_gt\\b7c8743c61a01e80947f9c02314fc58b.jpeg\n",
      "C:\\Users\\ADMIN\\Desktop\\Unet Dataset\\train_gt\\b7f23de79be0dba1f3cf29dff2864e2d.jpeg\n",
      "C:\\Users\\ADMIN\\Desktop\\Unet Dataset\\train_gt\\b8232510939c091a7915c942b2f94722.jpeg\n",
      "C:\\Users\\ADMIN\\Desktop\\Unet Dataset\\train_gt\\b8bcf15050fb9af0ef92846b60b1a38a.jpeg\n",
      "C:\\Users\\ADMIN\\Desktop\\Unet Dataset\\train_gt\\b96d0815334875343f27ebc5d92b9076.jpeg\n",
      "C:\\Users\\ADMIN\\Desktop\\Unet Dataset\\train_gt\\b99df08854bf951276e3f404b79b6669.jpeg\n",
      "C:\\Users\\ADMIN\\Desktop\\Unet Dataset\\train_gt\\b9d49e2f4ee17979870116d06046f5d8.jpeg\n",
      "C:\\Users\\ADMIN\\Desktop\\Unet Dataset\\train_gt\\ba3137327e936a4fa0fbb89bdd490629.jpeg\n",
      "C:\\Users\\ADMIN\\Desktop\\Unet Dataset\\train_gt\\bab9fc7330398846f67b5df7cdf3f33c.jpeg\n",
      "C:\\Users\\ADMIN\\Desktop\\Unet Dataset\\train_gt\\bacdbd7e6afd56ea7bc4ba26c86b3454.jpeg\n",
      "C:\\Users\\ADMIN\\Desktop\\Unet Dataset\\train_gt\\bb223c4eaf3372eae567c94ea04c603f.jpeg\n",
      "C:\\Users\\ADMIN\\Desktop\\Unet Dataset\\train_gt\\bb3c7abacdbd7e6afd56ea7bc4ba26c8.jpeg\n",
      "C:\\Users\\ADMIN\\Desktop\\Unet Dataset\\train_gt\\bbba8f6c704801b37705c1e555525d4f.jpeg\n",
      "C:\\Users\\ADMIN\\Desktop\\Unet Dataset\\train_gt\\bbdc734839a76eaf622c3b3e57249fe9.jpeg\n",
      "C:\\Users\\ADMIN\\Desktop\\Unet Dataset\\train_gt\\bc04772d9e593b6be1ac29adbe86f03d.jpeg\n",
      "C:\\Users\\ADMIN\\Desktop\\Unet Dataset\\train_gt\\bc13ca0eaf044301ff069910ea2abe3c.jpeg\n",
      "C:\\Users\\ADMIN\\Desktop\\Unet Dataset\\train_gt\\bc4ba26c86b345408cc3736e216b08d2.jpeg\n",
      "C:\\Users\\ADMIN\\Desktop\\Unet Dataset\\train_gt\\bc5d92b9076135d76d0bbd4ce2a1405f.jpeg\n",
      "C:\\Users\\ADMIN\\Desktop\\Unet Dataset\\train_gt\\bc866ebe4d18d5401f659532897255ce.jpeg\n",
      "C:\\Users\\ADMIN\\Desktop\\Unet Dataset\\train_gt\\bc9e5a87e443434ac60af15041b1e56c.jpeg\n",
      "C:\\Users\\ADMIN\\Desktop\\Unet Dataset\\train_gt\\bca73d5379c7c851a508273160e13bac.jpeg\n",
      "C:\\Users\\ADMIN\\Desktop\\Unet Dataset\\train_gt\\bd55b1393e2ef89424de1556a26c8eba.jpeg\n",
      "C:\\Users\\ADMIN\\Desktop\\Unet Dataset\\train_gt\\bd70f618d52893a23c466c16952b6692.jpeg\n",
      "C:\\Users\\ADMIN\\Desktop\\Unet Dataset\\train_gt\\bd80d0a4d5777bbe9ebe3853f4fadef8.jpeg\n",
      "C:\\Users\\ADMIN\\Desktop\\Unet Dataset\\train_gt\\bd9ea42cfcfedb5eb2a0e4b50889d874.jpeg\n",
      "C:\\Users\\ADMIN\\Desktop\\Unet Dataset\\train_gt\\bdfb928d788e4237a32841b23099dd2e.jpeg\n",
      "C:\\Users\\ADMIN\\Desktop\\Unet Dataset\\train_gt\\be11d0309d1dff09b8405734fbeedd0f.jpeg\n",
      "C:\\Users\\ADMIN\\Desktop\\Unet Dataset\\train_gt\\be5e8f14e1e0ae936de314f2d95e6c48.jpeg\n",
      "C:\\Users\\ADMIN\\Desktop\\Unet Dataset\\train_gt\\be9800e6c6f4f219688c7e39b3608a3d.jpeg\n",
      "C:\\Users\\ADMIN\\Desktop\\Unet Dataset\\train_gt\\bf0b5633059989805234e222e19769fa.jpeg\n",
      "C:\\Users\\ADMIN\\Desktop\\Unet Dataset\\train_gt\\bfcd6da15fc656702fa602bb3c7abacd.jpeg\n",
      "C:\\Users\\ADMIN\\Desktop\\Unet Dataset\\train_gt\\bfd2a52829ab4e7568cb49a3c530b99e.jpeg\n",
      "C:\\Users\\ADMIN\\Desktop\\Unet Dataset\\train_gt\\c08a1d1ad8f2c5f72724e00d827b8bcf.jpeg\n",
      "C:\\Users\\ADMIN\\Desktop\\Unet Dataset\\train_gt\\c10e2b0e33fa12bfcd6da15fc656702f.jpeg\n",
      "C:\\Users\\ADMIN\\Desktop\\Unet Dataset\\train_gt\\c11d4f50e412144f0496b83ef461c2a3.jpeg\n",
      "C:\\Users\\ADMIN\\Desktop\\Unet Dataset\\train_gt\\c16952b6692e6be5e8f14e1e0ae936de.jpeg\n",
      "C:\\Users\\ADMIN\\Desktop\\Unet Dataset\\train_gt\\c17f87cf12b41e5e9e5040781d54ffd6.jpeg\n",
      "C:\\Users\\ADMIN\\Desktop\\Unet Dataset\\train_gt\\c1899fdc98376290081835cf877e004e.jpeg\n",
      "C:\\Users\\ADMIN\\Desktop\\Unet Dataset\\train_gt\\c1d4f50a5f3601ad4f13ccf1f4b331a4.jpeg\n",
      "C:\\Users\\ADMIN\\Desktop\\Unet Dataset\\train_gt\\c1db1a0b47aa6b7b1fecb5579bf4a5ce.jpeg\n",
      "C:\\Users\\ADMIN\\Desktop\\Unet Dataset\\train_gt\\c1e555525d4f09ce7270bfec57e44168.jpeg\n",
      "C:\\Users\\ADMIN\\Desktop\\Unet Dataset\\train_gt\\c1eb3a70b145a7d8d3b6c0ed754f28ca.jpeg\n",
      "C:\\Users\\ADMIN\\Desktop\\Unet Dataset\\train_gt\\c270866fd3c396490cf7bdbdb19b7afe.jpeg\n",
      "C:\\Users\\ADMIN\\Desktop\\Unet Dataset\\train_gt\\c2820362736055807907941a8490fd7d.jpeg\n",
      "C:\\Users\\ADMIN\\Desktop\\Unet Dataset\\train_gt\\c2a337948a41964c1d4f50a5f3601ad4.jpeg\n",
      "C:\\Users\\ADMIN\\Desktop\\Unet Dataset\\train_gt\\c2f4af626650908b1cb932a767bf5487.jpeg\n",
      "C:\\Users\\ADMIN\\Desktop\\Unet Dataset\\train_gt\\c34a359bbb402345d341253851bc866e.jpeg\n",
      "C:\\Users\\ADMIN\\Desktop\\Unet Dataset\\train_gt\\c466c16952b6692e6be5e8f14e1e0ae9.jpeg\n",
      "C:\\Users\\ADMIN\\Desktop\\Unet Dataset\\train_gt\\c487ffa651b4774229fe1bce59ddf92e.jpeg\n",
      "C:\\Users\\ADMIN\\Desktop\\Unet Dataset\\train_gt\\c4ba26c86b345408cc3736e216b08d23.jpeg\n",
      "C:\\Users\\ADMIN\\Desktop\\Unet Dataset\\train_gt\\c4c65193c5141a869d6643c270866fd3.jpeg\n",
      "C:\\Users\\ADMIN\\Desktop\\Unet Dataset\\train_gt\\c5f72724e00d827b8bcf15050fb9af0e.jpeg\n",
      "C:\\Users\\ADMIN\\Desktop\\Unet Dataset\\train_gt\\c6239c86a73f97dd5277dd17ba487d48.jpeg\n",
      "C:\\Users\\ADMIN\\Desktop\\Unet Dataset\\train_gt\\c6869d7b4193425b976973f13dd311a6.jpeg\n",
      "C:\\Users\\ADMIN\\Desktop\\Unet Dataset\\train_gt\\c688b8ec74baddc22268d4b4ef4d95ce.jpeg\n",
      "C:\\Users\\ADMIN\\Desktop\\Unet Dataset\\train_gt\\c748c41743c6c08a1d1ad8f2c5f72724.jpeg\n",
      "C:\\Users\\ADMIN\\Desktop\\Unet Dataset\\train_gt\\c7abacdbd7e6afd56ea7bc4ba26c86b3.jpeg\n",
      "C:\\Users\\ADMIN\\Desktop\\Unet Dataset\\train_gt\\c7c851a508273160e13bac7541424475.jpeg\n",
      "C:\\Users\\ADMIN\\Desktop\\Unet Dataset\\train_gt\\c859759b7c8743c61a01e80947f9c023.jpeg\n",
      "C:\\Users\\ADMIN\\Desktop\\Unet Dataset\\train_gt\\c866ebe4d18d5401f659532897255ce2.jpeg\n",
      "C:\\Users\\ADMIN\\Desktop\\Unet Dataset\\train_gt\\c86b345408cc3736e216b08d237285e2.jpeg\n",
      "C:\\Users\\ADMIN\\Desktop\\Unet Dataset\\train_gt\\c8743c61a01e80947f9c02314fc58bdb.jpeg\n",
      "C:\\Users\\ADMIN\\Desktop\\Unet Dataset\\train_gt\\c89c96ddca6ee1af35b65bd9ea42cfcf.jpeg\n",
      "C:\\Users\\ADMIN\\Desktop\\Unet Dataset\\train_gt\\c8c2e5a64a8bd16f2523acfd87d330a5.jpeg\n",
      "C:\\Users\\ADMIN\\Desktop\\Unet Dataset\\train_gt\\c8c5f54ffaa27a623511c38948af83d1.jpeg\n",
      "C:\\Users\\ADMIN\\Desktop\\Unet Dataset\\train_gt\\c8d3d96fb2b87fbbcfdfb3ea1dd1faa8.jpeg\n",
      "C:\\Users\\ADMIN\\Desktop\\Unet Dataset\\train_gt\\c94ea04c603f909df7cd066b37f538ab.jpeg\n",
      "C:\\Users\\ADMIN\\Desktop\\Unet Dataset\\train_gt\\c98376290081835cf877e004e8bfb905.jpeg\n",
      "C:\\Users\\ADMIN\\Desktop\\Unet Dataset\\train_gt\\c9d33f3a7b24423d5c7edd718176ef30.jpeg\n",
      "C:\\Users\\ADMIN\\Desktop\\Unet Dataset\\train_gt\\c9d82404c5709ec7f1fc395e7c47889e.jpeg\n",
      "C:\\Users\\ADMIN\\Desktop\\Unet Dataset\\train_gt\\ca0a994927d8d739c25f1ed7a64d0efc.jpeg\n",
      "C:\\Users\\ADMIN\\Desktop\\Unet Dataset\\train_gt\\ca73d5379c7c851a508273160e13bac7.jpeg\n",
      "C:\\Users\\ADMIN\\Desktop\\Unet Dataset\\train_gt\\ca745212295dd542315b4c10e2b0e33f.jpeg\n",
      "C:\\Users\\ADMIN\\Desktop\\Unet Dataset\\train_gt\\caf386f6e366943c17f87cf12b41e5e9.jpeg\n",
      "C:\\Users\\ADMIN\\Desktop\\Unet Dataset\\train_gt\\cb4443de3ef69f6db034099130d98309.jpeg\n",
      "C:\\Users\\ADMIN\\Desktop\\Unet Dataset\\train_gt\\cb49a3c530b99ec16e8b659fdc988a3e.jpeg\n",
      "C:\\Users\\ADMIN\\Desktop\\Unet Dataset\\train_gt\\cbc04772d9e593b6be1ac29adbe86f03.jpeg\n",
      "C:\\Users\\ADMIN\\Desktop\\Unet Dataset\\train_gt\\cbcc6d6bf62f215f0da4ad3a7ab8df9d.jpeg\n",
      "C:\\Users\\ADMIN\\Desktop\\Unet Dataset\\train_gt\\cc01dd78294679c9cbb2a365b5574868.jpeg\n",
      "C:\\Users\\ADMIN\\Desktop\\Unet Dataset\\train_gt\\cc0f6d32b726342865f6c240449ad43f.jpeg\n",
      "C:\\Users\\ADMIN\\Desktop\\Unet Dataset\\train_gt\\cc564cdc70626ab4ec3d46e602b296cc.jpeg\n",
      "C:\\Users\\ADMIN\\Desktop\\Unet Dataset\\train_gt\\cc89c96ddca6ee1af35b65bd9ea42cfc.jpeg\n",
      "C:\\Users\\ADMIN\\Desktop\\Unet Dataset\\train_gt\\ccacf464aa36bf7c09a3bb0e5ca15941.jpeg\n",
      "C:\\Users\\ADMIN\\Desktop\\Unet Dataset\\train_gt\\ccf01a1b73b5f8ef0693db713abd61db.jpeg\n",
      "C:\\Users\\ADMIN\\Desktop\\Unet Dataset\\train_gt\\cd066b37f538abe9de67869ac66e565c.jpeg\n",
      "C:\\Users\\ADMIN\\Desktop\\Unet Dataset\\train_gt\\cd59f911f025ba0e3b6d0bf0b5633059.jpeg\n",
      "C:\\Users\\ADMIN\\Desktop\\Unet Dataset\\train_gt\\cd771e7606cb09d1fc6869d7b4193425.jpeg\n",
      "C:\\Users\\ADMIN\\Desktop\\Unet Dataset\\train_gt\\cd9dd77aef5ef26a77ecc564cdc70626.jpeg\n",
      "C:\\Users\\ADMIN\\Desktop\\Unet Dataset\\train_gt\\cdc265a0b0a1230b118fa8625605da20.jpeg\n",
      "C:\\Users\\ADMIN\\Desktop\\Unet Dataset\\train_gt\\cdda5cc8a788edaeb6aa460a22abd004.jpeg\n",
      "C:\\Users\\ADMIN\\Desktop\\Unet Dataset\\train_gt\\ce15c1346e62522325c1b9c4fc9cbe1e.jpeg\n",
      "C:\\Users\\ADMIN\\Desktop\\Unet Dataset\\train_gt\\ce23b1fdd80af3feff05dec1eb3a70b1.jpeg\n",
      "C:\\Users\\ADMIN\\Desktop\\Unet Dataset\\train_gt\\ce2a1405f7d507592b964b7955a1d7a3.jpeg\n",
      "C:\\Users\\ADMIN\\Desktop\\Unet Dataset\\train_gt\\ceceffce15c1346e62522325c1b9c4fc.jpeg\n",
      "C:\\Users\\ADMIN\\Desktop\\Unet Dataset\\train_gt\\ceea11957998906d3694abb47953b0e4.jpeg\n",
      "C:\\Users\\ADMIN\\Desktop\\Unet Dataset\\train_gt\\cf1225024da63fb9a76b92633408da4b.jpeg\n",
      "C:\\Users\\ADMIN\\Desktop\\Unet Dataset\\train_gt\\cf15050fb9af0ef92846b60b1a38a1ee.jpeg\n",
      "C:\\Users\\ADMIN\\Desktop\\Unet Dataset\\train_gt\\cf1f4b331a412fc44655fb51f809d3dd.jpeg\n",
      "C:\\Users\\ADMIN\\Desktop\\Unet Dataset\\train_gt\\cfd263f1f90be28799235026b3550534.jpeg\n",
      "C:\\Users\\ADMIN\\Desktop\\Unet Dataset\\train_gt\\cfd87d330a5a97b8eb5a9a8a8d7fcc9d.jpeg\n",
      "C:\\Users\\ADMIN\\Desktop\\Unet Dataset\\train_gt\\cfedb5eb2a0e4b50889d874c68c030b9.jpeg\n",
      "C:\\Users\\ADMIN\\Desktop\\Unet Dataset\\train_gt\\d054d694539ef2424a9218697283baa3.jpeg\n",
      "C:\\Users\\ADMIN\\Desktop\\Unet Dataset\\train_gt\\d066b37f538abe9de67869ac66e565c5.jpeg\n",
      "C:\\Users\\ADMIN\\Desktop\\Unet Dataset\\train_gt\\d0815334875343f27ebc5d92b9076135.jpeg\n",
      "C:\\Users\\ADMIN\\Desktop\\Unet Dataset\\train_gt\\d152b672ab3492fc6239c86a73f97dd5.jpeg\n",
      "C:\\Users\\ADMIN\\Desktop\\Unet Dataset\\train_gt\\d197cd955fa095f978455cef3593cef2.jpeg\n",
      "C:\\Users\\ADMIN\\Desktop\\Unet Dataset\\train_gt\\d1fc6869d7b4193425b976973f13dd31.jpeg\n",
      "C:\\Users\\ADMIN\\Desktop\\Unet Dataset\\train_gt\\d1fd8bbf118acd7936140a2d5fc1443c.jpeg\n",
      "C:\\Users\\ADMIN\\Desktop\\Unet Dataset\\train_gt\\d24a2ac9e88b2be8379499640676289b.jpeg\n",
      "C:\\Users\\ADMIN\\Desktop\\Unet Dataset\\train_gt\\d260bfcb4443de3ef69f6db034099130.jpeg\n",
      "C:\\Users\\ADMIN\\Desktop\\Unet Dataset\\train_gt\\d287a51b9298e11bb07c70f3701ae6bc.jpeg\n",
      "C:\\Users\\ADMIN\\Desktop\\Unet Dataset\\train_gt\\d318d1f625619d9ae2a9833aa6b82325.jpeg\n",
      "C:\\Users\\ADMIN\\Desktop\\Unet Dataset\\train_gt\\d330a5a97b8eb5a9a8a8d7fcc9df8e5a.jpeg\n",
      "C:\\Users\\ADMIN\\Desktop\\Unet Dataset\\train_gt\\d351db40939d9a2f94285ef2a23f9dbb.jpeg\n",
      "C:\\Users\\ADMIN\\Desktop\\Unet Dataset\\train_gt\\d37d32780fd497e1c0e9082ea2c193ac.jpeg\n",
      "C:\\Users\\ADMIN\\Desktop\\Unet Dataset\\train_gt\\d4ae1b0f124dbc13ca0eaf044301ff06.jpeg\n",
      "C:\\Users\\ADMIN\\Desktop\\Unet Dataset\\train_gt\\d4f13ccf1f4b331a412fc44655fb51f8.jpeg\n",
      "C:\\Users\\ADMIN\\Desktop\\Unet Dataset\\train_gt\\d507592b964b7955a1d7a36ccf122502.jpeg\n",
      "C:\\Users\\ADMIN\\Desktop\\Unet Dataset\\train_gt\\d54ffd6a8ee924dbd70f618d52893a23.jpeg\n",
      "C:\\Users\\ADMIN\\Desktop\\Unet Dataset\\train_gt\\d6c688b8ec74baddc22268d4b4ef4d95.jpeg\n",
      "C:\\Users\\ADMIN\\Desktop\\Unet Dataset\\train_gt\\d6d5f35f66adf95b204727fdcfa03022.jpeg\n",
      "C:\\Users\\ADMIN\\Desktop\\Unet Dataset\\train_gt\\d771e7606cb09d1fc6869d7b4193425b.jpeg\n",
      "C:\\Users\\ADMIN\\Desktop\\Unet Dataset\\train_gt\\d7a36ccf1225024da63fb9a76b926334.jpeg\n",
      "C:\\Users\\ADMIN\\Desktop\\Unet Dataset\\train_gt\\d7a64d0efccacf464aa36bf7c09a3bb0.jpeg\n",
      "C:\\Users\\ADMIN\\Desktop\\Unet Dataset\\train_gt\\d7b4193425b976973f13dd311a65d2b4.jpeg\n",
      "C:\\Users\\ADMIN\\Desktop\\Unet Dataset\\train_gt\\d80176c9f800c683ca4074c2f49c6f0f.jpeg\n",
      "C:\\Users\\ADMIN\\Desktop\\Unet Dataset\\train_gt\\d81526eb91e2da9e6afaef7fdb2d45b2.jpeg\n",
      "C:\\Users\\ADMIN\\Desktop\\Unet Dataset\\train_gt\\d8d3b6c0ed754f28ca745212295dd542.jpeg\n",
      "C:\\Users\\ADMIN\\Desktop\\Unet Dataset\\train_gt\\d8d739c25f1ed7a64d0efccacf464aa3.jpeg\n",
      "C:\\Users\\ADMIN\\Desktop\\Unet Dataset\\train_gt\\d8dd18841d318d1f625619d9ae2a9833.jpeg\n",
      "C:\\Users\\ADMIN\\Desktop\\Unet Dataset\\train_gt\\d92b9076135d76d0bbd4ce2a1405f7d5.jpeg\n",
      "C:\\Users\\ADMIN\\Desktop\\Unet Dataset\\train_gt\\d9510588bec07c38c5d07e6080779715.jpeg\n",
      "C:\\Users\\ADMIN\\Desktop\\Unet Dataset\\train_gt\\da43f71d4dc3ddad260bfcb4443de3ef.jpeg\n",
      "C:\\Users\\ADMIN\\Desktop\\Unet Dataset\\train_gt\\da45ffe51330463d287a51b9298e11bb.jpeg\n",
      "C:\\Users\\ADMIN\\Desktop\\Unet Dataset\\train_gt\\da63fb9a76b92633408da4bcab47c3fb.jpeg\n",
      "C:\\Users\\ADMIN\\Desktop\\Unet Dataset\\train_gt\\da881fe4727080cae6daedd989517cb8.jpeg\n",
      "C:\\Users\\ADMIN\\Desktop\\Unet Dataset\\train_gt\\da9e6afaef7fdb2d45b21960c94b0aab.jpeg\n",
      "C:\\Users\\ADMIN\\Desktop\\Unet Dataset\\train_gt\\dacfbed351db40939d9a2f94285ef2a2.jpeg\n",
      "C:\\Users\\ADMIN\\Desktop\\Unet Dataset\\train_gt\\dad260bfcb4443de3ef69f6db0340991.jpeg\n",
      "C:\\Users\\ADMIN\\Desktop\\Unet Dataset\\train_gt\\daeb6aa460a22abd004c33abf3ae2136.jpeg\n",
      "C:\\Users\\ADMIN\\Desktop\\Unet Dataset\\train_gt\\db034099130d98309817287a8aef5669.jpeg\n",
      "C:\\Users\\ADMIN\\Desktop\\Unet Dataset\\train_gt\\db4c5d1580670d78b9d054d694539ef2.jpeg\n",
      "C:\\Users\\ADMIN\\Desktop\\Unet Dataset\\train_gt\\db55759486b8aa1b8f79bd9d436e9bd5.jpeg\n",
      "C:\\Users\\ADMIN\\Desktop\\Unet Dataset\\train_gt\\db65646d81526eb91e2da9e6afaef7fd.jpeg\n",
      "C:\\Users\\ADMIN\\Desktop\\Unet Dataset\\train_gt\\db70dd094a7f32574d6c748c41743c6c.jpeg\n",
      "C:\\Users\\ADMIN\\Desktop\\Unet Dataset\\train_gt\\db782ca0a994927d8d739c25f1ed7a64.jpeg\n",
      "C:\\Users\\ADMIN\\Desktop\\Unet Dataset\\train_gt\\dbc3bbc04a3afe1f119f21b248d152b6.jpeg\n",
      "C:\\Users\\ADMIN\\Desktop\\Unet Dataset\\train_gt\\dbd7e6afd56ea7bc4ba26c86b345408c.jpeg\n",
      "C:\\Users\\ADMIN\\Desktop\\Unet Dataset\\train_gt\\dd04cf2a6a01668d0ceca24cbb22edbd.jpeg\n",
      "C:\\Users\\ADMIN\\Desktop\\Unet Dataset\\train_gt\\dd80af3feff05dec1eb3a70b145a7d8d.jpeg\n",
      "C:\\Users\\ADMIN\\Desktop\\Unet Dataset\\train_gt\\dd989517cb8041ed86e58224cb76a67d.jpeg\n",
      "C:\\Users\\ADMIN\\Desktop\\Unet Dataset\\train_gt\\dda5cc8a788edaeb6aa460a22abd004c.jpeg\n",
      "C:\\Users\\ADMIN\\Desktop\\Unet Dataset\\train_gt\\de3ef69f6db034099130d98309817287.jpeg\n",
      "C:\\Users\\ADMIN\\Desktop\\Unet Dataset\\train_gt\\de67869ac66e565c5d4340aa5f7804c3.jpeg\n",
      "C:\\Users\\ADMIN\\Desktop\\Unet Dataset\\train_gt\\dec33fd6aab9f0df70e20bccce75a793.jpeg\n",
      "C:\\Users\\ADMIN\\Desktop\\Unet Dataset\\train_gt\\decfb143c57d89102ba1cef745d73912.jpeg\n",
      "C:\\Users\\ADMIN\\Desktop\\Unet Dataset\\train_gt\\ded465efde988dfb96d0815334875343.jpeg\n",
      "C:\\Users\\ADMIN\\Desktop\\Unet Dataset\\train_gt\\df08854bf951276e3f404b79b6669075.jpeg\n",
      "C:\\Users\\ADMIN\\Desktop\\Unet Dataset\\train_gt\\df283ecd59f911f025ba0e3b6d0bf0b5.jpeg\n",
      "C:\\Users\\ADMIN\\Desktop\\Unet Dataset\\train_gt\\dfae76b9a1db782ca0a994927d8d739c.jpeg\n",
      "C:\\Users\\ADMIN\\Desktop\\Unet Dataset\\train_gt\\dfd1518a2710d568df17586ad8f3297c.jpeg\n",
      "C:\\Users\\ADMIN\\Desktop\\Unet Dataset\\train_gt\\dfda6c1899fdc98376290081835cf877.jpeg\n",
      "C:\\Users\\ADMIN\\Desktop\\Unet Dataset\\train_gt\\dfef33d144fda8daadc8dd23ae214d84.jpeg\n",
      "C:\\Users\\ADMIN\\Desktop\\Unet Dataset\\train_gt\\dff2864e2d89df283ecd59f911f025ba.jpeg\n",
      "C:\\Users\\ADMIN\\Desktop\\Unet Dataset\\train_gt\\e0dba1f3cf29dff2864e2d89df283ecd.jpeg\n",
      "C:\\Users\\ADMIN\\Desktop\\Unet Dataset\\train_gt\\e101f07b34db8907f74aefafdacfbed3.jpeg\n",
      "C:\\Users\\ADMIN\\Desktop\\Unet Dataset\\train_gt\\e11bb07c70f3701ae6bcec5dd8e74f18.jpeg\n",
      "C:\\Users\\ADMIN\\Desktop\\Unet Dataset\\train_gt\\e1b0f124dbc13ca0eaf044301ff06991.jpeg\n",
      "C:\\Users\\ADMIN\\Desktop\\Unet Dataset\\train_gt\\e20bccce75a793c4a1e4062d81e095fd.jpeg\n",
      "C:\\Users\\ADMIN\\Desktop\\Unet Dataset\\train_gt\\e2136cd9dd77aef5ef26a77ecc564cdc.jpeg\n",
      "C:\\Users\\ADMIN\\Desktop\\Unet Dataset\\train_gt\\e23b1fdd80af3feff05dec1eb3a70b14.jpeg\n",
      "C:\\Users\\ADMIN\\Desktop\\Unet Dataset\\train_gt\\e26c90e1797c77826f9a7021bab9fc73.jpeg\n",
      "C:\\Users\\ADMIN\\Desktop\\Unet Dataset\\train_gt\\e28799235026b3550534bca540e24f48.jpeg\n",
      "C:\\Users\\ADMIN\\Desktop\\Unet Dataset\\train_gt\\e29fb841ad9698b3cb63f254f6b90e3f.jpeg\n",
      "C:\\Users\\ADMIN\\Desktop\\Unet Dataset\\train_gt\\e2a1405f7d507592b964b7955a1d7a36.jpeg\n",
      "C:\\Users\\ADMIN\\Desktop\\Unet Dataset\\train_gt\\e2dd4ae1b0f124dbc13ca0eaf044301f.jpeg\n",
      "C:\\Users\\ADMIN\\Desktop\\Unet Dataset\\train_gt\\e2ef89424de1556a26c8eba4c1db1a0b.jpeg\n",
      "C:\\Users\\ADMIN\\Desktop\\Unet Dataset\\train_gt\\e2f4ee17979870116d06046f5d8dd188.jpeg\n",
      "C:\\Users\\ADMIN\\Desktop\\Unet Dataset\\train_gt\\e319e1d6d19a707a4fdcc58c9c990b4e.jpeg\n",
      "C:\\Users\\ADMIN\\Desktop\\Unet Dataset\\train_gt\\e33fa12bfcd6da15fc656702fa602bb3.jpeg\n",
      "C:\\Users\\ADMIN\\Desktop\\Unet Dataset\\train_gt\\e3b6d0bf0b5633059989805234e222e1.jpeg\n",
      "C:\\Users\\ADMIN\\Desktop\\Unet Dataset\\train_gt\\e4909384b57bb6a052600f1f93e95288.jpeg\n",
      "C:\\Users\\ADMIN\\Desktop\\Unet Dataset\\train_gt\\e4d18d5401f659532897255ce2dd4ae1.jpeg\n",
      "C:\\Users\\ADMIN\\Desktop\\Unet Dataset\\train_gt\\e51330463d287a51b9298e11bb07c70f.jpeg\n",
      "C:\\Users\\ADMIN\\Desktop\\Unet Dataset\\train_gt\\e565c5d4340aa5f7804c34a359bbb402.jpeg\n",
      "C:\\Users\\ADMIN\\Desktop\\Unet Dataset\\train_gt\\e59ddf92e76900d229db65646d81526e.jpeg\n",
      "C:\\Users\\ADMIN\\Desktop\\Unet Dataset\\train_gt\\e6080779715c88d81a4106de1bdb8f4c.jpeg\n",
      "C:\\Users\\ADMIN\\Desktop\\Unet Dataset\\train_gt\\e6afaef7fdb2d45b21960c94b0aab4c0.jpeg\n",
      "C:\\Users\\ADMIN\\Desktop\\Unet Dataset\\train_gt\\e732adb4c5d1580670d78b9d054d6945.jpeg\n",
      "C:\\Users\\ADMIN\\Desktop\\Unet Dataset\\train_gt\\e76900d229db65646d81526eb91e2da9.jpeg\n",
      "C:\\Users\\ADMIN\\Desktop\\Unet Dataset\\train_gt\\e85d064f787d4be168d9510588bec07c.jpeg\n",
      "C:\\Users\\ADMIN\\Desktop\\Unet Dataset\\train_gt\\e9127e9632a3c6f7f7fb2a643f15bd02.jpeg\n",
      "C:\\Users\\ADMIN\\Desktop\\Unet Dataset\\train_gt\\e988dfb96d0815334875343f27ebc5d9.jpeg\n",
      "C:\\Users\\ADMIN\\Desktop\\Unet Dataset\\train_gt\\e9959a80703003d2cbbcfa4baf386626.jpeg\n",
      "C:\\Users\\ADMIN\\Desktop\\Unet Dataset\\train_gt\\e9e5040781d54ffd6a8ee924dbd70f61.jpeg\n",
      "C:\\Users\\ADMIN\\Desktop\\Unet Dataset\\train_gt\\ea1dd1faa864b404e18eeb228517f470.jpeg\n",
      "C:\\Users\\ADMIN\\Desktop\\Unet Dataset\\train_gt\\eaa922bca73d5379c7c851a508273160.jpeg\n",
      "C:\\Users\\ADMIN\\Desktop\\Unet Dataset\\train_gt\\eb2a0e4b50889d874c68c030b9afea69.jpeg\n",
      "C:\\Users\\ADMIN\\Desktop\\Unet Dataset\\train_gt\\eb4d49033c03b0af70cc0f6d32b72634.jpeg\n",
      "C:\\Users\\ADMIN\\Desktop\\Unet Dataset\\train_gt\\eb91e2da9e6afaef7fdb2d45b21960c9.jpeg\n",
      "C:\\Users\\ADMIN\\Desktop\\Unet Dataset\\train_gt\\eba4c1db1a0b47aa6b7b1fecb5579bf4.jpeg\n",
      "C:\\Users\\ADMIN\\Desktop\\Unet Dataset\\train_gt\\ebce6347c491b37c8c2e5a64a8bd16f2.jpeg\n",
      "C:\\Users\\ADMIN\\Desktop\\Unet Dataset\\train_gt\\ec1eb3a70b145a7d8d3b6c0ed754f28c.jpeg\n",
      "C:\\Users\\ADMIN\\Desktop\\Unet Dataset\\train_gt\\ecc564cdc70626ab4ec3d46e602b296c.jpeg\n",
      "C:\\Users\\ADMIN\\Desktop\\Unet Dataset\\train_gt\\ed351db40939d9a2f94285ef2a23f9db.jpeg\n",
      "C:\\Users\\ADMIN\\Desktop\\Unet Dataset\\train_gt\\ee17979870116d06046f5d8dd18841d3.jpeg\n",
      "C:\\Users\\ADMIN\\Desktop\\Unet Dataset\\train_gt\\ef3065837ced5c7e06678d2a72ddff0b.jpeg\n",
      "C:\\Users\\ADMIN\\Desktop\\Unet Dataset\\train_gt\\ef69f6db034099130d98309817287a8a.jpeg\n",
      "C:\\Users\\ADMIN\\Desktop\\Unet Dataset\\train_gt\\ef92846b60b1a38a1eecd70ebce6347c.jpeg\n",
      "C:\\Users\\ADMIN\\Desktop\\Unet Dataset\\train_gt\\eff82f514f401ea0bd55b1393e2ef894.jpeg\n",
      "C:\\Users\\ADMIN\\Desktop\\Unet Dataset\\train_gt\\f02000f9b6c911c4aa179344271fa54a.jpeg\n",
      "C:\\Users\\ADMIN\\Desktop\\Unet Dataset\\train_gt\\f04350ffd6984cbcc6d6bf62f215f0da.jpeg\n",
      "C:\\Users\\ADMIN\\Desktop\\Unet Dataset\\train_gt\\f0625f608b4ce97629ab559b28f39a54.jpeg\n",
      "C:\\Users\\ADMIN\\Desktop\\Unet Dataset\\train_gt\\f0b8a4f6b85d841fcef620546518773b.jpeg\n",
      "C:\\Users\\ADMIN\\Desktop\\Unet Dataset\\train_gt\\f0dc6b7268821d173263d7be7e12deff.jpeg\n",
      "C:\\Users\\ADMIN\\Desktop\\Unet Dataset\\train_gt\\f119f21b248d152b672ab3492fc6239c.jpeg\n",
      "C:\\Users\\ADMIN\\Desktop\\Unet Dataset\\train_gt\\f12b41e5e9e5040781d54ffd6a8ee924.jpeg\n",
      "C:\\Users\\ADMIN\\Desktop\\Unet Dataset\\train_gt\\f1ec859759b7c8743c61a01e80947f9c.jpeg\n",
      "C:\\Users\\ADMIN\\Desktop\\Unet Dataset\\train_gt\\f1f90be28799235026b3550534bca540.jpeg\n",
      "C:\\Users\\ADMIN\\Desktop\\Unet Dataset\\train_gt\\f2523acfd87d330a5a97b8eb5a9a8a8d.jpeg\n",
      "C:\\Users\\ADMIN\\Desktop\\Unet Dataset\\train_gt\\f29dff2864e2d89df283ecd59f911f02.jpeg\n",
      "C:\\Users\\ADMIN\\Desktop\\Unet Dataset\\train_gt\\f2a0f1536ad3f6a5664c1711b62f15ec.jpeg\n",
      "C:\\Users\\ADMIN\\Desktop\\Unet Dataset\\train_gt\\f2c6d40b3bbba8f6c704801b37705c1e.jpeg\n",
      "C:\\Users\\ADMIN\\Desktop\\Unet Dataset\\train_gt\\f2d95e6c487ffa651b4774229fe1bce5.jpeg\n",
      "C:\\Users\\ADMIN\\Desktop\\Unet Dataset\\train_gt\\f3372eae567c94ea04c603f909df7cd0.jpeg\n",
      "C:\\Users\\ADMIN\\Desktop\\Unet Dataset\\train_gt\\f3593cef221b7a23b8c34c4287d4c9ac.jpeg\n",
      "C:\\Users\\ADMIN\\Desktop\\Unet Dataset\\train_gt\\f35edeb1919e5149b7e87593ab2925eb.jpeg\n",
      "C:\\Users\\ADMIN\\Desktop\\Unet Dataset\\train_gt\\f3ae2136cd9dd77aef5ef26a77ecc564.jpeg\n",
      "C:\\Users\\ADMIN\\Desktop\\Unet Dataset\\train_gt\\f3cf29dff2864e2d89df283ecd59f911.jpeg\n",
      "C:\\Users\\ADMIN\\Desktop\\Unet Dataset\\train_gt\\f404b79b6669075945dc8ec8f02000f9.jpeg\n",
      "C:\\Users\\ADMIN\\Desktop\\Unet Dataset\\train_gt\\f428c953248704ccdc265a0b0a1230b1.jpeg\n",
      "C:\\Users\\ADMIN\\Desktop\\Unet Dataset\\train_gt\\f461c2a337948a41964c1d4f50a5f360.jpeg\n",
      "C:\\Users\\ADMIN\\Desktop\\Unet Dataset\\train_gt\\f489284b8e6953ad88e16d4ca6160127.jpeg\n",
      "C:\\Users\\ADMIN\\Desktop\\Unet Dataset\\train_gt\\f4c31cfc1c9d33f3a7b24423d5c7edd7.jpeg\n",
      "C:\\Users\\ADMIN\\Desktop\\Unet Dataset\\train_gt\\f4f219688c7e39b3608a3d372b89ec27.jpeg\n",
      "C:\\Users\\ADMIN\\Desktop\\Unet Dataset\\train_gt\\f55177a34fc01019eec999fd84e679b0.jpeg\n",
      "C:\\Users\\ADMIN\\Desktop\\Unet Dataset\\train_gt\\f55b0b4c4137c02accbfc1328f439a11.jpeg\n",
      "C:\\Users\\ADMIN\\Desktop\\Unet Dataset\\train_gt\\f608b4ce97629ab559b28f39a546f6ee.jpeg\n",
      "C:\\Users\\ADMIN\\Desktop\\Unet Dataset\\train_gt\\f622c3b3e57249fe9959a80703003d2c.jpeg\n",
      "C:\\Users\\ADMIN\\Desktop\\Unet Dataset\\train_gt\\f625619d9ae2a9833aa6b8232510939c.jpeg\n",
      "C:\\Users\\ADMIN\\Desktop\\Unet Dataset\\train_gt\\f6c240449ad43fe2cd066b9fdbc3bbc0.jpeg\n",
      "C:\\Users\\ADMIN\\Desktop\\Unet Dataset\\train_gt\\f6d32b726342865f6c240449ad43fe2c.jpeg\n",
      "C:\\Users\\ADMIN\\Desktop\\Unet Dataset\\train_gt\\f6ea0ad83b8cac03290f1b976b7a7efc.jpeg\n",
      "C:\\Users\\ADMIN\\Desktop\\Unet Dataset\\train_gt\\f70cc0f6d32b726342865f6c240449ad.jpeg\n",
      "C:\\Users\\ADMIN\\Desktop\\Unet Dataset\\train_gt\\f759a3a33a0565586918cd5eb80e67c9.jpeg\n",
      "C:\\Users\\ADMIN\\Desktop\\Unet Dataset\\train_gt\\f7f63cd771e7606cb09d1fc6869d7b41.jpeg\n",
      "C:\\Users\\ADMIN\\Desktop\\Unet Dataset\\train_gt\\f7f8a4df1ec859759b7c8743c61a01e8.jpeg\n",
      "C:\\Users\\ADMIN\\Desktop\\Unet Dataset\\train_gt\\f800c683ca4074c2f49c6f0fca6a4248.jpeg\n",
      "C:\\Users\\ADMIN\\Desktop\\Unet Dataset\\train_gt\\f809d3ddb54343665e7e177b15dfae76.jpeg\n",
      "C:\\Users\\ADMIN\\Desktop\\Unet Dataset\\train_gt\\f853af7f8a4df1ec859759b7c8743c61.jpeg\n",
      "C:\\Users\\ADMIN\\Desktop\\Unet Dataset\\train_gt\\f8a6f4d4987ea3b4bae5672a230194c5.jpeg\n",
      "C:\\Users\\ADMIN\\Desktop\\Unet Dataset\\train_gt\\f92846b60b1a38a1eecd70ebce6347c4.jpeg\n",
      "C:\\Users\\ADMIN\\Desktop\\Unet Dataset\\train_gt\\f93e952886d1697f8af9b550c1bce23b.jpeg\n",
      "C:\\Users\\ADMIN\\Desktop\\Unet Dataset\\train_gt\\f95b204727fdcfa030228a69b99df088.jpeg\n",
      "C:\\Users\\ADMIN\\Desktop\\Unet Dataset\\train_gt\\f970db3f998752a9fd5decebad6c688b.jpeg\n",
      "C:\\Users\\ADMIN\\Desktop\\Unet Dataset\\train_gt\\fa2d37d32780fd497e1c0e9082ea2c19.jpeg\n",
      "C:\\Users\\ADMIN\\Desktop\\Unet Dataset\\train_gt\\fa4baf3866269959350e7998934d417c.jpeg\n",
      "C:\\Users\\ADMIN\\Desktop\\Unet Dataset\\train_gt\\fa54aa1b27918630bfd2a52829ab4e75.jpeg\n",
      "C:\\Users\\ADMIN\\Desktop\\Unet Dataset\\train_gt\\faa864b404e18eeb228517f4706b508d.jpeg\n",
      "C:\\Users\\ADMIN\\Desktop\\Unet Dataset\\train_gt\\fae76b9a1db782ca0a994927d8d739c2.jpeg\n",
      "C:\\Users\\ADMIN\\Desktop\\Unet Dataset\\train_gt\\faeeb2b535797395305af926a6f23c5d.jpeg\n",
      "C:\\Users\\ADMIN\\Desktop\\Unet Dataset\\train_gt\\fb256f174ae992b915a51625559c7e61.jpeg\n",
      "C:\\Users\\ADMIN\\Desktop\\Unet Dataset\\train_gt\\fb2b87fbbcfdfb3ea1dd1faa864b404e.jpeg\n",
      "C:\\Users\\ADMIN\\Desktop\\Unet Dataset\\train_gt\\fb51f809d3ddb54343665e7e177b15df.jpeg\n",
      "C:\\Users\\ADMIN\\Desktop\\Unet Dataset\\train_gt\\fb96d0815334875343f27ebc5d92b907.jpeg\n",
      "C:\\Users\\ADMIN\\Desktop\\Unet Dataset\\train_gt\\fbbcfdfb3ea1dd1faa864b404e18eeb2.jpeg\n",
      "C:\\Users\\ADMIN\\Desktop\\Unet Dataset\\train_gt\\fc01019eec999fd84e679b05f9a5e1ac.jpeg\n",
      "C:\\Users\\ADMIN\\Desktop\\Unet Dataset\\train_gt\\fc10b1300cb1b387133b51209db6dcdd.jpeg\n",
      "C:\\Users\\ADMIN\\Desktop\\Unet Dataset\\train_gt\\fcb4443de3ef69f6db034099130d9830.jpeg\n",
      "C:\\Users\\ADMIN\\Desktop\\Unet Dataset\\train_gt\\fccacf464aa36bf7c09a3bb0e5ca1594.jpeg\n",
      "C:\\Users\\ADMIN\\Desktop\\Unet Dataset\\train_gt\\fcfedb5eb2a0e4b50889d874c68c030b.jpeg\n",
      "C:\\Users\\ADMIN\\Desktop\\Unet Dataset\\train_gt\\fd6984cbcc6d6bf62f215f0da4ad3a7a.jpeg\n",
      "C:\\Users\\ADMIN\\Desktop\\Unet Dataset\\train_gt\\fd7da881fe4727080cae6daedd989517.jpeg\n",
      "C:\\Users\\ADMIN\\Desktop\\Unet Dataset\\train_gt\\fdcc58c9c990b4e2a6e51d077bad31c8.jpeg\n",
      "C:\\Users\\ADMIN\\Desktop\\Unet Dataset\\train_gt\\fe1bce59ddf92e76900d229db65646d8.jpeg\n",
      "C:\\Users\\ADMIN\\Desktop\\Unet Dataset\\train_gt\\fe51330463d287a51b9298e11bb07c70.jpeg\n",
      "C:\\Users\\ADMIN\\Desktop\\Unet Dataset\\train_gt\\fe9959a80703003d2cbbcfa4baf38662.jpeg\n",
      "C:\\Users\\ADMIN\\Desktop\\Unet Dataset\\train_gt\\fea6923881bf04350ffd6984cbcc6d6b.jpeg\n",
      "C:\\Users\\ADMIN\\Desktop\\Unet Dataset\\train_gt\\ff0b8a4f6b85d841fcef620546518773.jpeg\n",
      "C:\\Users\\ADMIN\\Desktop\\Unet Dataset\\train_gt\\ff13a2da7be59a5529406ac1c91f53b8.jpeg\n",
      "C:\\Users\\ADMIN\\Desktop\\Unet Dataset\\train_gt\\ffb963e1713a8763b8318ecf467d7ad0.jpeg\n"
     ]
    }
   ],
   "source": [
    "def rle_to_string(runs):\n",
    "    return ' '.join(str(x) for x in runs)\n",
    "\n",
    "def rle_encode_one_mask(mask):\n",
    "    pixels = mask.flatten()\n",
    "    pixels[pixels > 225] = 255\n",
    "    pixels[pixels <= 225] = 0\n",
    "    use_padding = False\n",
    "    if pixels[0] or pixels[-1]:\n",
    "        use_padding = True\n",
    "        pixel_padded = np.zeros([len(pixels) + 2], dtype=pixels.dtype)\n",
    "        pixel_padded[1:-1] = pixels\n",
    "        pixels = pixel_padded\n",
    "    rle = np.where(pixels[1:] != pixels[:-1])[0] + 2\n",
    "    if use_padding:\n",
    "        rle = rle - 1\n",
    "    rle[1::2] = rle[1::2] - rle[:-1:2]\n",
    "    \n",
    "    return rle_to_string(rle)\n",
    "\n",
    "def rle2mask(mask_rle, shape=(3,3)):\n",
    "    s = mask_rle.split()\n",
    "    starts, lengths = [np.asarray(x, dtype=int) for x in (s[0:][::2], s[1:][::2])]\n",
    "    starts -= 1\n",
    "    ends = starts + lengths\n",
    "    img = np.zeros(shape[0]*shape[1], dtype=np.uint8)\n",
    "    for lo, hi in zip(starts, ends):\n",
    "        img[lo:hi] = 1\n",
    "    return img.reshape(shape).T\n",
    "\n",
    "def mask2string(dir):\n",
    "    strings = []\n",
    "    ids = []\n",
    "    ws, hs = [[] for i in range(2)]\n",
    "    for image_id in os.listdir(dir):\n",
    "        id = image_id.split('.')[0]\n",
    "        path = os.path.join(dir, image_id)\n",
    "        print(path)\n",
    "        img = cv2.imread(path)[:,:,::-1]\n",
    "        h, w = img.shape[0], img.shape[1]\n",
    "        for channel in range(2):\n",
    "            ws.append(w)\n",
    "            hs.append(h)\n",
    "            ids.append(f'{id}_{channel}')\n",
    "            string = rle_encode_one_mask(img[:,:,channel])\n",
    "            strings.append(string)\n",
    "    r = {\n",
    "        'ids': ids,\n",
    "        'strings': strings,\n",
    "    }\n",
    "    return r\n",
    "\n",
    "\n",
    "MASK_DIR_PATH = r'C:\\Users\\ADMIN\\Desktop\\Unet Dataset\\train_gt'\n",
    "dir = MASK_DIR_PATH\n",
    "res = mask2string(dir)\n",
    "df = pd.DataFrame(columns=['Id', 'Expected'])\n",
    "df['Id'] = res['ids']\n",
    "df['Expected'] = res['strings']\n",
    "\n",
    "df.to_csv(r'output.csv', index=False)"
   ]
  }
 ],
 "metadata": {
  "kernelspec": {
   "display_name": "Python 3",
   "language": "python",
   "name": "python3"
  },
  "language_info": {
   "codemirror_mode": {
    "name": "ipython",
    "version": 3
   },
   "file_extension": ".py",
   "mimetype": "text/x-python",
   "name": "python",
   "nbconvert_exporter": "python",
   "pygments_lexer": "ipython3",
   "version": "3.11.9"
  }
 },
 "nbformat": 4,
 "nbformat_minor": 2
}
